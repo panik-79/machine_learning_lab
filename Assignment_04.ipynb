{
  "nbformat": 4,
  "nbformat_minor": 0,
  "metadata": {
    "colab": {
      "provenance": [],
      "gpuType": "T4"
    },
    "kernelspec": {
      "name": "python3",
      "display_name": "Python 3"
    },
    "language_info": {
      "name": "python"
    },
    "accelerator": "GPU"
  },
  "cells": [
    {
      "cell_type": "markdown",
      "source": [
        "The dataset contains 14 types of flower images, including 13618 training images and 98\n",
        "validation images, with a total data size of 202MB, and supports the recognition of the following\n",
        "flower types: carnation, iris, bluebells, golden english, roses, fallen nephews, tulips, marigolds,\n",
        "dandelions, chrysanthemums, black-eyed daisies, water lilies, sunflowers, and daisies.\n",
        "<hr>\n",
        "1) Read the dataset using the os module. <br>\n",
        "2) Perform image preprocessing as per requirement. <br>\n",
        "3) Implement a neural network using keras. (transfer learning is not allowed) <br>\n",
        "4) Compile the model. <br>\n",
        "5) Print the summary of the model. <br>\n",
        "6) Fit and Evaluate the model.\n"
      ],
      "metadata": {
        "id": "Tt-WDPZaKM7Y"
      }
    },
    {
      "cell_type": "code",
      "execution_count": 1,
      "metadata": {
        "id": "GQyeZNHe8DgM"
      },
      "outputs": [],
      "source": [
        "!mkdir -p ~/.kaggle\n",
        "!cp kaggle.json ~/.kaggle/"
      ]
    },
    {
      "cell_type": "code",
      "source": [
        "!kaggle datasets download -d marquis03/flower-classification"
      ],
      "metadata": {
        "colab": {
          "base_uri": "https://localhost:8080/",
          "height": 0
        },
        "id": "NvJmVNFw-IfF",
        "outputId": "e4b8ae8c-ae64-49d0-a97f-4356c0851ba0"
      },
      "execution_count": 2,
      "outputs": [
        {
          "output_type": "stream",
          "name": "stdout",
          "text": [
            "Warning: Your Kaggle API key is readable by other users on this system! To fix this, you can run 'chmod 600 /root/.kaggle/kaggle.json'\n",
            "Downloading flower-classification.zip to /content\n",
            " 96% 197M/205M [00:00<00:00, 285MB/s]\n",
            "100% 205M/205M [00:00<00:00, 279MB/s]\n"
          ]
        }
      ]
    },
    {
      "cell_type": "code",
      "source": [
        "import zipfile\n",
        "zip_ref = zipfile.ZipFile('/content/flower-classification.zip', 'r')\n",
        "zip_ref.extractall('/content')\n",
        "zip_ref.close()"
      ],
      "metadata": {
        "id": "BTErb8Ah-LCO"
      },
      "execution_count": 3,
      "outputs": []
    },
    {
      "cell_type": "code",
      "source": [
        "import os\n",
        "import numpy as np\n",
        "import pandas as pd\n",
        "import tensorflow as tf\n",
        "from tensorflow import keras\n",
        "import keras.models\n",
        "from keras import layers\n",
        "from tensorflow.keras.layers import Conv2D, MaxPooling2D, Flatten, Dense\n",
        "from tensorflow.keras.models import Sequential\n"
      ],
      "metadata": {
        "id": "TXWzx3r7-PZx"
      },
      "execution_count": 4,
      "outputs": []
    },
    {
      "cell_type": "code",
      "source": [
        "train_dir = '/content/train'\n",
        "val_dir = '/content/val'\n",
        "train_data = keras.utils.image_dataset_from_directory(\n",
        " train_dir,\n",
        "    image_size=(224,224),\n",
        "    batch_size=128,\n",
        "    seed=3,\n",
        "    subset='training',\n",
        "    validation_split=0.1\n",
        ")\n",
        "val_data = keras.utils.image_dataset_from_directory(\n",
        "    val_dir,\n",
        "    seed=1,\n",
        "    subset='validation',\n",
        "    validation_split=0.3,\n",
        "    image_size=(224,224)\n",
        ")\n"
      ],
      "metadata": {
        "colab": {
          "base_uri": "https://localhost:8080/",
          "height": 0
        },
        "id": "frcMunYr-pxe",
        "outputId": "8a86a015-3e99-412d-a45e-0c658da375f4"
      },
      "execution_count": 5,
      "outputs": [
        {
          "output_type": "stream",
          "name": "stdout",
          "text": [
            "Found 13642 files belonging to 14 classes.\n",
            "Using 12278 files for training.\n",
            "Found 98 files belonging to 14 classes.\n",
            "Using 29 files for validation.\n"
          ]
        }
      ]
    },
    {
      "cell_type": "code",
      "source": [
        "classes = train_data.class_names\n",
        "num_classes = len(classes)\n",
        "model = keras.Sequential([\n",
        "    keras.layers.Rescaling(1./255, input_shape=(224, 224, 3)),\n",
        "    keras.layers.RandomFlip('horizontal'),\n",
        "    keras.layers.Conv2D(filters=16, kernel_size=(3, 3), padding='valid', activation='relu'),\n",
        "    keras.layers.MaxPooling2D(pool_size=(2, 2)),\n",
        "    keras.layers.Conv2D(filters=32, kernel_size=(4, 4), padding='same', activation='relu'),\n",
        "    keras.layers.MaxPooling2D(pool_size=(4, 4)),\n",
        "    keras.layers.Flatten(),\n",
        "    keras.layers.BatchNormalization(),\n",
        "    keras.layers.Dense(units=32, activation='relu'),\n",
        "    keras.layers.Dropout(rate=0.3),\n",
        "    keras.layers.Dense(units=128, activation='relu'),\n",
        "    keras.layers.Dense(units=256, activation='relu'),\n",
        "    keras.layers.Dense(units=num_classes, activation='softmax')\n",
        "])\n"
      ],
      "metadata": {
        "id": "qzsGjmsl_JgU"
      },
      "execution_count": 15,
      "outputs": []
    },
    {
      "cell_type": "code",
      "source": [
        "model.compile(optimizer='Adam', loss='sparse_categorical_crossentropy', metrics=['accuracy'])"
      ],
      "metadata": {
        "id": "1UXM9sI5BTrr"
      },
      "execution_count": 16,
      "outputs": []
    },
    {
      "cell_type": "code",
      "source": [
        "model.fit(train_data, epochs=15, validation_data = val_data)"
      ],
      "metadata": {
        "colab": {
          "base_uri": "https://localhost:8080/",
          "height": 0
        },
        "id": "XadWnzP1BoNA",
        "outputId": "45d2eabe-0f78-4f8e-ae45-323acda056b9"
      },
      "execution_count": 17,
      "outputs": [
        {
          "output_type": "stream",
          "name": "stdout",
          "text": [
            "Epoch 1/15\n",
            "96/96 [==============================] - 19s 172ms/step - loss: 1.8842 - accuracy: 0.3338 - val_loss: 2.5538 - val_accuracy: 0.1034\n",
            "Epoch 2/15\n",
            "96/96 [==============================] - 18s 174ms/step - loss: 1.5196 - accuracy: 0.4660 - val_loss: 2.5229 - val_accuracy: 0.0690\n",
            "Epoch 3/15\n",
            "96/96 [==============================] - 18s 176ms/step - loss: 1.3422 - accuracy: 0.5262 - val_loss: 2.2406 - val_accuracy: 0.3448\n",
            "Epoch 4/15\n",
            "96/96 [==============================] - 19s 186ms/step - loss: 1.1897 - accuracy: 0.5898 - val_loss: 2.0129 - val_accuracy: 0.3793\n",
            "Epoch 5/15\n",
            "96/96 [==============================] - 18s 178ms/step - loss: 1.0580 - accuracy: 0.6337 - val_loss: 1.6357 - val_accuracy: 0.5862\n",
            "Epoch 6/15\n",
            "96/96 [==============================] - 18s 182ms/step - loss: 0.9607 - accuracy: 0.6669 - val_loss: 1.2191 - val_accuracy: 0.4828\n",
            "Epoch 7/15\n",
            "96/96 [==============================] - 17s 170ms/step - loss: 0.8838 - accuracy: 0.6899 - val_loss: 1.3070 - val_accuracy: 0.5172\n",
            "Epoch 8/15\n",
            "96/96 [==============================] - 18s 183ms/step - loss: 0.8004 - accuracy: 0.7219 - val_loss: 0.9539 - val_accuracy: 0.6552\n",
            "Epoch 9/15\n",
            "96/96 [==============================] - 18s 174ms/step - loss: 0.7474 - accuracy: 0.7395 - val_loss: 1.0196 - val_accuracy: 0.6207\n",
            "Epoch 10/15\n",
            "96/96 [==============================] - 18s 181ms/step - loss: 0.6970 - accuracy: 0.7592 - val_loss: 0.9349 - val_accuracy: 0.6552\n",
            "Epoch 11/15\n",
            "96/96 [==============================] - 18s 177ms/step - loss: 0.6454 - accuracy: 0.7736 - val_loss: 1.2196 - val_accuracy: 0.5517\n",
            "Epoch 12/15\n",
            "96/96 [==============================] - 18s 182ms/step - loss: 0.5956 - accuracy: 0.7904 - val_loss: 0.9313 - val_accuracy: 0.5862\n",
            "Epoch 13/15\n",
            "96/96 [==============================] - 18s 176ms/step - loss: 0.5552 - accuracy: 0.8049 - val_loss: 1.2195 - val_accuracy: 0.5517\n",
            "Epoch 14/15\n",
            "96/96 [==============================] - 18s 175ms/step - loss: 0.5298 - accuracy: 0.8101 - val_loss: 1.1425 - val_accuracy: 0.6552\n",
            "Epoch 15/15\n",
            "96/96 [==============================] - 18s 175ms/step - loss: 0.5042 - accuracy: 0.8235 - val_loss: 1.0177 - val_accuracy: 0.7241\n"
          ]
        },
        {
          "output_type": "execute_result",
          "data": {
            "text/plain": [
              "<keras.src.callbacks.History at 0x7fb87cd28970>"
            ]
          },
          "metadata": {},
          "execution_count": 17
        }
      ]
    },
    {
      "cell_type": "code",
      "source": [
        "model.summary()"
      ],
      "metadata": {
        "colab": {
          "base_uri": "https://localhost:8080/",
          "height": 0
        },
        "id": "t7QVobWDBvHk",
        "outputId": "dd72ec8c-e55b-4e41-ac67-354bd674d909"
      },
      "execution_count": 18,
      "outputs": [
        {
          "output_type": "stream",
          "name": "stdout",
          "text": [
            "Model: \"sequential_3\"\n",
            "_________________________________________________________________\n",
            " Layer (type)                Output Shape              Param #   \n",
            "=================================================================\n",
            " rescaling_3 (Rescaling)     (None, 224, 224, 3)       0         \n",
            "                                                                 \n",
            " random_flip_3 (RandomFlip)  (None, 224, 224, 3)       0         \n",
            "                                                                 \n",
            " conv2d_6 (Conv2D)           (None, 222, 222, 16)      448       \n",
            "                                                                 \n",
            " max_pooling2d_6 (MaxPoolin  (None, 111, 111, 16)      0         \n",
            " g2D)                                                            \n",
            "                                                                 \n",
            " conv2d_7 (Conv2D)           (None, 111, 111, 32)      8224      \n",
            "                                                                 \n",
            " max_pooling2d_7 (MaxPoolin  (None, 27, 27, 32)        0         \n",
            " g2D)                                                            \n",
            "                                                                 \n",
            " flatten_3 (Flatten)         (None, 23328)             0         \n",
            "                                                                 \n",
            " batch_normalization_3 (Bat  (None, 23328)             93312     \n",
            " chNormalization)                                                \n",
            "                                                                 \n",
            " dense_12 (Dense)            (None, 32)                746528    \n",
            "                                                                 \n",
            " dropout_3 (Dropout)         (None, 32)                0         \n",
            "                                                                 \n",
            " dense_13 (Dense)            (None, 128)               4224      \n",
            "                                                                 \n",
            " dense_14 (Dense)            (None, 256)               33024     \n",
            "                                                                 \n",
            " dense_15 (Dense)            (None, 14)                3598      \n",
            "                                                                 \n",
            "=================================================================\n",
            "Total params: 889358 (3.39 MB)\n",
            "Trainable params: 842702 (3.21 MB)\n",
            "Non-trainable params: 46656 (182.25 KB)\n",
            "_________________________________________________________________\n"
          ]
        }
      ]
    },
    {
      "cell_type": "code",
      "source": [
        "evaluation_result = model.evaluate(val_data)\n",
        "print(\"Evaluation Loss:\", evaluation_result[0])\n",
        "print(\"Evaluation Accuracy:\", evaluation_result[1])"
      ],
      "metadata": {
        "colab": {
          "base_uri": "https://localhost:8080/",
          "height": 0
        },
        "id": "_UeqHHj3J6PU",
        "outputId": "c399355d-577a-4094-9bb7-cc6918f26484"
      },
      "execution_count": 19,
      "outputs": [
        {
          "output_type": "stream",
          "name": "stdout",
          "text": [
            "1/1 [==============================] - 0s 75ms/step - loss: 1.0177 - accuracy: 0.7241\n",
            "Evaluation Loss: 1.0176910161972046\n",
            "Evaluation Accuracy: 0.7241379022598267\n"
          ]
        }
      ]
    },
    {
      "cell_type": "code",
      "source": [],
      "metadata": {
        "id": "6pUlxkU4KBzd"
      },
      "execution_count": null,
      "outputs": []
    }
  ]
}