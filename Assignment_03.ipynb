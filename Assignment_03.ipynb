{
  "nbformat": 4,
  "nbformat_minor": 0,
  "metadata": {
    "colab": {
      "provenance": [],
      "collapsed_sections": [
        "xiVhz9qWuwDg",
        "DCVF7YzDySU3"
      ]
    },
    "kernelspec": {
      "name": "python3",
      "display_name": "Python 3"
    },
    "language_info": {
      "name": "python"
    }
  },
  "cells": [
    {
      "cell_type": "code",
      "execution_count": 1256,
      "metadata": {
        "id": "lrzlhxPE5QY9"
      },
      "outputs": [],
      "source": [
        "import pandas as pd\n",
        "import numpy as np"
      ]
    },
    {
      "cell_type": "code",
      "source": [
        "import matplotlib.pyplot as plt\n",
        "import seaborn as sns"
      ],
      "metadata": {
        "id": "5wdTLc4t77Ts"
      },
      "execution_count": 1257,
      "outputs": []
    },
    {
      "cell_type": "code",
      "source": [
        "df=pd.read_csv(\"/content/Housing - Housing.csv\")"
      ],
      "metadata": {
        "id": "Ck6_CZB67h8r"
      },
      "execution_count": 1258,
      "outputs": []
    },
    {
      "cell_type": "code",
      "source": [
        "df.head()"
      ],
      "metadata": {
        "colab": {
          "base_uri": "https://localhost:8080/",
          "height": 206
        },
        "id": "Mj7Foe1w7oQj",
        "outputId": "c161b3aa-1e99-4f68-fd50-c32a0fb71d31"
      },
      "execution_count": 1259,
      "outputs": [
        {
          "output_type": "execute_result",
          "data": {
            "text/plain": [
              "      price    area  bedrooms  bathrooms  stories mainroad guestroom basement  \\\n",
              "0  13300000  7420.0       4.0          2      3.0      yes        no       no   \n",
              "1  12250000  8960.0       4.0          4      4.0      yes        no       no   \n",
              "2  12250000  9960.0       3.0          2      2.0      yes        no      yes   \n",
              "3  12215000  7500.0       4.0          2      2.0      yes        no      yes   \n",
              "4  11410000  7420.0       4.0          1      2.0      yes       yes      NaN   \n",
              "\n",
              "  hotwaterheating airconditioning  parking prefarea furnishingstatus  \n",
              "0              no             yes        2      yes        furnished  \n",
              "1              no             yes        3       no        furnished  \n",
              "2              no              no        2      yes   semi-furnished  \n",
              "3              no             yes        3      yes        furnished  \n",
              "4              no             yes        2       no        furnished  "
            ],
            "text/html": [
              "\n",
              "  <div id=\"df-605139a6-6a4e-40b0-8332-015d517bcdc1\" class=\"colab-df-container\">\n",
              "    <div>\n",
              "<style scoped>\n",
              "    .dataframe tbody tr th:only-of-type {\n",
              "        vertical-align: middle;\n",
              "    }\n",
              "\n",
              "    .dataframe tbody tr th {\n",
              "        vertical-align: top;\n",
              "    }\n",
              "\n",
              "    .dataframe thead th {\n",
              "        text-align: right;\n",
              "    }\n",
              "</style>\n",
              "<table border=\"1\" class=\"dataframe\">\n",
              "  <thead>\n",
              "    <tr style=\"text-align: right;\">\n",
              "      <th></th>\n",
              "      <th>price</th>\n",
              "      <th>area</th>\n",
              "      <th>bedrooms</th>\n",
              "      <th>bathrooms</th>\n",
              "      <th>stories</th>\n",
              "      <th>mainroad</th>\n",
              "      <th>guestroom</th>\n",
              "      <th>basement</th>\n",
              "      <th>hotwaterheating</th>\n",
              "      <th>airconditioning</th>\n",
              "      <th>parking</th>\n",
              "      <th>prefarea</th>\n",
              "      <th>furnishingstatus</th>\n",
              "    </tr>\n",
              "  </thead>\n",
              "  <tbody>\n",
              "    <tr>\n",
              "      <th>0</th>\n",
              "      <td>13300000</td>\n",
              "      <td>7420.0</td>\n",
              "      <td>4.0</td>\n",
              "      <td>2</td>\n",
              "      <td>3.0</td>\n",
              "      <td>yes</td>\n",
              "      <td>no</td>\n",
              "      <td>no</td>\n",
              "      <td>no</td>\n",
              "      <td>yes</td>\n",
              "      <td>2</td>\n",
              "      <td>yes</td>\n",
              "      <td>furnished</td>\n",
              "    </tr>\n",
              "    <tr>\n",
              "      <th>1</th>\n",
              "      <td>12250000</td>\n",
              "      <td>8960.0</td>\n",
              "      <td>4.0</td>\n",
              "      <td>4</td>\n",
              "      <td>4.0</td>\n",
              "      <td>yes</td>\n",
              "      <td>no</td>\n",
              "      <td>no</td>\n",
              "      <td>no</td>\n",
              "      <td>yes</td>\n",
              "      <td>3</td>\n",
              "      <td>no</td>\n",
              "      <td>furnished</td>\n",
              "    </tr>\n",
              "    <tr>\n",
              "      <th>2</th>\n",
              "      <td>12250000</td>\n",
              "      <td>9960.0</td>\n",
              "      <td>3.0</td>\n",
              "      <td>2</td>\n",
              "      <td>2.0</td>\n",
              "      <td>yes</td>\n",
              "      <td>no</td>\n",
              "      <td>yes</td>\n",
              "      <td>no</td>\n",
              "      <td>no</td>\n",
              "      <td>2</td>\n",
              "      <td>yes</td>\n",
              "      <td>semi-furnished</td>\n",
              "    </tr>\n",
              "    <tr>\n",
              "      <th>3</th>\n",
              "      <td>12215000</td>\n",
              "      <td>7500.0</td>\n",
              "      <td>4.0</td>\n",
              "      <td>2</td>\n",
              "      <td>2.0</td>\n",
              "      <td>yes</td>\n",
              "      <td>no</td>\n",
              "      <td>yes</td>\n",
              "      <td>no</td>\n",
              "      <td>yes</td>\n",
              "      <td>3</td>\n",
              "      <td>yes</td>\n",
              "      <td>furnished</td>\n",
              "    </tr>\n",
              "    <tr>\n",
              "      <th>4</th>\n",
              "      <td>11410000</td>\n",
              "      <td>7420.0</td>\n",
              "      <td>4.0</td>\n",
              "      <td>1</td>\n",
              "      <td>2.0</td>\n",
              "      <td>yes</td>\n",
              "      <td>yes</td>\n",
              "      <td>NaN</td>\n",
              "      <td>no</td>\n",
              "      <td>yes</td>\n",
              "      <td>2</td>\n",
              "      <td>no</td>\n",
              "      <td>furnished</td>\n",
              "    </tr>\n",
              "  </tbody>\n",
              "</table>\n",
              "</div>\n",
              "    <div class=\"colab-df-buttons\">\n",
              "\n",
              "  <div class=\"colab-df-container\">\n",
              "    <button class=\"colab-df-convert\" onclick=\"convertToInteractive('df-605139a6-6a4e-40b0-8332-015d517bcdc1')\"\n",
              "            title=\"Convert this dataframe to an interactive table.\"\n",
              "            style=\"display:none;\">\n",
              "\n",
              "  <svg xmlns=\"http://www.w3.org/2000/svg\" height=\"24px\" viewBox=\"0 -960 960 960\">\n",
              "    <path d=\"M120-120v-720h720v720H120Zm60-500h600v-160H180v160Zm220 220h160v-160H400v160Zm0 220h160v-160H400v160ZM180-400h160v-160H180v160Zm440 0h160v-160H620v160ZM180-180h160v-160H180v160Zm440 0h160v-160H620v160Z\"/>\n",
              "  </svg>\n",
              "    </button>\n",
              "\n",
              "  <style>\n",
              "    .colab-df-container {\n",
              "      display:flex;\n",
              "      gap: 12px;\n",
              "    }\n",
              "\n",
              "    .colab-df-convert {\n",
              "      background-color: #E8F0FE;\n",
              "      border: none;\n",
              "      border-radius: 50%;\n",
              "      cursor: pointer;\n",
              "      display: none;\n",
              "      fill: #1967D2;\n",
              "      height: 32px;\n",
              "      padding: 0 0 0 0;\n",
              "      width: 32px;\n",
              "    }\n",
              "\n",
              "    .colab-df-convert:hover {\n",
              "      background-color: #E2EBFA;\n",
              "      box-shadow: 0px 1px 2px rgba(60, 64, 67, 0.3), 0px 1px 3px 1px rgba(60, 64, 67, 0.15);\n",
              "      fill: #174EA6;\n",
              "    }\n",
              "\n",
              "    .colab-df-buttons div {\n",
              "      margin-bottom: 4px;\n",
              "    }\n",
              "\n",
              "    [theme=dark] .colab-df-convert {\n",
              "      background-color: #3B4455;\n",
              "      fill: #D2E3FC;\n",
              "    }\n",
              "\n",
              "    [theme=dark] .colab-df-convert:hover {\n",
              "      background-color: #434B5C;\n",
              "      box-shadow: 0px 1px 3px 1px rgba(0, 0, 0, 0.15);\n",
              "      filter: drop-shadow(0px 1px 2px rgba(0, 0, 0, 0.3));\n",
              "      fill: #FFFFFF;\n",
              "    }\n",
              "  </style>\n",
              "\n",
              "    <script>\n",
              "      const buttonEl =\n",
              "        document.querySelector('#df-605139a6-6a4e-40b0-8332-015d517bcdc1 button.colab-df-convert');\n",
              "      buttonEl.style.display =\n",
              "        google.colab.kernel.accessAllowed ? 'block' : 'none';\n",
              "\n",
              "      async function convertToInteractive(key) {\n",
              "        const element = document.querySelector('#df-605139a6-6a4e-40b0-8332-015d517bcdc1');\n",
              "        const dataTable =\n",
              "          await google.colab.kernel.invokeFunction('convertToInteractive',\n",
              "                                                    [key], {});\n",
              "        if (!dataTable) return;\n",
              "\n",
              "        const docLinkHtml = 'Like what you see? Visit the ' +\n",
              "          '<a target=\"_blank\" href=https://colab.research.google.com/notebooks/data_table.ipynb>data table notebook</a>'\n",
              "          + ' to learn more about interactive tables.';\n",
              "        element.innerHTML = '';\n",
              "        dataTable['output_type'] = 'display_data';\n",
              "        await google.colab.output.renderOutput(dataTable, element);\n",
              "        const docLink = document.createElement('div');\n",
              "        docLink.innerHTML = docLinkHtml;\n",
              "        element.appendChild(docLink);\n",
              "      }\n",
              "    </script>\n",
              "  </div>\n",
              "\n",
              "\n",
              "<div id=\"df-565db61a-6389-463d-a643-7afedaa2a8ec\">\n",
              "  <button class=\"colab-df-quickchart\" onclick=\"quickchart('df-565db61a-6389-463d-a643-7afedaa2a8ec')\"\n",
              "            title=\"Suggest charts\"\n",
              "            style=\"display:none;\">\n",
              "\n",
              "<svg xmlns=\"http://www.w3.org/2000/svg\" height=\"24px\"viewBox=\"0 0 24 24\"\n",
              "     width=\"24px\">\n",
              "    <g>\n",
              "        <path d=\"M19 3H5c-1.1 0-2 .9-2 2v14c0 1.1.9 2 2 2h14c1.1 0 2-.9 2-2V5c0-1.1-.9-2-2-2zM9 17H7v-7h2v7zm4 0h-2V7h2v10zm4 0h-2v-4h2v4z\"/>\n",
              "    </g>\n",
              "</svg>\n",
              "  </button>\n",
              "\n",
              "<style>\n",
              "  .colab-df-quickchart {\n",
              "      --bg-color: #E8F0FE;\n",
              "      --fill-color: #1967D2;\n",
              "      --hover-bg-color: #E2EBFA;\n",
              "      --hover-fill-color: #174EA6;\n",
              "      --disabled-fill-color: #AAA;\n",
              "      --disabled-bg-color: #DDD;\n",
              "  }\n",
              "\n",
              "  [theme=dark] .colab-df-quickchart {\n",
              "      --bg-color: #3B4455;\n",
              "      --fill-color: #D2E3FC;\n",
              "      --hover-bg-color: #434B5C;\n",
              "      --hover-fill-color: #FFFFFF;\n",
              "      --disabled-bg-color: #3B4455;\n",
              "      --disabled-fill-color: #666;\n",
              "  }\n",
              "\n",
              "  .colab-df-quickchart {\n",
              "    background-color: var(--bg-color);\n",
              "    border: none;\n",
              "    border-radius: 50%;\n",
              "    cursor: pointer;\n",
              "    display: none;\n",
              "    fill: var(--fill-color);\n",
              "    height: 32px;\n",
              "    padding: 0;\n",
              "    width: 32px;\n",
              "  }\n",
              "\n",
              "  .colab-df-quickchart:hover {\n",
              "    background-color: var(--hover-bg-color);\n",
              "    box-shadow: 0 1px 2px rgba(60, 64, 67, 0.3), 0 1px 3px 1px rgba(60, 64, 67, 0.15);\n",
              "    fill: var(--button-hover-fill-color);\n",
              "  }\n",
              "\n",
              "  .colab-df-quickchart-complete:disabled,\n",
              "  .colab-df-quickchart-complete:disabled:hover {\n",
              "    background-color: var(--disabled-bg-color);\n",
              "    fill: var(--disabled-fill-color);\n",
              "    box-shadow: none;\n",
              "  }\n",
              "\n",
              "  .colab-df-spinner {\n",
              "    border: 2px solid var(--fill-color);\n",
              "    border-color: transparent;\n",
              "    border-bottom-color: var(--fill-color);\n",
              "    animation:\n",
              "      spin 1s steps(1) infinite;\n",
              "  }\n",
              "\n",
              "  @keyframes spin {\n",
              "    0% {\n",
              "      border-color: transparent;\n",
              "      border-bottom-color: var(--fill-color);\n",
              "      border-left-color: var(--fill-color);\n",
              "    }\n",
              "    20% {\n",
              "      border-color: transparent;\n",
              "      border-left-color: var(--fill-color);\n",
              "      border-top-color: var(--fill-color);\n",
              "    }\n",
              "    30% {\n",
              "      border-color: transparent;\n",
              "      border-left-color: var(--fill-color);\n",
              "      border-top-color: var(--fill-color);\n",
              "      border-right-color: var(--fill-color);\n",
              "    }\n",
              "    40% {\n",
              "      border-color: transparent;\n",
              "      border-right-color: var(--fill-color);\n",
              "      border-top-color: var(--fill-color);\n",
              "    }\n",
              "    60% {\n",
              "      border-color: transparent;\n",
              "      border-right-color: var(--fill-color);\n",
              "    }\n",
              "    80% {\n",
              "      border-color: transparent;\n",
              "      border-right-color: var(--fill-color);\n",
              "      border-bottom-color: var(--fill-color);\n",
              "    }\n",
              "    90% {\n",
              "      border-color: transparent;\n",
              "      border-bottom-color: var(--fill-color);\n",
              "    }\n",
              "  }\n",
              "</style>\n",
              "\n",
              "  <script>\n",
              "    async function quickchart(key) {\n",
              "      const quickchartButtonEl =\n",
              "        document.querySelector('#' + key + ' button');\n",
              "      quickchartButtonEl.disabled = true;  // To prevent multiple clicks.\n",
              "      quickchartButtonEl.classList.add('colab-df-spinner');\n",
              "      try {\n",
              "        const charts = await google.colab.kernel.invokeFunction(\n",
              "            'suggestCharts', [key], {});\n",
              "      } catch (error) {\n",
              "        console.error('Error during call to suggestCharts:', error);\n",
              "      }\n",
              "      quickchartButtonEl.classList.remove('colab-df-spinner');\n",
              "      quickchartButtonEl.classList.add('colab-df-quickchart-complete');\n",
              "    }\n",
              "    (() => {\n",
              "      let quickchartButtonEl =\n",
              "        document.querySelector('#df-565db61a-6389-463d-a643-7afedaa2a8ec button');\n",
              "      quickchartButtonEl.style.display =\n",
              "        google.colab.kernel.accessAllowed ? 'block' : 'none';\n",
              "    })();\n",
              "  </script>\n",
              "</div>\n",
              "    </div>\n",
              "  </div>\n"
            ]
          },
          "metadata": {},
          "execution_count": 1259
        }
      ]
    },
    {
      "cell_type": "code",
      "source": [
        "df.describe(include='all')"
      ],
      "metadata": {
        "colab": {
          "base_uri": "https://localhost:8080/",
          "height": 394
        },
        "id": "VvZA8LP09jEj",
        "outputId": "f18dcf79-87dc-47cc-f490-ad9e7a509b91"
      },
      "execution_count": 1260,
      "outputs": [
        {
          "output_type": "execute_result",
          "data": {
            "text/plain": [
              "               price          area    bedrooms   bathrooms     stories  \\\n",
              "count   5.450000e+02    539.000000  543.000000  545.000000  543.000000   \n",
              "unique           NaN           NaN         NaN         NaN         NaN   \n",
              "top              NaN           NaN         NaN         NaN         NaN   \n",
              "freq             NaN           NaN         NaN         NaN         NaN   \n",
              "mean    4.766729e+06   5126.870130    2.963168    1.286239    1.804788   \n",
              "std     1.870440e+06   2159.433198    0.738083    0.502470    0.869011   \n",
              "min     1.750000e+06   1650.000000    1.000000    1.000000    1.000000   \n",
              "25%     3.430000e+06   3577.000000    2.000000    1.000000    1.000000   \n",
              "50%     4.340000e+06   4510.000000    3.000000    1.000000    2.000000   \n",
              "75%     5.740000e+06   6360.000000    3.000000    2.000000    2.000000   \n",
              "max     1.330000e+07  16200.000000    6.000000    4.000000    4.000000   \n",
              "\n",
              "       mainroad guestroom basement hotwaterheating airconditioning  \\\n",
              "count       544       545      543             543             542   \n",
              "unique        2         2        2               2               2   \n",
              "top         yes        no       no              no              no   \n",
              "freq        467       448      354             519             372   \n",
              "mean        NaN       NaN      NaN             NaN             NaN   \n",
              "std         NaN       NaN      NaN             NaN             NaN   \n",
              "min         NaN       NaN      NaN             NaN             NaN   \n",
              "25%         NaN       NaN      NaN             NaN             NaN   \n",
              "50%         NaN       NaN      NaN             NaN             NaN   \n",
              "75%         NaN       NaN      NaN             NaN             NaN   \n",
              "max         NaN       NaN      NaN             NaN             NaN   \n",
              "\n",
              "           parking prefarea furnishingstatus  \n",
              "count   545.000000      543              539  \n",
              "unique         NaN        2                3  \n",
              "top            NaN       no   semi-furnished  \n",
              "freq           NaN      416              223  \n",
              "mean      0.693578      NaN              NaN  \n",
              "std       0.861586      NaN              NaN  \n",
              "min       0.000000      NaN              NaN  \n",
              "25%       0.000000      NaN              NaN  \n",
              "50%       0.000000      NaN              NaN  \n",
              "75%       1.000000      NaN              NaN  \n",
              "max       3.000000      NaN              NaN  "
            ],
            "text/html": [
              "\n",
              "  <div id=\"df-9a8282f5-75fd-43ef-bd95-0dc2901a3502\" class=\"colab-df-container\">\n",
              "    <div>\n",
              "<style scoped>\n",
              "    .dataframe tbody tr th:only-of-type {\n",
              "        vertical-align: middle;\n",
              "    }\n",
              "\n",
              "    .dataframe tbody tr th {\n",
              "        vertical-align: top;\n",
              "    }\n",
              "\n",
              "    .dataframe thead th {\n",
              "        text-align: right;\n",
              "    }\n",
              "</style>\n",
              "<table border=\"1\" class=\"dataframe\">\n",
              "  <thead>\n",
              "    <tr style=\"text-align: right;\">\n",
              "      <th></th>\n",
              "      <th>price</th>\n",
              "      <th>area</th>\n",
              "      <th>bedrooms</th>\n",
              "      <th>bathrooms</th>\n",
              "      <th>stories</th>\n",
              "      <th>mainroad</th>\n",
              "      <th>guestroom</th>\n",
              "      <th>basement</th>\n",
              "      <th>hotwaterheating</th>\n",
              "      <th>airconditioning</th>\n",
              "      <th>parking</th>\n",
              "      <th>prefarea</th>\n",
              "      <th>furnishingstatus</th>\n",
              "    </tr>\n",
              "  </thead>\n",
              "  <tbody>\n",
              "    <tr>\n",
              "      <th>count</th>\n",
              "      <td>5.450000e+02</td>\n",
              "      <td>539.000000</td>\n",
              "      <td>543.000000</td>\n",
              "      <td>545.000000</td>\n",
              "      <td>543.000000</td>\n",
              "      <td>544</td>\n",
              "      <td>545</td>\n",
              "      <td>543</td>\n",
              "      <td>543</td>\n",
              "      <td>542</td>\n",
              "      <td>545.000000</td>\n",
              "      <td>543</td>\n",
              "      <td>539</td>\n",
              "    </tr>\n",
              "    <tr>\n",
              "      <th>unique</th>\n",
              "      <td>NaN</td>\n",
              "      <td>NaN</td>\n",
              "      <td>NaN</td>\n",
              "      <td>NaN</td>\n",
              "      <td>NaN</td>\n",
              "      <td>2</td>\n",
              "      <td>2</td>\n",
              "      <td>2</td>\n",
              "      <td>2</td>\n",
              "      <td>2</td>\n",
              "      <td>NaN</td>\n",
              "      <td>2</td>\n",
              "      <td>3</td>\n",
              "    </tr>\n",
              "    <tr>\n",
              "      <th>top</th>\n",
              "      <td>NaN</td>\n",
              "      <td>NaN</td>\n",
              "      <td>NaN</td>\n",
              "      <td>NaN</td>\n",
              "      <td>NaN</td>\n",
              "      <td>yes</td>\n",
              "      <td>no</td>\n",
              "      <td>no</td>\n",
              "      <td>no</td>\n",
              "      <td>no</td>\n",
              "      <td>NaN</td>\n",
              "      <td>no</td>\n",
              "      <td>semi-furnished</td>\n",
              "    </tr>\n",
              "    <tr>\n",
              "      <th>freq</th>\n",
              "      <td>NaN</td>\n",
              "      <td>NaN</td>\n",
              "      <td>NaN</td>\n",
              "      <td>NaN</td>\n",
              "      <td>NaN</td>\n",
              "      <td>467</td>\n",
              "      <td>448</td>\n",
              "      <td>354</td>\n",
              "      <td>519</td>\n",
              "      <td>372</td>\n",
              "      <td>NaN</td>\n",
              "      <td>416</td>\n",
              "      <td>223</td>\n",
              "    </tr>\n",
              "    <tr>\n",
              "      <th>mean</th>\n",
              "      <td>4.766729e+06</td>\n",
              "      <td>5126.870130</td>\n",
              "      <td>2.963168</td>\n",
              "      <td>1.286239</td>\n",
              "      <td>1.804788</td>\n",
              "      <td>NaN</td>\n",
              "      <td>NaN</td>\n",
              "      <td>NaN</td>\n",
              "      <td>NaN</td>\n",
              "      <td>NaN</td>\n",
              "      <td>0.693578</td>\n",
              "      <td>NaN</td>\n",
              "      <td>NaN</td>\n",
              "    </tr>\n",
              "    <tr>\n",
              "      <th>std</th>\n",
              "      <td>1.870440e+06</td>\n",
              "      <td>2159.433198</td>\n",
              "      <td>0.738083</td>\n",
              "      <td>0.502470</td>\n",
              "      <td>0.869011</td>\n",
              "      <td>NaN</td>\n",
              "      <td>NaN</td>\n",
              "      <td>NaN</td>\n",
              "      <td>NaN</td>\n",
              "      <td>NaN</td>\n",
              "      <td>0.861586</td>\n",
              "      <td>NaN</td>\n",
              "      <td>NaN</td>\n",
              "    </tr>\n",
              "    <tr>\n",
              "      <th>min</th>\n",
              "      <td>1.750000e+06</td>\n",
              "      <td>1650.000000</td>\n",
              "      <td>1.000000</td>\n",
              "      <td>1.000000</td>\n",
              "      <td>1.000000</td>\n",
              "      <td>NaN</td>\n",
              "      <td>NaN</td>\n",
              "      <td>NaN</td>\n",
              "      <td>NaN</td>\n",
              "      <td>NaN</td>\n",
              "      <td>0.000000</td>\n",
              "      <td>NaN</td>\n",
              "      <td>NaN</td>\n",
              "    </tr>\n",
              "    <tr>\n",
              "      <th>25%</th>\n",
              "      <td>3.430000e+06</td>\n",
              "      <td>3577.000000</td>\n",
              "      <td>2.000000</td>\n",
              "      <td>1.000000</td>\n",
              "      <td>1.000000</td>\n",
              "      <td>NaN</td>\n",
              "      <td>NaN</td>\n",
              "      <td>NaN</td>\n",
              "      <td>NaN</td>\n",
              "      <td>NaN</td>\n",
              "      <td>0.000000</td>\n",
              "      <td>NaN</td>\n",
              "      <td>NaN</td>\n",
              "    </tr>\n",
              "    <tr>\n",
              "      <th>50%</th>\n",
              "      <td>4.340000e+06</td>\n",
              "      <td>4510.000000</td>\n",
              "      <td>3.000000</td>\n",
              "      <td>1.000000</td>\n",
              "      <td>2.000000</td>\n",
              "      <td>NaN</td>\n",
              "      <td>NaN</td>\n",
              "      <td>NaN</td>\n",
              "      <td>NaN</td>\n",
              "      <td>NaN</td>\n",
              "      <td>0.000000</td>\n",
              "      <td>NaN</td>\n",
              "      <td>NaN</td>\n",
              "    </tr>\n",
              "    <tr>\n",
              "      <th>75%</th>\n",
              "      <td>5.740000e+06</td>\n",
              "      <td>6360.000000</td>\n",
              "      <td>3.000000</td>\n",
              "      <td>2.000000</td>\n",
              "      <td>2.000000</td>\n",
              "      <td>NaN</td>\n",
              "      <td>NaN</td>\n",
              "      <td>NaN</td>\n",
              "      <td>NaN</td>\n",
              "      <td>NaN</td>\n",
              "      <td>1.000000</td>\n",
              "      <td>NaN</td>\n",
              "      <td>NaN</td>\n",
              "    </tr>\n",
              "    <tr>\n",
              "      <th>max</th>\n",
              "      <td>1.330000e+07</td>\n",
              "      <td>16200.000000</td>\n",
              "      <td>6.000000</td>\n",
              "      <td>4.000000</td>\n",
              "      <td>4.000000</td>\n",
              "      <td>NaN</td>\n",
              "      <td>NaN</td>\n",
              "      <td>NaN</td>\n",
              "      <td>NaN</td>\n",
              "      <td>NaN</td>\n",
              "      <td>3.000000</td>\n",
              "      <td>NaN</td>\n",
              "      <td>NaN</td>\n",
              "    </tr>\n",
              "  </tbody>\n",
              "</table>\n",
              "</div>\n",
              "    <div class=\"colab-df-buttons\">\n",
              "\n",
              "  <div class=\"colab-df-container\">\n",
              "    <button class=\"colab-df-convert\" onclick=\"convertToInteractive('df-9a8282f5-75fd-43ef-bd95-0dc2901a3502')\"\n",
              "            title=\"Convert this dataframe to an interactive table.\"\n",
              "            style=\"display:none;\">\n",
              "\n",
              "  <svg xmlns=\"http://www.w3.org/2000/svg\" height=\"24px\" viewBox=\"0 -960 960 960\">\n",
              "    <path d=\"M120-120v-720h720v720H120Zm60-500h600v-160H180v160Zm220 220h160v-160H400v160Zm0 220h160v-160H400v160ZM180-400h160v-160H180v160Zm440 0h160v-160H620v160ZM180-180h160v-160H180v160Zm440 0h160v-160H620v160Z\"/>\n",
              "  </svg>\n",
              "    </button>\n",
              "\n",
              "  <style>\n",
              "    .colab-df-container {\n",
              "      display:flex;\n",
              "      gap: 12px;\n",
              "    }\n",
              "\n",
              "    .colab-df-convert {\n",
              "      background-color: #E8F0FE;\n",
              "      border: none;\n",
              "      border-radius: 50%;\n",
              "      cursor: pointer;\n",
              "      display: none;\n",
              "      fill: #1967D2;\n",
              "      height: 32px;\n",
              "      padding: 0 0 0 0;\n",
              "      width: 32px;\n",
              "    }\n",
              "\n",
              "    .colab-df-convert:hover {\n",
              "      background-color: #E2EBFA;\n",
              "      box-shadow: 0px 1px 2px rgba(60, 64, 67, 0.3), 0px 1px 3px 1px rgba(60, 64, 67, 0.15);\n",
              "      fill: #174EA6;\n",
              "    }\n",
              "\n",
              "    .colab-df-buttons div {\n",
              "      margin-bottom: 4px;\n",
              "    }\n",
              "\n",
              "    [theme=dark] .colab-df-convert {\n",
              "      background-color: #3B4455;\n",
              "      fill: #D2E3FC;\n",
              "    }\n",
              "\n",
              "    [theme=dark] .colab-df-convert:hover {\n",
              "      background-color: #434B5C;\n",
              "      box-shadow: 0px 1px 3px 1px rgba(0, 0, 0, 0.15);\n",
              "      filter: drop-shadow(0px 1px 2px rgba(0, 0, 0, 0.3));\n",
              "      fill: #FFFFFF;\n",
              "    }\n",
              "  </style>\n",
              "\n",
              "    <script>\n",
              "      const buttonEl =\n",
              "        document.querySelector('#df-9a8282f5-75fd-43ef-bd95-0dc2901a3502 button.colab-df-convert');\n",
              "      buttonEl.style.display =\n",
              "        google.colab.kernel.accessAllowed ? 'block' : 'none';\n",
              "\n",
              "      async function convertToInteractive(key) {\n",
              "        const element = document.querySelector('#df-9a8282f5-75fd-43ef-bd95-0dc2901a3502');\n",
              "        const dataTable =\n",
              "          await google.colab.kernel.invokeFunction('convertToInteractive',\n",
              "                                                    [key], {});\n",
              "        if (!dataTable) return;\n",
              "\n",
              "        const docLinkHtml = 'Like what you see? Visit the ' +\n",
              "          '<a target=\"_blank\" href=https://colab.research.google.com/notebooks/data_table.ipynb>data table notebook</a>'\n",
              "          + ' to learn more about interactive tables.';\n",
              "        element.innerHTML = '';\n",
              "        dataTable['output_type'] = 'display_data';\n",
              "        await google.colab.output.renderOutput(dataTable, element);\n",
              "        const docLink = document.createElement('div');\n",
              "        docLink.innerHTML = docLinkHtml;\n",
              "        element.appendChild(docLink);\n",
              "      }\n",
              "    </script>\n",
              "  </div>\n",
              "\n",
              "\n",
              "<div id=\"df-6074b515-3a88-47a2-9bfa-e29843f5cc47\">\n",
              "  <button class=\"colab-df-quickchart\" onclick=\"quickchart('df-6074b515-3a88-47a2-9bfa-e29843f5cc47')\"\n",
              "            title=\"Suggest charts\"\n",
              "            style=\"display:none;\">\n",
              "\n",
              "<svg xmlns=\"http://www.w3.org/2000/svg\" height=\"24px\"viewBox=\"0 0 24 24\"\n",
              "     width=\"24px\">\n",
              "    <g>\n",
              "        <path d=\"M19 3H5c-1.1 0-2 .9-2 2v14c0 1.1.9 2 2 2h14c1.1 0 2-.9 2-2V5c0-1.1-.9-2-2-2zM9 17H7v-7h2v7zm4 0h-2V7h2v10zm4 0h-2v-4h2v4z\"/>\n",
              "    </g>\n",
              "</svg>\n",
              "  </button>\n",
              "\n",
              "<style>\n",
              "  .colab-df-quickchart {\n",
              "      --bg-color: #E8F0FE;\n",
              "      --fill-color: #1967D2;\n",
              "      --hover-bg-color: #E2EBFA;\n",
              "      --hover-fill-color: #174EA6;\n",
              "      --disabled-fill-color: #AAA;\n",
              "      --disabled-bg-color: #DDD;\n",
              "  }\n",
              "\n",
              "  [theme=dark] .colab-df-quickchart {\n",
              "      --bg-color: #3B4455;\n",
              "      --fill-color: #D2E3FC;\n",
              "      --hover-bg-color: #434B5C;\n",
              "      --hover-fill-color: #FFFFFF;\n",
              "      --disabled-bg-color: #3B4455;\n",
              "      --disabled-fill-color: #666;\n",
              "  }\n",
              "\n",
              "  .colab-df-quickchart {\n",
              "    background-color: var(--bg-color);\n",
              "    border: none;\n",
              "    border-radius: 50%;\n",
              "    cursor: pointer;\n",
              "    display: none;\n",
              "    fill: var(--fill-color);\n",
              "    height: 32px;\n",
              "    padding: 0;\n",
              "    width: 32px;\n",
              "  }\n",
              "\n",
              "  .colab-df-quickchart:hover {\n",
              "    background-color: var(--hover-bg-color);\n",
              "    box-shadow: 0 1px 2px rgba(60, 64, 67, 0.3), 0 1px 3px 1px rgba(60, 64, 67, 0.15);\n",
              "    fill: var(--button-hover-fill-color);\n",
              "  }\n",
              "\n",
              "  .colab-df-quickchart-complete:disabled,\n",
              "  .colab-df-quickchart-complete:disabled:hover {\n",
              "    background-color: var(--disabled-bg-color);\n",
              "    fill: var(--disabled-fill-color);\n",
              "    box-shadow: none;\n",
              "  }\n",
              "\n",
              "  .colab-df-spinner {\n",
              "    border: 2px solid var(--fill-color);\n",
              "    border-color: transparent;\n",
              "    border-bottom-color: var(--fill-color);\n",
              "    animation:\n",
              "      spin 1s steps(1) infinite;\n",
              "  }\n",
              "\n",
              "  @keyframes spin {\n",
              "    0% {\n",
              "      border-color: transparent;\n",
              "      border-bottom-color: var(--fill-color);\n",
              "      border-left-color: var(--fill-color);\n",
              "    }\n",
              "    20% {\n",
              "      border-color: transparent;\n",
              "      border-left-color: var(--fill-color);\n",
              "      border-top-color: var(--fill-color);\n",
              "    }\n",
              "    30% {\n",
              "      border-color: transparent;\n",
              "      border-left-color: var(--fill-color);\n",
              "      border-top-color: var(--fill-color);\n",
              "      border-right-color: var(--fill-color);\n",
              "    }\n",
              "    40% {\n",
              "      border-color: transparent;\n",
              "      border-right-color: var(--fill-color);\n",
              "      border-top-color: var(--fill-color);\n",
              "    }\n",
              "    60% {\n",
              "      border-color: transparent;\n",
              "      border-right-color: var(--fill-color);\n",
              "    }\n",
              "    80% {\n",
              "      border-color: transparent;\n",
              "      border-right-color: var(--fill-color);\n",
              "      border-bottom-color: var(--fill-color);\n",
              "    }\n",
              "    90% {\n",
              "      border-color: transparent;\n",
              "      border-bottom-color: var(--fill-color);\n",
              "    }\n",
              "  }\n",
              "</style>\n",
              "\n",
              "  <script>\n",
              "    async function quickchart(key) {\n",
              "      const quickchartButtonEl =\n",
              "        document.querySelector('#' + key + ' button');\n",
              "      quickchartButtonEl.disabled = true;  // To prevent multiple clicks.\n",
              "      quickchartButtonEl.classList.add('colab-df-spinner');\n",
              "      try {\n",
              "        const charts = await google.colab.kernel.invokeFunction(\n",
              "            'suggestCharts', [key], {});\n",
              "      } catch (error) {\n",
              "        console.error('Error during call to suggestCharts:', error);\n",
              "      }\n",
              "      quickchartButtonEl.classList.remove('colab-df-spinner');\n",
              "      quickchartButtonEl.classList.add('colab-df-quickchart-complete');\n",
              "    }\n",
              "    (() => {\n",
              "      let quickchartButtonEl =\n",
              "        document.querySelector('#df-6074b515-3a88-47a2-9bfa-e29843f5cc47 button');\n",
              "      quickchartButtonEl.style.display =\n",
              "        google.colab.kernel.accessAllowed ? 'block' : 'none';\n",
              "    })();\n",
              "  </script>\n",
              "</div>\n",
              "    </div>\n",
              "  </div>\n"
            ]
          },
          "metadata": {},
          "execution_count": 1260
        }
      ]
    },
    {
      "cell_type": "code",
      "source": [
        "df.info()"
      ],
      "metadata": {
        "colab": {
          "base_uri": "https://localhost:8080/"
        },
        "id": "AWzJr4eS7t-K",
        "outputId": "d800a166-3492-4e33-8387-887947c10f69"
      },
      "execution_count": 1261,
      "outputs": [
        {
          "output_type": "stream",
          "name": "stdout",
          "text": [
            "<class 'pandas.core.frame.DataFrame'>\n",
            "RangeIndex: 545 entries, 0 to 544\n",
            "Data columns (total 13 columns):\n",
            " #   Column            Non-Null Count  Dtype  \n",
            "---  ------            --------------  -----  \n",
            " 0   price             545 non-null    int64  \n",
            " 1   area              539 non-null    float64\n",
            " 2   bedrooms          543 non-null    float64\n",
            " 3   bathrooms         545 non-null    int64  \n",
            " 4   stories           543 non-null    float64\n",
            " 5   mainroad          544 non-null    object \n",
            " 6   guestroom         545 non-null    object \n",
            " 7   basement          543 non-null    object \n",
            " 8   hotwaterheating   543 non-null    object \n",
            " 9   airconditioning   542 non-null    object \n",
            " 10  parking           545 non-null    int64  \n",
            " 11  prefarea          543 non-null    object \n",
            " 12  furnishingstatus  539 non-null    object \n",
            "dtypes: float64(3), int64(3), object(7)\n",
            "memory usage: 55.5+ KB\n"
          ]
        }
      ]
    },
    {
      "cell_type": "markdown",
      "source": [
        "As we can see there are null values in all attributes except price, bathrooms, guestroom and parking\n"
      ],
      "metadata": {
        "id": "Q5yNot5r8T0h"
      }
    },
    {
      "cell_type": "code",
      "source": [
        "df.shape"
      ],
      "metadata": {
        "colab": {
          "base_uri": "https://localhost:8080/"
        },
        "id": "7CpLCRmV70NI",
        "outputId": "922c6976-dfd2-4bdf-9c95-9fc1b4f63bd9"
      },
      "execution_count": 1262,
      "outputs": [
        {
          "output_type": "execute_result",
          "data": {
            "text/plain": [
              "(545, 13)"
            ]
          },
          "metadata": {},
          "execution_count": 1262
        }
      ]
    },
    {
      "cell_type": "markdown",
      "source": [
        "545 entries and 13 attributes"
      ],
      "metadata": {
        "id": "GCJ5z5ZqGLxI"
      }
    },
    {
      "cell_type": "code",
      "source": [
        "df.columns\n"
      ],
      "metadata": {
        "colab": {
          "base_uri": "https://localhost:8080/"
        },
        "id": "bqTW7c4c74vR",
        "outputId": "d2046b96-b332-4843-864d-9f2610fd774f"
      },
      "execution_count": 1263,
      "outputs": [
        {
          "output_type": "execute_result",
          "data": {
            "text/plain": [
              "Index(['price', 'area', 'bedrooms', 'bathrooms', 'stories', 'mainroad',\n",
              "       'guestroom', 'basement', 'hotwaterheating', 'airconditioning',\n",
              "       'parking', 'prefarea', 'furnishingstatus'],\n",
              "      dtype='object')"
            ]
          },
          "metadata": {},
          "execution_count": 1263
        }
      ]
    },
    {
      "cell_type": "markdown",
      "source": [
        "**Visualization**"
      ],
      "metadata": {
        "id": "y5DEg_mC-Ozz"
      }
    },
    {
      "cell_type": "code",
      "source": [
        "plt.hist(df[\"price\"])"
      ],
      "metadata": {
        "colab": {
          "base_uri": "https://localhost:8080/",
          "height": 517
        },
        "id": "k8xjwv8d-Q8f",
        "outputId": "5843e149-bb10-435b-e021-4235c1221b79"
      },
      "execution_count": 1264,
      "outputs": [
        {
          "output_type": "execute_result",
          "data": {
            "text/plain": [
              "(array([ 61., 163., 139.,  89.,  46.,  25.,  13.,   4.,   1.,   4.]),\n",
              " array([ 1750000.,  2905000.,  4060000.,  5215000.,  6370000.,  7525000.,\n",
              "         8680000.,  9835000., 10990000., 12145000., 13300000.]),\n",
              " <BarContainer object of 10 artists>)"
            ]
          },
          "metadata": {},
          "execution_count": 1264
        },
        {
          "output_type": "display_data",
          "data": {
            "text/plain": [
              "<Figure size 640x480 with 1 Axes>"
            ],
            "image/png": "[encoded data removed]"
          },
          "metadata": {}
        }
      ]
    },
    {
      "cell_type": "markdown",
      "source": [
        "We can see maximum price is between 0.3 to 0.4 and there are no outliers seen in the histogram"
      ],
      "metadata": {
        "id": "LPhk4SV_DPpi"
      }
    },
    {
      "cell_type": "code",
      "source": [
        "plt.hist(df[\"area\"])"
      ],
      "metadata": {
        "colab": {
          "base_uri": "https://localhost:8080/",
          "height": 499
        },
        "id": "q-B2TIP4_6w1",
        "outputId": "f0c3e755-3677-4527-bc3c-91967a0248d3"
      },
      "execution_count": 1265,
      "outputs": [
        {
          "output_type": "execute_result",
          "data": {
            "text/plain": [
              "(array([ 73., 198., 115.,  86.,  38.,  15.,   7.,   5.,   0.,   2.]),\n",
              " array([ 1650.,  3105.,  4560.,  6015.,  7470.,  8925., 10380., 11835.,\n",
              "        13290., 14745., 16200.]),\n",
              " <BarContainer object of 10 artists>)"
            ]
          },
          "metadata": {},
          "execution_count": 1265
        },
        {
          "output_type": "display_data",
          "data": {
            "text/plain": [
              "<Figure size 640x480 with 1 Axes>"
            ],
            "image/png": "[encoded data removed]"
          },
          "metadata": {}
        }
      ]
    },
    {
      "cell_type": "markdown",
      "source": [
        "We can see the majority of area is between 3k to 5k and there are outliers between 13k to 15k"
      ],
      "metadata": {
        "id": "NbWYAI67Dd0h"
      }
    },
    {
      "cell_type": "code",
      "source": [
        "plt.hist(df[\"bedrooms\"])"
      ],
      "metadata": {
        "colab": {
          "base_uri": "https://localhost:8080/",
          "height": 482
        },
        "id": "ylEF6yDbAEgw",
        "outputId": "ee006392-ebc9-43fe-d632-e30133c23a69"
      },
      "execution_count": 1266,
      "outputs": [
        {
          "output_type": "execute_result",
          "data": {
            "text/plain": [
              "(array([  2.,   0., 136.,   0., 299.,   0.,  94.,   0.,  10.,   2.]),\n",
              " array([1. , 1.5, 2. , 2.5, 3. , 3.5, 4. , 4.5, 5. , 5.5, 6. ]),\n",
              " <BarContainer object of 10 artists>)"
            ]
          },
          "metadata": {},
          "execution_count": 1266
        },
        {
          "output_type": "display_data",
          "data": {
            "text/plain": [
              "<Figure size 640x480 with 1 Axes>"
            ],
            "image/png": "[encoded data removed]"
          },
          "metadata": {}
        }
      ]
    },
    {
      "cell_type": "code",
      "source": [
        "plt.hist(df[\"bathrooms\"])"
      ],
      "metadata": {
        "colab": {
          "base_uri": "https://localhost:8080/",
          "height": 482
        },
        "id": "blCgtCzJEfyc",
        "outputId": "9a553d97-9581-41a5-8deb-9f818728e404"
      },
      "execution_count": 1267,
      "outputs": [
        {
          "output_type": "execute_result",
          "data": {
            "text/plain": [
              "(array([401.,   0.,   0., 133.,   0.,   0.,  10.,   0.,   0.,   1.]),\n",
              " array([1. , 1.3, 1.6, 1.9, 2.2, 2.5, 2.8, 3.1, 3.4, 3.7, 4. ]),\n",
              " <BarContainer object of 10 artists>)"
            ]
          },
          "metadata": {},
          "execution_count": 1267
        },
        {
          "output_type": "display_data",
          "data": {
            "text/plain": [
              "<Figure size 640x480 with 1 Axes>"
            ],
            "image/png": "[encoded data removed]"
          },
          "metadata": {}
        }
      ]
    },
    {
      "cell_type": "code",
      "source": [
        "plt.hist(df[\"stories\"])"
      ],
      "metadata": {
        "colab": {
          "base_uri": "https://localhost:8080/",
          "height": 482
        },
        "id": "RJocLc87Ektn",
        "outputId": "3be494c8-61b8-44cf-d4ed-a5d89c15ada4"
      },
      "execution_count": 1268,
      "outputs": [
        {
          "output_type": "execute_result",
          "data": {
            "text/plain": [
              "(array([227.,   0.,   0., 236.,   0.,   0.,  39.,   0.,   0.,  41.]),\n",
              " array([1. , 1.3, 1.6, 1.9, 2.2, 2.5, 2.8, 3.1, 3.4, 3.7, 4. ]),\n",
              " <BarContainer object of 10 artists>)"
            ]
          },
          "metadata": {},
          "execution_count": 1268
        },
        {
          "output_type": "display_data",
          "data": {
            "text/plain": [
              "<Figure size 640x480 with 1 Axes>"
            ],
            "image/png": "[encoded data removed]"
          },
          "metadata": {}
        }
      ]
    },
    {
      "cell_type": "code",
      "source": [
        "sns.histplot(df,x=df['price'],hue=df['furnishingstatus'],bins=25)"
      ],
      "metadata": {
        "colab": {
          "base_uri": "https://localhost:8080/",
          "height": 466
        },
        "id": "Vd5dpkPpAWgV",
        "outputId": "523e79fd-e733-47c7-de6f-4a17c7c43248"
      },
      "execution_count": 1269,
      "outputs": [
        {
          "output_type": "execute_result",
          "data": {
            "text/plain": [
              "<Axes: xlabel='price', ylabel='Count'>"
            ]
          },
          "metadata": {},
          "execution_count": 1269
        },
        {
          "output_type": "display_data",
          "data": {
            "text/plain": [
              "<Figure size 640x480 with 1 Axes>"
            ],
            "image/png": "[encoded data removed]"
          },
          "metadata": {}
        }
      ]
    },
    {
      "cell_type": "code",
      "source": [
        "sns.histplot(df,x=df['price'],hue=df['prefarea'],bins=25)\n",
        "\n",
        "\n"
      ],
      "metadata": {
        "colab": {
          "base_uri": "https://localhost:8080/",
          "height": 466
        },
        "id": "Z81yXOTLchn5",
        "outputId": "f1a13da5-5694-4e2a-8770-daa1827493ec"
      },
      "execution_count": 1270,
      "outputs": [
        {
          "output_type": "execute_result",
          "data": {
            "text/plain": [
              "<Axes: xlabel='price', ylabel='Count'>"
            ]
          },
          "metadata": {},
          "execution_count": 1270
        },
        {
          "output_type": "display_data",
          "data": {
            "text/plain": [
              "<Figure size 640x480 with 1 Axes>"
            ],
            "image/png": "[encoded data removed]"
          },
          "metadata": {}
        }
      ]
    },
    {
      "cell_type": "markdown",
      "source": [
        "**Scatter Plot**\n",
        "\n",
        "\n",
        "\n"
      ],
      "metadata": {
        "id": "hdHPgTwbBNml"
      }
    },
    {
      "cell_type": "code",
      "source": [
        "x=df['area']\n",
        "y=df['price']\n",
        "plt.scatter(x,y)"
      ],
      "metadata": {
        "colab": {
          "base_uri": "https://localhost:8080/",
          "height": 462
        },
        "id": "y6_42_Q0BLCr",
        "outputId": "9a049d0a-3b76-4860-e66a-090efbe6b0d4"
      },
      "execution_count": 1271,
      "outputs": [
        {
          "output_type": "execute_result",
          "data": {
            "text/plain": [
              "<matplotlib.collections.PathCollection at 0x7dd8805d3ee0>"
            ]
          },
          "metadata": {},
          "execution_count": 1271
        },
        {
          "output_type": "display_data",
          "data": {
            "text/plain": [
              "<Figure size 640x480 with 1 Axes>"
            ],
            "image/png": "[encoded data removed]"
          },
          "metadata": {}
        }
      ]
    },
    {
      "cell_type": "markdown",
      "source": [
        "Between 140k to 160k there are outliers"
      ],
      "metadata": {
        "id": "u5hBXXu-JXLy"
      }
    },
    {
      "cell_type": "markdown",
      "source": [
        "**Pie Chart**"
      ],
      "metadata": {
        "id": "p4k5PyxUbols"
      }
    },
    {
      "cell_type": "code",
      "source": [
        "plt.pie(df.furnishingstatus.value_counts().values,labels=df.furnishingstatus.value_counts().index,autopct=\"%1.2f\")\n",
        "plt.legend()"
      ],
      "metadata": {
        "colab": {
          "base_uri": "https://localhost:8080/",
          "height": 423
        },
        "id": "-1AlCY41CVXL",
        "outputId": "7e7645b9-abb9-4d0e-857d-866be8ed05fc"
      },
      "execution_count": 1272,
      "outputs": [
        {
          "output_type": "execute_result",
          "data": {
            "text/plain": [
              "<matplotlib.legend.Legend at 0x7dd88ddafbe0>"
            ]
          },
          "metadata": {},
          "execution_count": 1272
        },
        {
          "output_type": "display_data",
          "data": {
            "text/plain": [
              "<Figure size 640x480 with 1 Axes>"
            ],
            "image/png": "[encoded data removed]"
          },
          "metadata": {}
        }
      ]
    },
    {
      "cell_type": "markdown",
      "source": [
        "\n",
        "\n",
        "\n",
        "\n",
        "We inferred that the majority of houses fall into the Semi-furnished category and people prefer unfurnished over fully furnished\n",
        "\n"
      ],
      "metadata": {
        "id": "06lQRA2aCkT3"
      }
    },
    {
      "cell_type": "code",
      "source": [
        "plt.pie(df.prefarea.value_counts().values,labels=df.prefarea.value_counts().index,autopct=\"%1.2f\")\n",
        "plt.legend()"
      ],
      "metadata": {
        "colab": {
          "base_uri": "https://localhost:8080/",
          "height": 423
        },
        "id": "62anJnoSEzmw",
        "outputId": "4ecde383-a51b-4eaa-abfd-1149e234687b"
      },
      "execution_count": 1273,
      "outputs": [
        {
          "output_type": "execute_result",
          "data": {
            "text/plain": [
              "<matplotlib.legend.Legend at 0x7dd88056ee90>"
            ]
          },
          "metadata": {},
          "execution_count": 1273
        },
        {
          "output_type": "display_data",
          "data": {
            "text/plain": [
              "<Figure size 640x480 with 1 Axes>"
            ],
            "image/png": "[encoded data removed]"
          },
          "metadata": {}
        }
      ]
    },
    {
      "cell_type": "markdown",
      "source": [
        " Majority of houses i.e. 76.61% are not in a preferred area"
      ],
      "metadata": {
        "id": "GAdjZ38Be2XJ"
      }
    },
    {
      "cell_type": "code",
      "source": [
        "plt.pie(df.mainroad.value_counts().values,labels=df.mainroad.value_counts().index,autopct=\"%1.2f\")\n",
        "plt.legend()"
      ],
      "metadata": {
        "colab": {
          "base_uri": "https://localhost:8080/",
          "height": 423
        },
        "id": "z9xarZKhD_Z4",
        "outputId": "1bfe7647-07fb-41e9-de53-8b284cbbfb27"
      },
      "execution_count": 1274,
      "outputs": [
        {
          "output_type": "execute_result",
          "data": {
            "text/plain": [
              "<matplotlib.legend.Legend at 0x7dd88ddafa00>"
            ]
          },
          "metadata": {},
          "execution_count": 1274
        },
        {
          "output_type": "display_data",
          "data": {
            "text/plain": [
              "<Figure size 640x480 with 1 Axes>"
            ],
            "image/png": "[encoded data removed]"
          },
          "metadata": {}
        }
      ]
    },
    {
      "cell_type": "markdown",
      "source": [
        " majority of houses i.e. 85.85%  are on main road"
      ],
      "metadata": {
        "id": "v3yFurOwfKqB"
      }
    },
    {
      "cell_type": "code",
      "source": [
        "plt.pie(df.guestroom.value_counts().values,labels=df.guestroom.value_counts().index,autopct=\"%1.2f\")\n",
        "plt.legend()"
      ],
      "metadata": {
        "colab": {
          "base_uri": "https://localhost:8080/",
          "height": 423
        },
        "id": "ZX7cAUsuE7sa",
        "outputId": "0ce5f3c0-cca0-4f77-b65f-c10667f0d874"
      },
      "execution_count": 1275,
      "outputs": [
        {
          "output_type": "execute_result",
          "data": {
            "text/plain": [
              "<matplotlib.legend.Legend at 0x7dd8804e1d80>"
            ]
          },
          "metadata": {},
          "execution_count": 1275
        },
        {
          "output_type": "display_data",
          "data": {
            "text/plain": [
              "<Figure size 640x480 with 1 Axes>"
            ],
            "image/png": "[encoded data removed]"
          },
          "metadata": {}
        }
      ]
    },
    {
      "cell_type": "markdown",
      "source": [
        "majority of houses i.e. 82.8% don't have guestrooms\n",
        "\n",
        "---\n",
        "\n"
      ],
      "metadata": {
        "id": "-Eqobeh5fXYU"
      }
    },
    {
      "cell_type": "code",
      "source": [
        "plt.pie(df.basement.value_counts().values,labels=df.basement.value_counts().index,autopct=\"%1.2f\")\n",
        "plt.legend()"
      ],
      "metadata": {
        "colab": {
          "base_uri": "https://localhost:8080/",
          "height": 423
        },
        "id": "MaowMgQoFVx8",
        "outputId": "34a8465d-23f2-427e-d60d-5c373aaf36bb"
      },
      "execution_count": 1276,
      "outputs": [
        {
          "output_type": "execute_result",
          "data": {
            "text/plain": [
              "<matplotlib.legend.Legend at 0x7dd8804ac850>"
            ]
          },
          "metadata": {},
          "execution_count": 1276
        },
        {
          "output_type": "display_data",
          "data": {
            "text/plain": [
              "<Figure size 640x480 with 1 Axes>"
            ],
            "image/png": "[encoded data removed]"
          },
          "metadata": {}
        }
      ]
    },
    {
      "cell_type": "markdown",
      "source": [
        "majority of houses i.e. 65.19% don't have basements"
      ],
      "metadata": {
        "id": "xfw0OoBLFjM7"
      }
    },
    {
      "cell_type": "code",
      "source": [
        "plt.pie(df.hotwaterheating.value_counts().values,labels=df.hotwaterheating.value_counts().index,autopct=\"%1.2f\")\n",
        "plt.legend()"
      ],
      "metadata": {
        "colab": {
          "base_uri": "https://localhost:8080/",
          "height": 423
        },
        "id": "SUfpGRbggCAs",
        "outputId": "3c9ab1a6-bfd4-4d8d-a304-0e4a9cb6bf48"
      },
      "execution_count": 1277,
      "outputs": [
        {
          "output_type": "execute_result",
          "data": {
            "text/plain": [
              "<matplotlib.legend.Legend at 0x7dd880340f40>"
            ]
          },
          "metadata": {},
          "execution_count": 1277
        },
        {
          "output_type": "display_data",
          "data": {
            "text/plain": [
              "<Figure size 640x480 with 1 Axes>"
            ],
            "image/png": "[encoded data removed]"
          },
          "metadata": {}
        }
      ]
    },
    {
      "cell_type": "markdown",
      "source": [
        "majority of houses i.e. 95.58% don't have hot water heating"
      ],
      "metadata": {
        "id": "2ictgrG7gGE9"
      }
    },
    {
      "cell_type": "code",
      "source": [
        "plt.pie(df.airconditioning.value_counts().values,labels=df.airconditioning.value_counts().index,autopct=\"%1.2f\")\n",
        "plt.legend()"
      ],
      "metadata": {
        "colab": {
          "base_uri": "https://localhost:8080/",
          "height": 423
        },
        "id": "SmTeO1bOgQrn",
        "outputId": "a505c29e-a389-44bb-cc19-3b7878d91327"
      },
      "execution_count": 1278,
      "outputs": [
        {
          "output_type": "execute_result",
          "data": {
            "text/plain": [
              "<matplotlib.legend.Legend at 0x7dd880233310>"
            ]
          },
          "metadata": {},
          "execution_count": 1278
        },
        {
          "output_type": "display_data",
          "data": {
            "text/plain": [
              "<Figure size 640x480 with 1 Axes>"
            ],
            "image/png": "[encoded data removed]"
          },
          "metadata": {}
        }
      ]
    },
    {
      "cell_type": "markdown",
      "source": [
        "majority of houses i.e. 68.63% don't have air conditioning"
      ],
      "metadata": {
        "id": "fel_QZXHgSEC"
      }
    },
    {
      "cell_type": "markdown",
      "source": [
        "**` countplot `**\n",
        "\n"
      ],
      "metadata": {
        "id": "Tqk2e7TIFydD"
      }
    },
    {
      "cell_type": "code",
      "source": [
        "sns.countplot(x='furnishingstatus',data=df)"
      ],
      "metadata": {
        "colab": {
          "base_uri": "https://localhost:8080/",
          "height": 466
        },
        "id": "340sWNqmFoCJ",
        "outputId": "675d794b-c227-4985-979d-c166c94a986c"
      },
      "execution_count": 1279,
      "outputs": [
        {
          "output_type": "execute_result",
          "data": {
            "text/plain": [
              "<Axes: xlabel='furnishingstatus', ylabel='count'>"
            ]
          },
          "metadata": {},
          "execution_count": 1279
        },
        {
          "output_type": "display_data",
          "data": {
            "text/plain": [
              "<Figure size 640x480 with 1 Axes>"
            ],
            "image/png": "[encoded data removed]"
          },
          "metadata": {}
        }
      ]
    },
    {
      "cell_type": "code",
      "source": [
        "sns.countplot(x='prefarea',data=df)"
      ],
      "metadata": {
        "colab": {
          "base_uri": "https://localhost:8080/",
          "height": 466
        },
        "id": "koIh2TFUF4gz",
        "outputId": "f6a1d12f-8e65-4ae9-9e56-87cc14b7c56d"
      },
      "execution_count": 1280,
      "outputs": [
        {
          "output_type": "execute_result",
          "data": {
            "text/plain": [
              "<Axes: xlabel='prefarea', ylabel='count'>"
            ]
          },
          "metadata": {},
          "execution_count": 1280
        },
        {
          "output_type": "display_data",
          "data": {
            "text/plain": [
              "<Figure size 640x480 with 1 Axes>"
            ],
            "image/png": "[encoded data removed]"
          },
          "metadata": {}
        }
      ]
    },
    {
      "cell_type": "code",
      "source": [
        "sns.countplot(x='airconditioning',data=df)"
      ],
      "metadata": {
        "colab": {
          "base_uri": "https://localhost:8080/",
          "height": 466
        },
        "id": "iQTYxNM0F-Ur",
        "outputId": "fffb69a4-e514-416a-cdc5-981e03aef5b9"
      },
      "execution_count": 1281,
      "outputs": [
        {
          "output_type": "execute_result",
          "data": {
            "text/plain": [
              "<Axes: xlabel='airconditioning', ylabel='count'>"
            ]
          },
          "metadata": {},
          "execution_count": 1281
        },
        {
          "output_type": "display_data",
          "data": {
            "text/plain": [
              "<Figure size 640x480 with 1 Axes>"
            ],
            "image/png": "[encoded data removed]"
          },
          "metadata": {}
        }
      ]
    },
    {
      "cell_type": "code",
      "source": [
        "\n",
        "sns.countplot(x='hotwaterheating',data=df)"
      ],
      "metadata": {
        "colab": {
          "base_uri": "https://localhost:8080/",
          "height": 466
        },
        "id": "T4P5zM--GEvn",
        "outputId": "f88fc889-4e44-41af-8f85-ad6c72d68b35"
      },
      "execution_count": 1282,
      "outputs": [
        {
          "output_type": "execute_result",
          "data": {
            "text/plain": [
              "<Axes: xlabel='hotwaterheating', ylabel='count'>"
            ]
          },
          "metadata": {},
          "execution_count": 1282
        },
        {
          "output_type": "display_data",
          "data": {
            "text/plain": [
              "<Figure size 640x480 with 1 Axes>"
            ],
            "image/png": "[encoded data removed]"
          },
          "metadata": {}
        }
      ]
    },
    {
      "cell_type": "code",
      "source": [
        "sns.countplot(x='basement',data=df)"
      ],
      "metadata": {
        "colab": {
          "base_uri": "https://localhost:8080/",
          "height": 466
        },
        "id": "-DqzvGryg7Rk",
        "outputId": "94801253-9948-4ee4-e296-f7bcaed2cf42"
      },
      "execution_count": 1283,
      "outputs": [
        {
          "output_type": "execute_result",
          "data": {
            "text/plain": [
              "<Axes: xlabel='basement', ylabel='count'>"
            ]
          },
          "metadata": {},
          "execution_count": 1283
        },
        {
          "output_type": "display_data",
          "data": {
            "text/plain": [
              "<Figure size 640x480 with 1 Axes>"
            ],
            "image/png": "[encoded data removed]"
          },
          "metadata": {}
        }
      ]
    },
    {
      "cell_type": "code",
      "source": [
        "sns.countplot(x='guestroom',data=df)"
      ],
      "metadata": {
        "colab": {
          "base_uri": "https://localhost:8080/",
          "height": 466
        },
        "id": "1b9ew502g7IZ",
        "outputId": "5d71f072-f0da-4c23-8985-09389bc99e7d"
      },
      "execution_count": 1284,
      "outputs": [
        {
          "output_type": "execute_result",
          "data": {
            "text/plain": [
              "<Axes: xlabel='guestroom', ylabel='count'>"
            ]
          },
          "metadata": {},
          "execution_count": 1284
        },
        {
          "output_type": "display_data",
          "data": {
            "text/plain": [
              "<Figure size 640x480 with 1 Axes>"
            ],
            "image/png": "[encoded data removed]"
          },
          "metadata": {}
        }
      ]
    },
    {
      "cell_type": "code",
      "source": [
        "sns.countplot(x='mainroad',data=df)"
      ],
      "metadata": {
        "colab": {
          "base_uri": "https://localhost:8080/",
          "height": 466
        },
        "id": "OeN-pKrfg66O",
        "outputId": "eccdc03f-c898-4d1f-829e-211f43344523"
      },
      "execution_count": 1285,
      "outputs": [
        {
          "output_type": "execute_result",
          "data": {
            "text/plain": [
              "<Axes: xlabel='mainroad', ylabel='count'>"
            ]
          },
          "metadata": {},
          "execution_count": 1285
        },
        {
          "output_type": "display_data",
          "data": {
            "text/plain": [
              "<Figure size 640x480 with 1 Axes>"
            ],
            "image/png": "[encoded data removed]"
          },
          "metadata": {}
        }
      ]
    },
    {
      "cell_type": "markdown",
      "source": [
        "**` BOX PLOT `**\n",
        "\n",
        "\n"
      ],
      "metadata": {
        "id": "B6WiZlUaGmQk"
      }
    },
    {
      "cell_type": "code",
      "source": [
        "sns.boxplot(x='area',data=df)"
      ],
      "metadata": {
        "colab": {
          "base_uri": "https://localhost:8080/",
          "height": 466
        },
        "id": "UHjqyL6pIpR9",
        "outputId": "a8bef2b6-6291-4bde-87d4-95abf9e77dad"
      },
      "execution_count": 1286,
      "outputs": [
        {
          "output_type": "execute_result",
          "data": {
            "text/plain": [
              "<Axes: xlabel='area'>"
            ]
          },
          "metadata": {},
          "execution_count": 1286
        },
        {
          "output_type": "display_data",
          "data": {
            "text/plain": [
              "<Figure size 640x480 with 1 Axes>"
            ],
            "image/png": "[encoded data removed]"
          },
          "metadata": {}
        }
      ]
    },
    {
      "cell_type": "markdown",
      "source": [
        "Boxplot indicate the presence of outliers"
      ],
      "metadata": {
        "id": "JIv3_xZ0h5-V"
      }
    },
    {
      "cell_type": "code",
      "source": [
        "sns.boxplot(x=df[\"price\"])"
      ],
      "metadata": {
        "colab": {
          "base_uri": "https://localhost:8080/",
          "height": 466
        },
        "id": "hZU9bA7Gkddg",
        "outputId": "e150d537-5eda-4120-fcc6-47801552c499"
      },
      "execution_count": 1287,
      "outputs": [
        {
          "output_type": "execute_result",
          "data": {
            "text/plain": [
              "<Axes: xlabel='price'>"
            ]
          },
          "metadata": {},
          "execution_count": 1287
        },
        {
          "output_type": "display_data",
          "data": {
            "text/plain": [
              "<Figure size 640x480 with 1 Axes>"
            ],
            "image/png": "[encoded data removed]"
          },
          "metadata": {}
        }
      ]
    },
    {
      "cell_type": "markdown",
      "source": [
        "**Handling Outliers**"
      ],
      "metadata": {
        "id": "cfhvkgy1I650"
      }
    },
    {
      "cell_type": "code",
      "source": [
        "#1 treatment of outliers\n",
        "print(df['area'].quantile(0.05))\n",
        "print(df['area'].quantile(0.95))"
      ],
      "metadata": {
        "colab": {
          "base_uri": "https://localhost:8080/"
        },
        "id": "sHtaawkpHwOw",
        "outputId": "76f9c05b-e977-4495-8bd6-1623b0459e15"
      },
      "execution_count": 1288,
      "outputs": [
        {
          "output_type": "stream",
          "name": "stdout",
          "text": [
            "2547.0\n",
            "9000.0\n"
          ]
        }
      ]
    },
    {
      "cell_type": "code",
      "source": [
        "\n",
        "\n",
        "\n",
        "df[\"area\"]=np.where(df[\"area\"]>9000,9000,df[\"area\"])\n",
        "df[\"area\"]=np.where(df[\"area\"]<2547,2547,df[\"area\"])\n"
      ],
      "metadata": {
        "id": "8KiTfPeQKEDK"
      },
      "execution_count": 1289,
      "outputs": []
    },
    {
      "cell_type": "code",
      "source": [
        "sns.boxplot(x=df[\"area\"])"
      ],
      "metadata": {
        "colab": {
          "base_uri": "https://localhost:8080/",
          "height": 466
        },
        "id": "KF0iy5TSKlLS",
        "outputId": "474a901b-5c7c-4b8a-f629-3bbbd56badd4"
      },
      "execution_count": 1290,
      "outputs": [
        {
          "output_type": "execute_result",
          "data": {
            "text/plain": [
              "<Axes: xlabel='area'>"
            ]
          },
          "metadata": {},
          "execution_count": 1290
        },
        {
          "output_type": "display_data",
          "data": {
            "text/plain": [
              "<Figure size 640x480 with 1 Axes>"
            ],
            "image/png": "[encoded data removed]"
          },
          "metadata": {}
        }
      ]
    },
    {
      "cell_type": "code",
      "source": [
        "#1 treatment of outliers\n",
        "print(df['price'].quantile(0.05))\n",
        "print(df['price'].quantile(0.95))"
      ],
      "metadata": {
        "colab": {
          "base_uri": "https://localhost:8080/"
        },
        "id": "2EnN5Qa2H2aE",
        "outputId": "fe848bf0-447b-4e49-850a-ee6521b66032"
      },
      "execution_count": 1291,
      "outputs": [
        {
          "output_type": "stream",
          "name": "stdout",
          "text": [
            "2450000.0\n",
            "8400000.0\n"
          ]
        }
      ]
    },
    {
      "cell_type": "code",
      "source": [
        "\n",
        "\n",
        "\n",
        "df[\"price\"]=np.where(df[\"price\"]<2450000.0,2450000.0,df[\"price\"])\n",
        "df[\"price\"]=np.where(df[\"price\"]>8400000.0,8400000.0,df[\"price\"])"
      ],
      "metadata": {
        "id": "Py1UpRv4ki0Q"
      },
      "execution_count": 1292,
      "outputs": []
    },
    {
      "cell_type": "code",
      "source": [
        "sns.boxplot(x=df[\"price\"])"
      ],
      "metadata": {
        "colab": {
          "base_uri": "https://localhost:8080/",
          "height": 466
        },
        "id": "6AIOLRHPkaNj",
        "outputId": "c3c730d8-5b7e-4b29-ac13-bbf10d395e32"
      },
      "execution_count": 1293,
      "outputs": [
        {
          "output_type": "execute_result",
          "data": {
            "text/plain": [
              "<Axes: xlabel='price'>"
            ]
          },
          "metadata": {},
          "execution_count": 1293
        },
        {
          "output_type": "display_data",
          "data": {
            "text/plain": [
              "<Figure size 640x480 with 1 Axes>"
            ],
            "image/png": "[encoded data removed]"
          },
          "metadata": {}
        }
      ]
    },
    {
      "cell_type": "markdown",
      "source": [
        "you can see outlier is removed"
      ],
      "metadata": {
        "id": "Phl2N1DvKpM-"
      }
    },
    {
      "cell_type": "markdown",
      "source": [
        "**PRE PROCESSING**"
      ],
      "metadata": {
        "id": "diE6TSd9N0ii"
      }
    },
    {
      "cell_type": "code",
      "source": [
        "#checking coorelation\n",
        "sns.heatmap(df.corr(),annot=True,annot_kws={'size':15},cmap='RdBu')\n",
        "plt.show()\n"
      ],
      "metadata": {
        "colab": {
          "base_uri": "https://localhost:8080/",
          "height": 551
        },
        "id": "Ww1Q95FOKyuu",
        "outputId": "9d746273-1f93-4a16-b9c4-13b3d55dfe22"
      },
      "execution_count": 1294,
      "outputs": [
        {
          "output_type": "stream",
          "name": "stderr",
          "text": [
            "<ipython-input-1294-54b472e05c79>:2: FutureWarning: The default value of numeric_only in DataFrame.corr is deprecated. In a future version, it will default to False. Select only valid columns or specify the value of numeric_only to silence this warning.\n",
            "  sns.heatmap(df.corr(),annot=True,annot_kws={'size':15},cmap='RdBu')\n"
          ]
        },
        {
          "output_type": "display_data",
          "data": {
            "text/plain": [
              "<Figure size 640x480 with 2 Axes>"
            ],
            "image/png": "[encoded data removed]"
          },
          "metadata": {}
        }
      ]
    },
    {
      "cell_type": "code",
      "source": [],
      "metadata": {
        "id": "Gruzz9XqMgof"
      },
      "execution_count": 1294,
      "outputs": []
    },
    {
      "cell_type": "markdown",
      "source": [
        "**HANDLING MISSING VALUES**\n",
        "\n",
        "\n",
        "\n",
        "\n",
        "\n",
        "\n",
        "\n",
        "\n",
        "\n",
        "\n"
      ],
      "metadata": {
        "id": "LfFaSP7H-gXA"
      }
    },
    {
      "cell_type": "code",
      "source": [
        "#1 handling missing values\n",
        "df.isna().sum()"
      ],
      "metadata": {
        "colab": {
          "base_uri": "https://localhost:8080/"
        },
        "id": "4wVueGht-fpt",
        "outputId": "e37690e2-eb3b-461d-a792-46f25a7f7d61"
      },
      "execution_count": 1295,
      "outputs": [
        {
          "output_type": "execute_result",
          "data": {
            "text/plain": [
              "price               0\n",
              "area                6\n",
              "bedrooms            2\n",
              "bathrooms           0\n",
              "stories             2\n",
              "mainroad            1\n",
              "guestroom           0\n",
              "basement            2\n",
              "hotwaterheating     2\n",
              "airconditioning     3\n",
              "parking             0\n",
              "prefarea            2\n",
              "furnishingstatus    6\n",
              "dtype: int64"
            ]
          },
          "metadata": {},
          "execution_count": 1295
        }
      ]
    },
    {
      "cell_type": "code",
      "source": [
        "\n",
        "sns.histplot(df,x=df[\"area\"],bins=20)"
      ],
      "metadata": {
        "colab": {
          "base_uri": "https://localhost:8080/",
          "height": 466
        },
        "id": "p66GlcPCAUi4",
        "outputId": "e4343a9d-278f-4122-91e0-8354516204c8"
      },
      "execution_count": 1296,
      "outputs": [
        {
          "output_type": "execute_result",
          "data": {
            "text/plain": [
              "<Axes: xlabel='area', ylabel='Count'>"
            ]
          },
          "metadata": {},
          "execution_count": 1296
        },
        {
          "output_type": "display_data",
          "data": {
            "text/plain": [
              "<Figure size 640x480 with 1 Axes>"
            ],
            "image/png": "[encoded data removed]"
          },
          "metadata": {}
        }
      ]
    },
    {
      "cell_type": "code",
      "source": [
        "df[\"area\"].fillna(df[\"area\"].median(),inplace=True)"
      ],
      "metadata": {
        "id": "J6i1k-eXAz2H"
      },
      "execution_count": 1297,
      "outputs": []
    },
    {
      "cell_type": "markdown",
      "source": [
        "we take median bcoz left skewed"
      ],
      "metadata": {
        "id": "llMLSx8bCa_k"
      }
    },
    {
      "cell_type": "code",
      "source": [
        "sns.histplot(df,x=df[\"bedrooms\"],bins=20)"
      ],
      "metadata": {
        "colab": {
          "base_uri": "https://localhost:8080/",
          "height": 466
        },
        "id": "Wp8qBVgOnHg3",
        "outputId": "bfb294c9-bc74-47ea-e74a-e9bb6c840283"
      },
      "execution_count": 1298,
      "outputs": [
        {
          "output_type": "execute_result",
          "data": {
            "text/plain": [
              "<Axes: xlabel='bedrooms', ylabel='Count'>"
            ]
          },
          "metadata": {},
          "execution_count": 1298
        },
        {
          "output_type": "display_data",
          "data": {
            "text/plain": [
              "<Figure size 640x480 with 1 Axes>"
            ],
            "image/png": "[encoded data removed]"
          },
          "metadata": {}
        }
      ]
    },
    {
      "cell_type": "code",
      "source": [
        "df[\"bedrooms\"].fillna(df[\"bedrooms\"].mean(),inplace=True)"
      ],
      "metadata": {
        "id": "Z75B7PfonHa7"
      },
      "execution_count": 1299,
      "outputs": []
    },
    {
      "cell_type": "code",
      "source": [
        "sns.histplot(df,x=df[\"stories\"],bins=20)"
      ],
      "metadata": {
        "colab": {
          "base_uri": "https://localhost:8080/",
          "height": 466
        },
        "id": "M35CouitocyE",
        "outputId": "190adc74-b756-468a-c556-62a13bc41e27"
      },
      "execution_count": 1300,
      "outputs": [
        {
          "output_type": "execute_result",
          "data": {
            "text/plain": [
              "<Axes: xlabel='stories', ylabel='Count'>"
            ]
          },
          "metadata": {},
          "execution_count": 1300
        },
        {
          "output_type": "display_data",
          "data": {
            "text/plain": [
              "<Figure size 640x480 with 1 Axes>"
            ],
            "image/png": "[encoded data removed]"
          },
          "metadata": {}
        }
      ]
    },
    {
      "cell_type": "code",
      "source": [
        "df[\"stories\"].fillna(df[\"stories\"].median(),inplace=True)"
      ],
      "metadata": {
        "id": "Vn2ik8fGolyi"
      },
      "execution_count": 1301,
      "outputs": []
    },
    {
      "cell_type": "code",
      "source": [
        "df[\"mainroad\"].fillna(df[\"mainroad\"].mode()[0],inplace=True)\n",
        "df[\"basement\"].fillna(df[\"basement\"].mode()[0],inplace=True)\n",
        "df[\"hotwaterheating\"].fillna(df[\"hotwaterheating\"].mode()[0],inplace=True)\n",
        "df[\"airconditioning\"].fillna(df[\"airconditioning\"].mode()[0],inplace=True)\n",
        "df[\"prefarea\"].fillna(df[\"prefarea\"].mode()[0],inplace=True)\n",
        "df[\"furnishingstatus\"].fillna(df[\"furnishingstatus\"].mode()[0],inplace=True)\n",
        "\n"
      ],
      "metadata": {
        "id": "aV3VtdKCor5P"
      },
      "execution_count": 1302,
      "outputs": []
    },
    {
      "cell_type": "code",
      "source": [
        "df.isna().sum()"
      ],
      "metadata": {
        "colab": {
          "base_uri": "https://localhost:8080/"
        },
        "id": "Z7FgNSzDCBY3",
        "outputId": "907c5ce4-c068-4ef5-cfcd-f43b3b58b8ab"
      },
      "execution_count": 1303,
      "outputs": [
        {
          "output_type": "execute_result",
          "data": {
            "text/plain": [
              "price               0\n",
              "area                0\n",
              "bedrooms            0\n",
              "bathrooms           0\n",
              "stories             0\n",
              "mainroad            0\n",
              "guestroom           0\n",
              "basement            0\n",
              "hotwaterheating     0\n",
              "airconditioning     0\n",
              "parking             0\n",
              "prefarea            0\n",
              "furnishingstatus    0\n",
              "dtype: int64"
            ]
          },
          "metadata": {},
          "execution_count": 1303
        }
      ]
    },
    {
      "cell_type": "markdown",
      "source": [
        "**HANDLING CATEGORICAL VALUE**\n"
      ],
      "metadata": {
        "id": "OrFRRUHpMjqD"
      }
    },
    {
      "cell_type": "code",
      "source": [
        "df.furnishingstatus.value_counts()"
      ],
      "metadata": {
        "colab": {
          "base_uri": "https://localhost:8080/"
        },
        "id": "4vGGuMZRMio4",
        "outputId": "e6a3cd78-8662-4c9c-c512-0d8df3b72288"
      },
      "execution_count": 1304,
      "outputs": [
        {
          "output_type": "execute_result",
          "data": {
            "text/plain": [
              "semi-furnished    229\n",
              "unfurnished       177\n",
              "furnished         139\n",
              "Name: furnishingstatus, dtype: int64"
            ]
          },
          "metadata": {},
          "execution_count": 1304
        }
      ]
    },
    {
      "cell_type": "code",
      "source": [
        "df.prefarea.value_counts()"
      ],
      "metadata": {
        "colab": {
          "base_uri": "https://localhost:8080/"
        },
        "id": "aMQ7FmfHNYp5",
        "outputId": "fedeb4ab-5e1e-47f1-a17e-76f2daa93c3f"
      },
      "execution_count": 1305,
      "outputs": [
        {
          "output_type": "execute_result",
          "data": {
            "text/plain": [
              "no     418\n",
              "yes    127\n",
              "Name: prefarea, dtype: int64"
            ]
          },
          "metadata": {},
          "execution_count": 1305
        }
      ]
    },
    {
      "cell_type": "code",
      "source": [
        "df.airconditioning.value_counts()"
      ],
      "metadata": {
        "colab": {
          "base_uri": "https://localhost:8080/"
        },
        "id": "BieAAY84NhS_",
        "outputId": "45a02372-13dc-476b-f2c0-50e0831ebc7e"
      },
      "execution_count": 1306,
      "outputs": [
        {
          "output_type": "execute_result",
          "data": {
            "text/plain": [
              "no     375\n",
              "yes    170\n",
              "Name: airconditioning, dtype: int64"
            ]
          },
          "metadata": {},
          "execution_count": 1306
        }
      ]
    },
    {
      "cell_type": "code",
      "source": [
        "df.hotwaterheating.value_counts()"
      ],
      "metadata": {
        "colab": {
          "base_uri": "https://localhost:8080/"
        },
        "id": "r9O6P6hkNfoN",
        "outputId": "55294700-da44-4a85-e90c-4b91c3cd2662"
      },
      "execution_count": 1307,
      "outputs": [
        {
          "output_type": "execute_result",
          "data": {
            "text/plain": [
              "no     521\n",
              "yes     24\n",
              "Name: hotwaterheating, dtype: int64"
            ]
          },
          "metadata": {},
          "execution_count": 1307
        }
      ]
    },
    {
      "cell_type": "code",
      "source": [
        "df.basement.value_counts()"
      ],
      "metadata": {
        "colab": {
          "base_uri": "https://localhost:8080/"
        },
        "id": "QtCgksP2NxxV",
        "outputId": "e2a88742-4fca-4a82-b5af-0364f3823226"
      },
      "execution_count": 1308,
      "outputs": [
        {
          "output_type": "execute_result",
          "data": {
            "text/plain": [
              "no     356\n",
              "yes    189\n",
              "Name: basement, dtype: int64"
            ]
          },
          "metadata": {},
          "execution_count": 1308
        }
      ]
    },
    {
      "cell_type": "code",
      "source": [
        "df.guestroom.value_counts()"
      ],
      "metadata": {
        "colab": {
          "base_uri": "https://localhost:8080/"
        },
        "id": "3WvutqPdq51A",
        "outputId": "b2bd1da3-b457-496c-e17f-c0412fe206a3"
      },
      "execution_count": 1309,
      "outputs": [
        {
          "output_type": "execute_result",
          "data": {
            "text/plain": [
              "no     448\n",
              "yes     97\n",
              "Name: guestroom, dtype: int64"
            ]
          },
          "metadata": {},
          "execution_count": 1309
        }
      ]
    },
    {
      "cell_type": "code",
      "source": [
        "df.mainroad.value_counts()"
      ],
      "metadata": {
        "colab": {
          "base_uri": "https://localhost:8080/"
        },
        "id": "VHd2fH6nq5o1",
        "outputId": "1ac2a061-e408-4852-9c89-d371c9cfff77"
      },
      "execution_count": 1310,
      "outputs": [
        {
          "output_type": "execute_result",
          "data": {
            "text/plain": [
              "yes    468\n",
              "no      77\n",
              "Name: mainroad, dtype: int64"
            ]
          },
          "metadata": {},
          "execution_count": 1310
        }
      ]
    },
    {
      "cell_type": "code",
      "source": [
        "# lamda function\n",
        "df['mainroad']=df.apply(lambda x: 1 if x['mainroad']=='yes' else 0 ,axis=1)\n",
        "df.mainroad.value_counts()"
      ],
      "metadata": {
        "colab": {
          "base_uri": "https://localhost:8080/"
        },
        "id": "f43oz05jN1t6",
        "outputId": "a0132d9c-7304-4e8e-f4b2-a89f7ac89def"
      },
      "execution_count": 1311,
      "outputs": [
        {
          "output_type": "execute_result",
          "data": {
            "text/plain": [
              "1    468\n",
              "0     77\n",
              "Name: mainroad, dtype: int64"
            ]
          },
          "metadata": {},
          "execution_count": 1311
        }
      ]
    },
    {
      "cell_type": "code",
      "source": [
        "# lamda function\n",
        "df['guestroom']=df.apply(lambda x: 1 if x['guestroom']=='yes' else 0 ,axis=1)\n",
        "df.guestroom.value_counts()"
      ],
      "metadata": {
        "colab": {
          "base_uri": "https://localhost:8080/"
        },
        "id": "dxsxL5BqrPZo",
        "outputId": "8640292e-84ca-432d-be5e-fb0660891fda"
      },
      "execution_count": 1312,
      "outputs": [
        {
          "output_type": "execute_result",
          "data": {
            "text/plain": [
              "0    448\n",
              "1     97\n",
              "Name: guestroom, dtype: int64"
            ]
          },
          "metadata": {},
          "execution_count": 1312
        }
      ]
    },
    {
      "cell_type": "code",
      "source": [
        "# lamda function\n",
        "df['basement']=df.apply(lambda x: 1 if x['basement']=='yes' else 0 ,axis=1)\n",
        "df.basement.value_counts()"
      ],
      "metadata": {
        "colab": {
          "base_uri": "https://localhost:8080/"
        },
        "id": "8QLQeNrirPUR",
        "outputId": "e4d8018c-14f4-416e-f00b-126bd7624ee9"
      },
      "execution_count": 1313,
      "outputs": [
        {
          "output_type": "execute_result",
          "data": {
            "text/plain": [
              "0    356\n",
              "1    189\n",
              "Name: basement, dtype: int64"
            ]
          },
          "metadata": {},
          "execution_count": 1313
        }
      ]
    },
    {
      "cell_type": "code",
      "source": [
        "# lamda function\n",
        "df['hotwaterheating']=df.apply(lambda x: 1 if x['hotwaterheating']=='yes' else 0 ,axis=1)\n",
        "df.hotwaterheating.value_counts()"
      ],
      "metadata": {
        "colab": {
          "base_uri": "https://localhost:8080/"
        },
        "id": "n7qf6bN-rPN-",
        "outputId": "63cfb8e9-da02-4e1b-bc9c-1d71807cf570"
      },
      "execution_count": 1314,
      "outputs": [
        {
          "output_type": "execute_result",
          "data": {
            "text/plain": [
              "0    521\n",
              "1     24\n",
              "Name: hotwaterheating, dtype: int64"
            ]
          },
          "metadata": {},
          "execution_count": 1314
        }
      ]
    },
    {
      "cell_type": "code",
      "source": [
        "# lamda function\n",
        "df['airconditioning']=df.apply(lambda x: 1 if x['airconditioning']=='yes' else 0 ,axis=1)\n",
        "df.airconditioning.value_counts()"
      ],
      "metadata": {
        "colab": {
          "base_uri": "https://localhost:8080/"
        },
        "id": "m098SiwZrPG_",
        "outputId": "691856a8-73a6-4e53-ec29-59f25d4bf403"
      },
      "execution_count": 1315,
      "outputs": [
        {
          "output_type": "execute_result",
          "data": {
            "text/plain": [
              "0    375\n",
              "1    170\n",
              "Name: airconditioning, dtype: int64"
            ]
          },
          "metadata": {},
          "execution_count": 1315
        }
      ]
    },
    {
      "cell_type": "code",
      "source": [
        "# lamda function\n",
        "df['prefarea']=df.apply(lambda x: 1 if x['prefarea']=='yes' else 0 ,axis=1)\n",
        "df.prefarea.value_counts()"
      ],
      "metadata": {
        "colab": {
          "base_uri": "https://localhost:8080/"
        },
        "id": "P09kHvB-rO6U",
        "outputId": "91d28565-d2b9-49b1-e912-abbf3fbb397a"
      },
      "execution_count": 1316,
      "outputs": [
        {
          "output_type": "execute_result",
          "data": {
            "text/plain": [
              "0    418\n",
              "1    127\n",
              "Name: prefarea, dtype: int64"
            ]
          },
          "metadata": {},
          "execution_count": 1316
        }
      ]
    },
    {
      "cell_type": "code",
      "source": [
        "# Label Encoding\n",
        "from sklearn import preprocessing\n",
        "label_encoder = preprocessing.LabelEncoder()\n",
        "df['furnishingstatus']= label_encoder.fit_transform(df['furnishingstatus'])\n",
        "df.head(10)"
      ],
      "metadata": {
        "colab": {
          "base_uri": "https://localhost:8080/",
          "height": 363
        },
        "id": "l1eOpvUUQ7Ya",
        "outputId": "ebc74aaf-863a-4a08-acd4-d9de60f89837"
      },
      "execution_count": 1317,
      "outputs": [
        {
          "output_type": "execute_result",
          "data": {
            "text/plain": [
              "       price    area  bedrooms  bathrooms  stories  mainroad  guestroom  \\\n",
              "0  8400000.0  7420.0  4.000000          2      3.0         1          0   \n",
              "1  8400000.0  8960.0  4.000000          4      4.0         1          0   \n",
              "2  8400000.0  9000.0  3.000000          2      2.0         1          0   \n",
              "3  8400000.0  7500.0  4.000000          2      2.0         1          0   \n",
              "4  8400000.0  7420.0  4.000000          1      2.0         1          1   \n",
              "5  8400000.0  7500.0  3.000000          3      1.0         1          0   \n",
              "6  8400000.0  8580.0  4.000000          3      4.0         1          0   \n",
              "7  8400000.0  9000.0  5.000000          3      2.0         1          0   \n",
              "8  8400000.0  8100.0  2.963168          1      2.0         1          1   \n",
              "9  8400000.0  5750.0  3.000000          2      4.0         1          1   \n",
              "\n",
              "   basement  hotwaterheating  airconditioning  parking  prefarea  \\\n",
              "0         0                0                1        2         1   \n",
              "1         0                0                1        3         0   \n",
              "2         1                0                0        2         1   \n",
              "3         1                0                1        3         1   \n",
              "4         0                0                1        2         0   \n",
              "5         1                0                1        2         1   \n",
              "6         0                0                1        2         1   \n",
              "7         0                0                0        0         0   \n",
              "8         1                0                1        2         1   \n",
              "9         0                0                1        1         1   \n",
              "\n",
              "   furnishingstatus  \n",
              "0                 0  \n",
              "1                 0  \n",
              "2                 1  \n",
              "3                 0  \n",
              "4                 0  \n",
              "5                 1  \n",
              "6                 1  \n",
              "7                 2  \n",
              "8                 0  \n",
              "9                 2  "
            ],
            "text/html": [
              "\n",
              "  <div id=\"df-4dd03e43-8430-47fb-8c65-1dc71f3fb63f\" class=\"colab-df-container\">\n",
              "    <div>\n",
              "<style scoped>\n",
              "    .dataframe tbody tr th:only-of-type {\n",
              "        vertical-align: middle;\n",
              "    }\n",
              "\n",
              "    .dataframe tbody tr th {\n",
              "        vertical-align: top;\n",
              "    }\n",
              "\n",
              "    .dataframe thead th {\n",
              "        text-align: right;\n",
              "    }\n",
              "</style>\n",
              "<table border=\"1\" class=\"dataframe\">\n",
              "  <thead>\n",
              "    <tr style=\"text-align: right;\">\n",
              "      <th></th>\n",
              "      <th>price</th>\n",
              "      <th>area</th>\n",
              "      <th>bedrooms</th>\n",
              "      <th>bathrooms</th>\n",
              "      <th>stories</th>\n",
              "      <th>mainroad</th>\n",
              "      <th>guestroom</th>\n",
              "      <th>basement</th>\n",
              "      <th>hotwaterheating</th>\n",
              "      <th>airconditioning</th>\n",
              "      <th>parking</th>\n",
              "      <th>prefarea</th>\n",
              "      <th>furnishingstatus</th>\n",
              "    </tr>\n",
              "  </thead>\n",
              "  <tbody>\n",
              "    <tr>\n",
              "      <th>0</th>\n",
              "      <td>8400000.0</td>\n",
              "      <td>7420.0</td>\n",
              "      <td>4.000000</td>\n",
              "      <td>2</td>\n",
              "      <td>3.0</td>\n",
              "      <td>1</td>\n",
              "      <td>0</td>\n",
              "      <td>0</td>\n",
              "      <td>0</td>\n",
              "      <td>1</td>\n",
              "      <td>2</td>\n",
              "      <td>1</td>\n",
              "      <td>0</td>\n",
              "    </tr>\n",
              "    <tr>\n",
              "      <th>1</th>\n",
              "      <td>8400000.0</td>\n",
              "      <td>8960.0</td>\n",
              "      <td>4.000000</td>\n",
              "      <td>4</td>\n",
              "      <td>4.0</td>\n",
              "      <td>1</td>\n",
              "      <td>0</td>\n",
              "      <td>0</td>\n",
              "      <td>0</td>\n",
              "      <td>1</td>\n",
              "      <td>3</td>\n",
              "      <td>0</td>\n",
              "      <td>0</td>\n",
              "    </tr>\n",
              "    <tr>\n",
              "      <th>2</th>\n",
              "      <td>8400000.0</td>\n",
              "      <td>9000.0</td>\n",
              "      <td>3.000000</td>\n",
              "      <td>2</td>\n",
              "      <td>2.0</td>\n",
              "      <td>1</td>\n",
              "      <td>0</td>\n",
              "      <td>1</td>\n",
              "      <td>0</td>\n",
              "      <td>0</td>\n",
              "      <td>2</td>\n",
              "      <td>1</td>\n",
              "      <td>1</td>\n",
              "    </tr>\n",
              "    <tr>\n",
              "      <th>3</th>\n",
              "      <td>8400000.0</td>\n",
              "      <td>7500.0</td>\n",
              "      <td>4.000000</td>\n",
              "      <td>2</td>\n",
              "      <td>2.0</td>\n",
              "      <td>1</td>\n",
              "      <td>0</td>\n",
              "      <td>1</td>\n",
              "      <td>0</td>\n",
              "      <td>1</td>\n",
              "      <td>3</td>\n",
              "      <td>1</td>\n",
              "      <td>0</td>\n",
              "    </tr>\n",
              "    <tr>\n",
              "      <th>4</th>\n",
              "      <td>8400000.0</td>\n",
              "      <td>7420.0</td>\n",
              "      <td>4.000000</td>\n",
              "      <td>1</td>\n",
              "      <td>2.0</td>\n",
              "      <td>1</td>\n",
              "      <td>1</td>\n",
              "      <td>0</td>\n",
              "      <td>0</td>\n",
              "      <td>1</td>\n",
              "      <td>2</td>\n",
              "      <td>0</td>\n",
              "      <td>0</td>\n",
              "    </tr>\n",
              "    <tr>\n",
              "      <th>5</th>\n",
              "      <td>8400000.0</td>\n",
              "      <td>7500.0</td>\n",
              "      <td>3.000000</td>\n",
              "      <td>3</td>\n",
              "      <td>1.0</td>\n",
              "      <td>1</td>\n",
              "      <td>0</td>\n",
              "      <td>1</td>\n",
              "      <td>0</td>\n",
              "      <td>1</td>\n",
              "      <td>2</td>\n",
              "      <td>1</td>\n",
              "      <td>1</td>\n",
              "    </tr>\n",
              "    <tr>\n",
              "      <th>6</th>\n",
              "      <td>8400000.0</td>\n",
              "      <td>8580.0</td>\n",
              "      <td>4.000000</td>\n",
              "      <td>3</td>\n",
              "      <td>4.0</td>\n",
              "      <td>1</td>\n",
              "      <td>0</td>\n",
              "      <td>0</td>\n",
              "      <td>0</td>\n",
              "      <td>1</td>\n",
              "      <td>2</td>\n",
              "      <td>1</td>\n",
              "      <td>1</td>\n",
              "    </tr>\n",
              "    <tr>\n",
              "      <th>7</th>\n",
              "      <td>8400000.0</td>\n",
              "      <td>9000.0</td>\n",
              "      <td>5.000000</td>\n",
              "      <td>3</td>\n",
              "      <td>2.0</td>\n",
              "      <td>1</td>\n",
              "      <td>0</td>\n",
              "      <td>0</td>\n",
              "      <td>0</td>\n",
              "      <td>0</td>\n",
              "      <td>0</td>\n",
              "      <td>0</td>\n",
              "      <td>2</td>\n",
              "    </tr>\n",
              "    <tr>\n",
              "      <th>8</th>\n",
              "      <td>8400000.0</td>\n",
              "      <td>8100.0</td>\n",
              "      <td>2.963168</td>\n",
              "      <td>1</td>\n",
              "      <td>2.0</td>\n",
              "      <td>1</td>\n",
              "      <td>1</td>\n",
              "      <td>1</td>\n",
              "      <td>0</td>\n",
              "      <td>1</td>\n",
              "      <td>2</td>\n",
              "      <td>1</td>\n",
              "      <td>0</td>\n",
              "    </tr>\n",
              "    <tr>\n",
              "      <th>9</th>\n",
              "      <td>8400000.0</td>\n",
              "      <td>5750.0</td>\n",
              "      <td>3.000000</td>\n",
              "      <td>2</td>\n",
              "      <td>4.0</td>\n",
              "      <td>1</td>\n",
              "      <td>1</td>\n",
              "      <td>0</td>\n",
              "      <td>0</td>\n",
              "      <td>1</td>\n",
              "      <td>1</td>\n",
              "      <td>1</td>\n",
              "      <td>2</td>\n",
              "    </tr>\n",
              "  </tbody>\n",
              "</table>\n",
              "</div>\n",
              "    <div class=\"colab-df-buttons\">\n",
              "\n",
              "  <div class=\"colab-df-container\">\n",
              "    <button class=\"colab-df-convert\" onclick=\"convertToInteractive('df-4dd03e43-8430-47fb-8c65-1dc71f3fb63f')\"\n",
              "            title=\"Convert this dataframe to an interactive table.\"\n",
              "            style=\"display:none;\">\n",
              "\n",
              "  <svg xmlns=\"http://www.w3.org/2000/svg\" height=\"24px\" viewBox=\"0 -960 960 960\">\n",
              "    <path d=\"M120-120v-720h720v720H120Zm60-500h600v-160H180v160Zm220 220h160v-160H400v160Zm0 220h160v-160H400v160ZM180-400h160v-160H180v160Zm440 0h160v-160H620v160ZM180-180h160v-160H180v160Zm440 0h160v-160H620v160Z\"/>\n",
              "  </svg>\n",
              "    </button>\n",
              "\n",
              "  <style>\n",
              "    .colab-df-container {\n",
              "      display:flex;\n",
              "      gap: 12px;\n",
              "    }\n",
              "\n",
              "    .colab-df-convert {\n",
              "      background-color: #E8F0FE;\n",
              "      border: none;\n",
              "      border-radius: 50%;\n",
              "      cursor: pointer;\n",
              "      display: none;\n",
              "      fill: #1967D2;\n",
              "      height: 32px;\n",
              "      padding: 0 0 0 0;\n",
              "      width: 32px;\n",
              "    }\n",
              "\n",
              "    .colab-df-convert:hover {\n",
              "      background-color: #E2EBFA;\n",
              "      box-shadow: 0px 1px 2px rgba(60, 64, 67, 0.3), 0px 1px 3px 1px rgba(60, 64, 67, 0.15);\n",
              "      fill: #174EA6;\n",
              "    }\n",
              "\n",
              "    .colab-df-buttons div {\n",
              "      margin-bottom: 4px;\n",
              "    }\n",
              "\n",
              "    [theme=dark] .colab-df-convert {\n",
              "      background-color: #3B4455;\n",
              "      fill: #D2E3FC;\n",
              "    }\n",
              "\n",
              "    [theme=dark] .colab-df-convert:hover {\n",
              "      background-color: #434B5C;\n",
              "      box-shadow: 0px 1px 3px 1px rgba(0, 0, 0, 0.15);\n",
              "      filter: drop-shadow(0px 1px 2px rgba(0, 0, 0, 0.3));\n",
              "      fill: #FFFFFF;\n",
              "    }\n",
              "  </style>\n",
              "\n",
              "    <script>\n",
              "      const buttonEl =\n",
              "        document.querySelector('#df-4dd03e43-8430-47fb-8c65-1dc71f3fb63f button.colab-df-convert');\n",
              "      buttonEl.style.display =\n",
              "        google.colab.kernel.accessAllowed ? 'block' : 'none';\n",
              "\n",
              "      async function convertToInteractive(key) {\n",
              "        const element = document.querySelector('#df-4dd03e43-8430-47fb-8c65-1dc71f3fb63f');\n",
              "        const dataTable =\n",
              "          await google.colab.kernel.invokeFunction('convertToInteractive',\n",
              "                                                    [key], {});\n",
              "        if (!dataTable) return;\n",
              "\n",
              "        const docLinkHtml = 'Like what you see? Visit the ' +\n",
              "          '<a target=\"_blank\" href=https://colab.research.google.com/notebooks/data_table.ipynb>data table notebook</a>'\n",
              "          + ' to learn more about interactive tables.';\n",
              "        element.innerHTML = '';\n",
              "        dataTable['output_type'] = 'display_data';\n",
              "        await google.colab.output.renderOutput(dataTable, element);\n",
              "        const docLink = document.createElement('div');\n",
              "        docLink.innerHTML = docLinkHtml;\n",
              "        element.appendChild(docLink);\n",
              "      }\n",
              "    </script>\n",
              "  </div>\n",
              "\n",
              "\n",
              "<div id=\"df-953b9d89-b77f-4088-be83-f6523d127b25\">\n",
              "  <button class=\"colab-df-quickchart\" onclick=\"quickchart('df-953b9d89-b77f-4088-be83-f6523d127b25')\"\n",
              "            title=\"Suggest charts\"\n",
              "            style=\"display:none;\">\n",
              "\n",
              "<svg xmlns=\"http://www.w3.org/2000/svg\" height=\"24px\"viewBox=\"0 0 24 24\"\n",
              "     width=\"24px\">\n",
              "    <g>\n",
              "        <path d=\"M19 3H5c-1.1 0-2 .9-2 2v14c0 1.1.9 2 2 2h14c1.1 0 2-.9 2-2V5c0-1.1-.9-2-2-2zM9 17H7v-7h2v7zm4 0h-2V7h2v10zm4 0h-2v-4h2v4z\"/>\n",
              "    </g>\n",
              "</svg>\n",
              "  </button>\n",
              "\n",
              "<style>\n",
              "  .colab-df-quickchart {\n",
              "      --bg-color: #E8F0FE;\n",
              "      --fill-color: #1967D2;\n",
              "      --hover-bg-color: #E2EBFA;\n",
              "      --hover-fill-color: #174EA6;\n",
              "      --disabled-fill-color: #AAA;\n",
              "      --disabled-bg-color: #DDD;\n",
              "  }\n",
              "\n",
              "  [theme=dark] .colab-df-quickchart {\n",
              "      --bg-color: #3B4455;\n",
              "      --fill-color: #D2E3FC;\n",
              "      --hover-bg-color: #434B5C;\n",
              "      --hover-fill-color: #FFFFFF;\n",
              "      --disabled-bg-color: #3B4455;\n",
              "      --disabled-fill-color: #666;\n",
              "  }\n",
              "\n",
              "  .colab-df-quickchart {\n",
              "    background-color: var(--bg-color);\n",
              "    border: none;\n",
              "    border-radius: 50%;\n",
              "    cursor: pointer;\n",
              "    display: none;\n",
              "    fill: var(--fill-color);\n",
              "    height: 32px;\n",
              "    padding: 0;\n",
              "    width: 32px;\n",
              "  }\n",
              "\n",
              "  .colab-df-quickchart:hover {\n",
              "    background-color: var(--hover-bg-color);\n",
              "    box-shadow: 0 1px 2px rgba(60, 64, 67, 0.3), 0 1px 3px 1px rgba(60, 64, 67, 0.15);\n",
              "    fill: var(--button-hover-fill-color);\n",
              "  }\n",
              "\n",
              "  .colab-df-quickchart-complete:disabled,\n",
              "  .colab-df-quickchart-complete:disabled:hover {\n",
              "    background-color: var(--disabled-bg-color);\n",
              "    fill: var(--disabled-fill-color);\n",
              "    box-shadow: none;\n",
              "  }\n",
              "\n",
              "  .colab-df-spinner {\n",
              "    border: 2px solid var(--fill-color);\n",
              "    border-color: transparent;\n",
              "    border-bottom-color: var(--fill-color);\n",
              "    animation:\n",
              "      spin 1s steps(1) infinite;\n",
              "  }\n",
              "\n",
              "  @keyframes spin {\n",
              "    0% {\n",
              "      border-color: transparent;\n",
              "      border-bottom-color: var(--fill-color);\n",
              "      border-left-color: var(--fill-color);\n",
              "    }\n",
              "    20% {\n",
              "      border-color: transparent;\n",
              "      border-left-color: var(--fill-color);\n",
              "      border-top-color: var(--fill-color);\n",
              "    }\n",
              "    30% {\n",
              "      border-color: transparent;\n",
              "      border-left-color: var(--fill-color);\n",
              "      border-top-color: var(--fill-color);\n",
              "      border-right-color: var(--fill-color);\n",
              "    }\n",
              "    40% {\n",
              "      border-color: transparent;\n",
              "      border-right-color: var(--fill-color);\n",
              "      border-top-color: var(--fill-color);\n",
              "    }\n",
              "    60% {\n",
              "      border-color: transparent;\n",
              "      border-right-color: var(--fill-color);\n",
              "    }\n",
              "    80% {\n",
              "      border-color: transparent;\n",
              "      border-right-color: var(--fill-color);\n",
              "      border-bottom-color: var(--fill-color);\n",
              "    }\n",
              "    90% {\n",
              "      border-color: transparent;\n",
              "      border-bottom-color: var(--fill-color);\n",
              "    }\n",
              "  }\n",
              "</style>\n",
              "\n",
              "  <script>\n",
              "    async function quickchart(key) {\n",
              "      const quickchartButtonEl =\n",
              "        document.querySelector('#' + key + ' button');\n",
              "      quickchartButtonEl.disabled = true;  // To prevent multiple clicks.\n",
              "      quickchartButtonEl.classList.add('colab-df-spinner');\n",
              "      try {\n",
              "        const charts = await google.colab.kernel.invokeFunction(\n",
              "            'suggestCharts', [key], {});\n",
              "      } catch (error) {\n",
              "        console.error('Error during call to suggestCharts:', error);\n",
              "      }\n",
              "      quickchartButtonEl.classList.remove('colab-df-spinner');\n",
              "      quickchartButtonEl.classList.add('colab-df-quickchart-complete');\n",
              "    }\n",
              "    (() => {\n",
              "      let quickchartButtonEl =\n",
              "        document.querySelector('#df-953b9d89-b77f-4088-be83-f6523d127b25 button');\n",
              "      quickchartButtonEl.style.display =\n",
              "        google.colab.kernel.accessAllowed ? 'block' : 'none';\n",
              "    })();\n",
              "  </script>\n",
              "</div>\n",
              "    </div>\n",
              "  </div>\n"
            ]
          },
          "metadata": {},
          "execution_count": 1317
        }
      ]
    },
    {
      "cell_type": "code",
      "source": [
        "df.info()"
      ],
      "metadata": {
        "colab": {
          "base_uri": "https://localhost:8080/"
        },
        "id": "FonDF0RtRCmY",
        "outputId": "a5132c7f-4e71-4f5f-ce1c-8089eaa5e9d9"
      },
      "execution_count": 1318,
      "outputs": [
        {
          "output_type": "stream",
          "name": "stdout",
          "text": [
            "<class 'pandas.core.frame.DataFrame'>\n",
            "RangeIndex: 545 entries, 0 to 544\n",
            "Data columns (total 13 columns):\n",
            " #   Column            Non-Null Count  Dtype  \n",
            "---  ------            --------------  -----  \n",
            " 0   price             545 non-null    float64\n",
            " 1   area              545 non-null    float64\n",
            " 2   bedrooms          545 non-null    float64\n",
            " 3   bathrooms         545 non-null    int64  \n",
            " 4   stories           545 non-null    float64\n",
            " 5   mainroad          545 non-null    int64  \n",
            " 6   guestroom         545 non-null    int64  \n",
            " 7   basement          545 non-null    int64  \n",
            " 8   hotwaterheating   545 non-null    int64  \n",
            " 9   airconditioning   545 non-null    int64  \n",
            " 10  parking           545 non-null    int64  \n",
            " 11  prefarea          545 non-null    int64  \n",
            " 12  furnishingstatus  545 non-null    int64  \n",
            "dtypes: float64(4), int64(9)\n",
            "memory usage: 55.5 KB\n"
          ]
        }
      ]
    },
    {
      "cell_type": "markdown",
      "source": [
        "**FEATURE SCALING**\n",
        "\n",
        "\n"
      ],
      "metadata": {
        "id": "2ulkTGzACscG"
      }
    },
    {
      "cell_type": "code",
      "source": [
        "#normalization\n",
        "\n",
        "# df[\"area\"]=((df[\"area\"]-df[\"area\"].mean())/df[\"area\"].std())"
      ],
      "metadata": {
        "id": "RpyNmkldCWgN"
      },
      "execution_count": 1319,
      "outputs": []
    },
    {
      "cell_type": "code",
      "source": [
        "df[\"area\"]"
      ],
      "metadata": {
        "colab": {
          "base_uri": "https://localhost:8080/"
        },
        "id": "nJ4e0W6AEJGP",
        "outputId": "e1cec3ad-061a-425b-b365-34071d5bad97"
      },
      "execution_count": 1320,
      "outputs": [
        {
          "output_type": "execute_result",
          "data": {
            "text/plain": [
              "0      7420.0\n",
              "1      8960.0\n",
              "2      9000.0\n",
              "3      7500.0\n",
              "4      7420.0\n",
              "        ...  \n",
              "540    3000.0\n",
              "541    2547.0\n",
              "542    3620.0\n",
              "543    2910.0\n",
              "544    3850.0\n",
              "Name: area, Length: 545, dtype: float64"
            ]
          },
          "metadata": {},
          "execution_count": 1320
        }
      ]
    },
    {
      "cell_type": "code",
      "source": [
        "# seprating target variable and its features\n",
        "y=df[\"price\"]\n",
        "X=df.drop('price',axis=1)\n",
        "\n"
      ],
      "metadata": {
        "id": "YsPjNr3nE1RB"
      },
      "execution_count": 1321,
      "outputs": []
    },
    {
      "cell_type": "markdown",
      "source": [
        "#Neural Network"
      ],
      "metadata": {
        "id": "TkQjb-3yu7Km"
      }
    },
    {
      "cell_type": "code",
      "source": [
        "from sklearn.model_selection import train_test_split"
      ],
      "metadata": {
        "id": "9KhqyNbKG6r2"
      },
      "execution_count": 1322,
      "outputs": []
    },
    {
      "cell_type": "code",
      "source": [
        "X_train,X_test,Y_train,Y_test=train_test_split(X,y,test_size=0.3,random_state=101)"
      ],
      "metadata": {
        "id": "Ygd4tB6tIpfj"
      },
      "execution_count": 1323,
      "outputs": []
    },
    {
      "cell_type": "code",
      "source": [
        "from sklearn import preprocessing\n",
        "\n",
        "min_max_scaler = preprocessing.MinMaxScaler()\n",
        "X_train = min_max_scaler.fit_transform(X_train)\n",
        "X_test = min_max_scaler.transform(X_test)"
      ],
      "metadata": {
        "id": "4vz8V5_GdnBL"
      },
      "execution_count": 1324,
      "outputs": []
    },
    {
      "cell_type": "code",
      "source": [
        "from keras import models\n",
        "from keras import layers\n",
        "import tensorflow as tf\n",
        "from tensorflow.keras import Sequential\n",
        "from tensorflow.keras.layers import Dense"
      ],
      "metadata": {
        "id": "XgWrV-A3dzd-"
      },
      "execution_count": 1325,
      "outputs": []
    },
    {
      "cell_type": "code",
      "source": [
        "network = Sequential()\n",
        "network.add(layers.Dense(12,activation=tf.keras.layers.LeakyReLU(alpha=0.01),bias_initializer = 'zeros',input_shape = (12,)))\n",
        "network.add(layers.Dense(20,activation='relu',))\n",
        "network.add(layers.Dense(20,activation='relu'))\n",
        "network.add(layers.Dense(20,activation='relu',))\n",
        "network.add(layers.Dense(20,activation='relu'))\n"
      ],
      "metadata": {
        "id": "s4dpmxrLdzbl"
      },
      "execution_count": 1326,
      "outputs": []
    },
    {
      "cell_type": "code",
      "source": [
        "network.add(layers.Dense(1,activation='linear'))"
      ],
      "metadata": {
        "id": "jEBC1Wcmd42d"
      },
      "execution_count": 1327,
      "outputs": []
    },
    {
      "cell_type": "code",
      "source": [
        "import keras\n",
        "network.compile(optimizer = 'adam',\n",
        "                loss = 'mean_squared_error',\n",
        "                metrics = ['mae','mse'])"
      ],
      "metadata": {
        "id": "cqmPLK-Ld5ji"
      },
      "execution_count": 1328,
      "outputs": []
    },
    {
      "cell_type": "code",
      "source": [
        "Y_train\n",
        "Y_train = np.array(Y_train)\n",
        "X_train = np.array(X_train)\n",
        "X_test = np.array(X_test)\n",
        "Y_test = np.array(Y_test)\n",
        "X_train.shape\n",
        "X_train"
      ],
      "metadata": {
        "colab": {
          "base_uri": "https://localhost:8080/"
        },
        "id": "o5ajHYdieDDY",
        "outputId": "3abe41ee-ef17-48e8-a6d4-25e19d67870f"
      },
      "execution_count": 1329,
      "outputs": [
        {
          "output_type": "execute_result",
          "data": {
            "text/plain": [
              "array([[0.53509995, 0.2       , 0.        , ..., 0.33333333, 0.        ,\n",
              "        0.        ],\n",
              "       [0.07019991, 0.6       , 0.        , ..., 0.66666667, 0.        ,\n",
              "        0.5       ],\n",
              "       [0.16782892, 0.2       , 0.        , ..., 0.        , 0.        ,\n",
              "        1.        ],\n",
              "       ...,\n",
              "       [0.26545793, 0.6       , 0.33333333, ..., 0.        , 0.        ,\n",
              "        0.5       ],\n",
              "       [0.        , 0.6       , 0.33333333, ..., 0.        , 1.        ,\n",
              "        1.        ],\n",
              "       [0.037192  , 0.6       , 0.33333333, ..., 0.        , 0.        ,\n",
              "        0.        ]])"
            ]
          },
          "metadata": {},
          "execution_count": 1329
        }
      ]
    },
    {
      "cell_type": "code",
      "source": [
        "network.fit(X_train,Y_train,epochs = 1000,batch_size = 128)"
      ],
      "metadata": {
        "colab": {
          "base_uri": "https://localhost:8080/"
        },
        "id": "NyDTk-3YeDBB",
        "outputId": "31509158-bfd7-4915-ee46-baac1cbaa948"
      },
      "execution_count": 1330,
      "outputs": [
        {
          "output_type": "stream",
          "name": "stdout",
          "text": [
            "Epoch 1/1000\n",
            "3/3 [==============================] - 1s 6ms/step - loss: 24571994439680.0000 - mae: 4669670.5000 - mse: 24571994439680.0000\n",
            "Epoch 2/1000\n",
            "3/3 [==============================] - 0s 5ms/step - loss: 24571994439680.0000 - mae: 4669670.0000 - mse: 24571994439680.0000\n",
            "Epoch 3/1000\n",
            "3/3 [==============================] - 0s 6ms/step - loss: 24571994439680.0000 - mae: 4669670.5000 - mse: 24571994439680.0000\n",
            "Epoch 4/1000\n",
            "3/3 [==============================] - 0s 5ms/step - loss: 24571994439680.0000 - mae: 4669670.0000 - mse: 24571994439680.0000\n",
            "Epoch 5/1000\n",
            "3/3 [==============================] - 0s 5ms/step - loss: 24571994439680.0000 - mae: 4669670.5000 - mse: 24571994439680.0000\n",
            "Epoch 6/1000\n",
            "3/3 [==============================] - 0s 6ms/step - loss: 24571994439680.0000 - mae: 4669670.0000 - mse: 24571994439680.0000\n",
            "Epoch 7/1000\n",
            "3/3 [==============================] - 0s 6ms/step - loss: 24571994439680.0000 - mae: 4669670.0000 - mse: 24571994439680.0000\n",
            "Epoch 8/1000\n",
            "3/3 [==============================] - 0s 10ms/step - loss: 24571994439680.0000 - mae: 4669670.0000 - mse: 24571994439680.0000\n",
            "Epoch 9/1000\n",
            "3/3 [==============================] - 0s 10ms/step - loss: 24571994439680.0000 - mae: 4669670.0000 - mse: 24571994439680.0000\n",
            "Epoch 10/1000\n",
            "3/3 [==============================] - 0s 10ms/step - loss: 24571992342528.0000 - mae: 4669670.0000 - mse: 24571992342528.0000\n",
            "Epoch 11/1000\n",
            "3/3 [==============================] - 0s 8ms/step - loss: 24571992342528.0000 - mae: 4669670.0000 - mse: 24571992342528.0000\n",
            "Epoch 12/1000\n",
            "3/3 [==============================] - 0s 6ms/step - loss: 24571992342528.0000 - mae: 4669670.0000 - mse: 24571992342528.0000\n",
            "Epoch 13/1000\n",
            "3/3 [==============================] - 0s 6ms/step - loss: 24571992342528.0000 - mae: 4669670.0000 - mse: 24571992342528.0000\n",
            "Epoch 14/1000\n",
            "3/3 [==============================] - 0s 9ms/step - loss: 24571990245376.0000 - mae: 4669670.0000 - mse: 24571990245376.0000\n",
            "Epoch 15/1000\n",
            "3/3 [==============================] - 0s 7ms/step - loss: 24571992342528.0000 - mae: 4669669.0000 - mse: 24571992342528.0000\n",
            "Epoch 16/1000\n",
            "3/3 [==============================] - 0s 5ms/step - loss: 24571986051072.0000 - mae: 4669669.5000 - mse: 24571986051072.0000\n",
            "Epoch 17/1000\n",
            "3/3 [==============================] - 0s 6ms/step - loss: 24571986051072.0000 - mae: 4669670.0000 - mse: 24571986051072.0000\n",
            "Epoch 18/1000\n",
            "3/3 [==============================] - 0s 7ms/step - loss: 24571986051072.0000 - mae: 4669669.0000 - mse: 24571986051072.0000\n",
            "Epoch 19/1000\n",
            "3/3 [==============================] - 0s 5ms/step - loss: 24571981856768.0000 - mae: 4669669.0000 - mse: 24571981856768.0000\n",
            "Epoch 20/1000\n",
            "3/3 [==============================] - 0s 6ms/step - loss: 24571977662464.0000 - mae: 4669668.5000 - mse: 24571977662464.0000\n",
            "Epoch 21/1000\n",
            "3/3 [==============================] - 0s 6ms/step - loss: 24571975565312.0000 - mae: 4669668.0000 - mse: 24571975565312.0000\n",
            "Epoch 22/1000\n",
            "3/3 [==============================] - 0s 6ms/step - loss: 24571969273856.0000 - mae: 4669668.0000 - mse: 24571969273856.0000\n",
            "Epoch 23/1000\n",
            "3/3 [==============================] - 0s 11ms/step - loss: 24571965079552.0000 - mae: 4669667.0000 - mse: 24571965079552.0000\n",
            "Epoch 24/1000\n",
            "3/3 [==============================] - 0s 5ms/step - loss: 24571958788096.0000 - mae: 4669666.0000 - mse: 24571958788096.0000\n",
            "Epoch 25/1000\n",
            "3/3 [==============================] - 0s 5ms/step - loss: 24571948302336.0000 - mae: 4669665.0000 - mse: 24571948302336.0000\n",
            "Epoch 26/1000\n",
            "3/3 [==============================] - 0s 5ms/step - loss: 24571933622272.0000 - mae: 4669663.5000 - mse: 24571933622272.0000\n",
            "Epoch 27/1000\n",
            "3/3 [==============================] - 0s 6ms/step - loss: 24571923136512.0000 - mae: 4669662.5000 - mse: 24571923136512.0000\n",
            "Epoch 28/1000\n",
            "3/3 [==============================] - 0s 5ms/step - loss: 24571902164992.0000 - mae: 4669660.5000 - mse: 24571902164992.0000\n",
            "Epoch 29/1000\n",
            "3/3 [==============================] - 0s 6ms/step - loss: 24571876999168.0000 - mae: 4669657.5000 - mse: 24571876999168.0000\n",
            "Epoch 30/1000\n",
            "3/3 [==============================] - 0s 6ms/step - loss: 24571845541888.0000 - mae: 4669655.5000 - mse: 24571845541888.0000\n",
            "Epoch 31/1000\n",
            "3/3 [==============================] - 0s 5ms/step - loss: 24571811987456.0000 - mae: 4669651.0000 - mse: 24571811987456.0000\n",
            "Epoch 32/1000\n",
            "3/3 [==============================] - 0s 5ms/step - loss: 24571763752960.0000 - mae: 4669647.0000 - mse: 24571763752960.0000\n",
            "Epoch 33/1000\n",
            "3/3 [==============================] - 0s 5ms/step - loss: 24571707129856.0000 - mae: 4669641.0000 - mse: 24571707129856.0000\n",
            "Epoch 34/1000\n",
            "3/3 [==============================] - 0s 6ms/step - loss: 24571637923840.0000 - mae: 4669634.0000 - mse: 24571637923840.0000\n",
            "Epoch 35/1000\n",
            "3/3 [==============================] - 0s 5ms/step - loss: 24571554037760.0000 - mae: 4669625.5000 - mse: 24571554037760.0000\n",
            "Epoch 36/1000\n",
            "3/3 [==============================] - 0s 5ms/step - loss: 24571451277312.0000 - mae: 4669615.5000 - mse: 24571451277312.0000\n",
            "Epoch 37/1000\n",
            "3/3 [==============================] - 0s 5ms/step - loss: 24571329642496.0000 - mae: 4669603.5000 - mse: 24571329642496.0000\n",
            "Epoch 38/1000\n",
            "3/3 [==============================] - 0s 5ms/step - loss: 24571182841856.0000 - mae: 4669588.5000 - mse: 24571182841856.0000\n",
            "Epoch 39/1000\n",
            "3/3 [==============================] - 0s 6ms/step - loss: 24571000389632.0000 - mae: 4669570.5000 - mse: 24571000389632.0000\n",
            "Epoch 40/1000\n",
            "3/3 [==============================] - 0s 5ms/step - loss: 24570786480128.0000 - mae: 4669549.5000 - mse: 24570786480128.0000\n",
            "Epoch 41/1000\n",
            "3/3 [==============================] - 0s 5ms/step - loss: 24570534821888.0000 - mae: 4669524.0000 - mse: 24570534821888.0000\n",
            "Epoch 42/1000\n",
            "3/3 [==============================] - 0s 7ms/step - loss: 24570228637696.0000 - mae: 4669494.0000 - mse: 24570228637696.0000\n",
            "Epoch 43/1000\n",
            "3/3 [==============================] - 0s 6ms/step - loss: 24569870024704.0000 - mae: 4669457.5000 - mse: 24569870024704.0000\n",
            "Epoch 44/1000\n",
            "3/3 [==============================] - 0s 6ms/step - loss: 24569444302848.0000 - mae: 4669416.0000 - mse: 24569444302848.0000\n",
            "Epoch 45/1000\n",
            "3/3 [==============================] - 0s 5ms/step - loss: 24568949374976.0000 - mae: 4669366.0000 - mse: 24568949374976.0000\n",
            "Epoch 46/1000\n",
            "3/3 [==============================] - 0s 7ms/step - loss: 24568370561024.0000 - mae: 4669308.5000 - mse: 24568370561024.0000\n",
            "Epoch 47/1000\n",
            "3/3 [==============================] - 0s 5ms/step - loss: 24567688986624.0000 - mae: 4669240.5000 - mse: 24567688986624.0000\n",
            "Epoch 48/1000\n",
            "3/3 [==============================] - 0s 5ms/step - loss: 24566896263168.0000 - mae: 4669162.0000 - mse: 24566896263168.0000\n",
            "Epoch 49/1000\n",
            "3/3 [==============================] - 0s 6ms/step - loss: 24565973516288.0000 - mae: 4669070.0000 - mse: 24565973516288.0000\n",
            "Epoch 50/1000\n",
            "3/3 [==============================] - 0s 8ms/step - loss: 24564918648832.0000 - mae: 4668965.0000 - mse: 24564918648832.0000\n",
            "Epoch 51/1000\n",
            "3/3 [==============================] - 0s 7ms/step - loss: 24563696009216.0000 - mae: 4668842.5000 - mse: 24563696009216.0000\n",
            "Epoch 52/1000\n",
            "3/3 [==============================] - 0s 8ms/step - loss: 24562311888896.0000 - mae: 4668704.5000 - mse: 24562311888896.0000\n",
            "Epoch 53/1000\n",
            "3/3 [==============================] - 0s 8ms/step - loss: 24560699179008.0000 - mae: 4668543.5000 - mse: 24560699179008.0000\n",
            "Epoch 54/1000\n",
            "3/3 [==============================] - 0s 6ms/step - loss: 24558826422272.0000 - mae: 4668359.0000 - mse: 24558826422272.0000\n",
            "Epoch 55/1000\n",
            "3/3 [==============================] - 0s 5ms/step - loss: 24556754436096.0000 - mae: 4668151.0000 - mse: 24556754436096.0000\n",
            "Epoch 56/1000\n",
            "3/3 [==============================] - 0s 5ms/step - loss: 24554363682816.0000 - mae: 4667912.5000 - mse: 24554363682816.0000\n",
            "Epoch 57/1000\n",
            "3/3 [==============================] - 0s 5ms/step - loss: 24551582859264.0000 - mae: 4667638.5000 - mse: 24551582859264.0000\n",
            "Epoch 58/1000\n",
            "3/3 [==============================] - 0s 5ms/step - loss: 24548527308800.0000 - mae: 4667333.5000 - mse: 24548527308800.0000\n",
            "Epoch 59/1000\n",
            "3/3 [==============================] - 0s 5ms/step - loss: 24545050230784.0000 - mae: 4666988.0000 - mse: 24545050230784.0000\n",
            "Epoch 60/1000\n",
            "3/3 [==============================] - 0s 5ms/step - loss: 24541183082496.0000 - mae: 4666599.0000 - mse: 24541183082496.0000\n",
            "Epoch 61/1000\n",
            "3/3 [==============================] - 0s 6ms/step - loss: 24536764383232.0000 - mae: 4666160.5000 - mse: 24536764383232.0000\n",
            "Epoch 62/1000\n",
            "3/3 [==============================] - 0s 6ms/step - loss: 24531842367488.0000 - mae: 4665670.0000 - mse: 24531842367488.0000\n",
            "Epoch 63/1000\n",
            "3/3 [==============================] - 0s 6ms/step - loss: 24526213611520.0000 - mae: 4665115.5000 - mse: 24526213611520.0000\n",
            "Epoch 64/1000\n",
            "3/3 [==============================] - 0s 6ms/step - loss: 24520098316288.0000 - mae: 4664505.5000 - mse: 24520098316288.0000\n",
            "Epoch 65/1000\n",
            "3/3 [==============================] - 0s 8ms/step - loss: 24513230143488.0000 - mae: 4663823.0000 - mse: 24513230143488.0000\n",
            "Epoch 66/1000\n",
            "3/3 [==============================] - 0s 6ms/step - loss: 24505541984256.0000 - mae: 4663056.0000 - mse: 24505541984256.0000\n",
            "Epoch 67/1000\n",
            "3/3 [==============================] - 0s 5ms/step - loss: 24497165959168.0000 - mae: 4662219.0000 - mse: 24497165959168.0000\n",
            "Epoch 68/1000\n",
            "3/3 [==============================] - 0s 6ms/step - loss: 24487651180544.0000 - mae: 4661275.0000 - mse: 24487651180544.0000\n",
            "Epoch 69/1000\n",
            "3/3 [==============================] - 0s 6ms/step - loss: 24477442244608.0000 - mae: 4660254.0000 - mse: 24477442244608.0000\n",
            "Epoch 70/1000\n",
            "3/3 [==============================] - 0s 6ms/step - loss: 24465928880128.0000 - mae: 4659114.0000 - mse: 24465928880128.0000\n",
            "Epoch 71/1000\n",
            "3/3 [==============================] - 0s 6ms/step - loss: 24453159321600.0000 - mae: 4657842.5000 - mse: 24453159321600.0000\n",
            "Epoch 72/1000\n",
            "3/3 [==============================] - 0s 6ms/step - loss: 24439328604160.0000 - mae: 4656466.5000 - mse: 24439328604160.0000\n",
            "Epoch 73/1000\n",
            "3/3 [==============================] - 0s 5ms/step - loss: 24423998423040.0000 - mae: 4654938.5000 - mse: 24423998423040.0000\n",
            "Epoch 74/1000\n",
            "3/3 [==============================] - 0s 5ms/step - loss: 24407487545344.0000 - mae: 4653286.0000 - mse: 24407487545344.0000\n",
            "Epoch 75/1000\n",
            "3/3 [==============================] - 0s 6ms/step - loss: 24388940333056.0000 - mae: 4651453.0000 - mse: 24388940333056.0000\n",
            "Epoch 76/1000\n",
            "3/3 [==============================] - 0s 6ms/step - loss: 24369212424192.0000 - mae: 4649472.5000 - mse: 24369212424192.0000\n",
            "Epoch 77/1000\n",
            "3/3 [==============================] - 0s 5ms/step - loss: 24347112636416.0000 - mae: 4647276.0000 - mse: 24347112636416.0000\n",
            "Epoch 78/1000\n",
            "3/3 [==============================] - 0s 6ms/step - loss: 24323041525760.0000 - mae: 4644896.5000 - mse: 24323041525760.0000\n",
            "Epoch 79/1000\n",
            "3/3 [==============================] - 0s 5ms/step - loss: 24297548546048.0000 - mae: 4642319.5000 - mse: 24297548546048.0000\n",
            "Epoch 80/1000\n",
            "3/3 [==============================] - 0s 5ms/step - loss: 24269119553536.0000 - mae: 4639496.5000 - mse: 24269119553536.0000\n",
            "Epoch 81/1000\n",
            "3/3 [==============================] - 0s 5ms/step - loss: 24238884913152.0000 - mae: 4636455.5000 - mse: 24238884913152.0000\n",
            "Epoch 82/1000\n",
            "3/3 [==============================] - 0s 6ms/step - loss: 24205141737472.0000 - mae: 4633116.0000 - mse: 24205141737472.0000\n",
            "Epoch 83/1000\n",
            "3/3 [==============================] - 0s 6ms/step - loss: 24169536290816.0000 - mae: 4629537.5000 - mse: 24169536290816.0000\n",
            "Epoch 84/1000\n",
            "3/3 [==============================] - 0s 6ms/step - loss: 24130715910144.0000 - mae: 4625655.0000 - mse: 24130715910144.0000\n",
            "Epoch 85/1000\n",
            "3/3 [==============================] - 0s 7ms/step - loss: 24089542524928.0000 - mae: 4621476.5000 - mse: 24089542524928.0000\n",
            "Epoch 86/1000\n",
            "3/3 [==============================] - 0s 5ms/step - loss: 24044109824000.0000 - mae: 4616947.5000 - mse: 24044109824000.0000\n",
            "Epoch 87/1000\n",
            "3/3 [==============================] - 0s 7ms/step - loss: 23994661076992.0000 - mae: 4612027.0000 - mse: 23994661076992.0000\n",
            "Epoch 88/1000\n",
            "3/3 [==============================] - 0s 6ms/step - loss: 23942972571648.0000 - mae: 4606802.5000 - mse: 23942972571648.0000\n",
            "Epoch 89/1000\n",
            "3/3 [==============================] - 0s 6ms/step - loss: 23886697594880.0000 - mae: 4601126.5000 - mse: 23886697594880.0000\n",
            "Epoch 90/1000\n",
            "3/3 [==============================] - 0s 6ms/step - loss: 23825603362816.0000 - mae: 4595008.0000 - mse: 23825603362816.0000\n",
            "Epoch 91/1000\n",
            "3/3 [==============================] - 0s 6ms/step - loss: 23761734598656.0000 - mae: 4588511.0000 - mse: 23761734598656.0000\n",
            "Epoch 92/1000\n",
            "3/3 [==============================] - 0s 5ms/step - loss: 23692197232640.0000 - mae: 4581489.0000 - mse: 23692197232640.0000\n",
            "Epoch 93/1000\n",
            "3/3 [==============================] - 0s 6ms/step - loss: 23617064665088.0000 - mae: 4573922.5000 - mse: 23617064665088.0000\n",
            "Epoch 94/1000\n",
            "3/3 [==============================] - 0s 6ms/step - loss: 23538700386304.0000 - mae: 4565914.0000 - mse: 23538700386304.0000\n",
            "Epoch 95/1000\n",
            "3/3 [==============================] - 0s 6ms/step - loss: 23453369368576.0000 - mae: 4557309.5000 - mse: 23453369368576.0000\n",
            "Epoch 96/1000\n",
            "3/3 [==============================] - 0s 8ms/step - loss: 23363844046848.0000 - mae: 4548202.0000 - mse: 23363844046848.0000\n",
            "Epoch 97/1000\n",
            "3/3 [==============================] - 0s 7ms/step - loss: 23267630907392.0000 - mae: 4538342.0000 - mse: 23267630907392.0000\n",
            "Epoch 98/1000\n",
            "3/3 [==============================] - 0s 6ms/step - loss: 23165350707200.0000 - mae: 4527880.5000 - mse: 23165350707200.0000\n",
            "Epoch 99/1000\n",
            "3/3 [==============================] - 0s 6ms/step - loss: 23055692726272.0000 - mae: 4516630.0000 - mse: 23055692726272.0000\n",
            "Epoch 100/1000\n",
            "3/3 [==============================] - 0s 5ms/step - loss: 22939076395008.0000 - mae: 4504715.0000 - mse: 22939076395008.0000\n",
            "Epoch 101/1000\n",
            "3/3 [==============================] - 0s 6ms/step - loss: 22818995568640.0000 - mae: 4492259.0000 - mse: 22818995568640.0000\n",
            "Epoch 102/1000\n",
            "3/3 [==============================] - 0s 6ms/step - loss: 22685778182144.0000 - mae: 4478656.0000 - mse: 22685778182144.0000\n",
            "Epoch 103/1000\n",
            "3/3 [==============================] - 0s 5ms/step - loss: 22551373807616.0000 - mae: 4464503.0000 - mse: 22551373807616.0000\n",
            "Epoch 104/1000\n",
            "3/3 [==============================] - 0s 5ms/step - loss: 22406081019904.0000 - mae: 4449386.0000 - mse: 22406081019904.0000\n",
            "Epoch 105/1000\n",
            "3/3 [==============================] - 0s 5ms/step - loss: 22252112314368.0000 - mae: 4433308.0000 - mse: 22252112314368.0000\n",
            "Epoch 106/1000\n",
            "3/3 [==============================] - 0s 6ms/step - loss: 22089096495104.0000 - mae: 4416264.5000 - mse: 22089096495104.0000\n",
            "Epoch 107/1000\n",
            "3/3 [==============================] - 0s 6ms/step - loss: 21917406855168.0000 - mae: 4398317.0000 - mse: 21917406855168.0000\n",
            "Epoch 108/1000\n",
            "3/3 [==============================] - 0s 6ms/step - loss: 21735569096704.0000 - mae: 4379007.5000 - mse: 21735569096704.0000\n",
            "Epoch 109/1000\n",
            "3/3 [==============================] - 0s 8ms/step - loss: 21550107459584.0000 - mae: 4359205.5000 - mse: 21550107459584.0000\n",
            "Epoch 110/1000\n",
            "3/3 [==============================] - 0s 6ms/step - loss: 21348327882752.0000 - mae: 4337889.5000 - mse: 21348327882752.0000\n",
            "Epoch 111/1000\n",
            "3/3 [==============================] - 0s 6ms/step - loss: 21136893018112.0000 - mae: 4315338.0000 - mse: 21136893018112.0000\n",
            "Epoch 112/1000\n",
            "3/3 [==============================] - 0s 6ms/step - loss: 20921721028608.0000 - mae: 4291736.5000 - mse: 20921721028608.0000\n",
            "Epoch 113/1000\n",
            "3/3 [==============================] - 0s 8ms/step - loss: 20688928768000.0000 - mae: 4266826.0000 - mse: 20688928768000.0000\n",
            "Epoch 114/1000\n",
            "3/3 [==============================] - 0s 6ms/step - loss: 20449461272576.0000 - mae: 4240596.5000 - mse: 20449461272576.0000\n",
            "Epoch 115/1000\n",
            "3/3 [==============================] - 0s 5ms/step - loss: 20199065518080.0000 - mae: 4213049.0000 - mse: 20199065518080.0000\n",
            "Epoch 116/1000\n",
            "3/3 [==============================] - 0s 6ms/step - loss: 19932932734976.0000 - mae: 4183959.2500 - mse: 19932932734976.0000\n",
            "Epoch 117/1000\n",
            "3/3 [==============================] - 0s 5ms/step - loss: 19664763617280.0000 - mae: 4153595.2500 - mse: 19664763617280.0000\n",
            "Epoch 118/1000\n",
            "3/3 [==============================] - 0s 5ms/step - loss: 19380337377280.0000 - mae: 4121714.2500 - mse: 19380337377280.0000\n",
            "Epoch 119/1000\n",
            "3/3 [==============================] - 0s 6ms/step - loss: 19077743509504.0000 - mae: 4087663.7500 - mse: 19077743509504.0000\n",
            "Epoch 120/1000\n",
            "3/3 [==============================] - 0s 5ms/step - loss: 18773409005568.0000 - mae: 4052805.2500 - mse: 18773409005568.0000\n",
            "Epoch 121/1000\n",
            "3/3 [==============================] - 0s 5ms/step - loss: 18452186136576.0000 - mae: 4015967.5000 - mse: 18452186136576.0000\n",
            "Epoch 122/1000\n",
            "3/3 [==============================] - 0s 7ms/step - loss: 18119747698688.0000 - mae: 3977449.2500 - mse: 18119747698688.0000\n",
            "Epoch 123/1000\n",
            "3/3 [==============================] - 0s 6ms/step - loss: 17776871735296.0000 - mae: 3937127.2500 - mse: 17776871735296.0000\n",
            "Epoch 124/1000\n",
            "3/3 [==============================] - 0s 5ms/step - loss: 17418915151872.0000 - mae: 3895107.2500 - mse: 17418915151872.0000\n",
            "Epoch 125/1000\n",
            "3/3 [==============================] - 0s 5ms/step - loss: 17053938352128.0000 - mae: 3851184.7500 - mse: 17053938352128.0000\n",
            "Epoch 126/1000\n",
            "3/3 [==============================] - 0s 6ms/step - loss: 16680565604352.0000 - mae: 3805399.7500 - mse: 16680565604352.0000\n",
            "Epoch 127/1000\n",
            "3/3 [==============================] - 0s 6ms/step - loss: 16295018889216.0000 - mae: 3758011.7500 - mse: 16295018889216.0000\n",
            "Epoch 128/1000\n",
            "3/3 [==============================] - 0s 7ms/step - loss: 15889172791296.0000 - mae: 3707746.5000 - mse: 15889172791296.0000\n",
            "Epoch 129/1000\n",
            "3/3 [==============================] - 0s 8ms/step - loss: 15489640169472.0000 - mae: 3656489.7500 - mse: 15489640169472.0000\n",
            "Epoch 130/1000\n",
            "3/3 [==============================] - 0s 5ms/step - loss: 15061758246912.0000 - mae: 3602065.2500 - mse: 15061758246912.0000\n",
            "Epoch 131/1000\n",
            "3/3 [==============================] - 0s 5ms/step - loss: 14637396393984.0000 - mae: 3546706.7500 - mse: 14637396393984.0000\n",
            "Epoch 132/1000\n",
            "3/3 [==============================] - 0s 6ms/step - loss: 14200203116544.0000 - mae: 3488820.0000 - mse: 14200203116544.0000\n",
            "Epoch 133/1000\n",
            "3/3 [==============================] - 0s 6ms/step - loss: 13756453093376.0000 - mae: 3428454.2500 - mse: 13756453093376.0000\n",
            "Epoch 134/1000\n",
            "3/3 [==============================] - 0s 6ms/step - loss: 13302403956736.0000 - mae: 3366625.0000 - mse: 13302403956736.0000\n",
            "Epoch 135/1000\n",
            "3/3 [==============================] - 0s 7ms/step - loss: 12845841383424.0000 - mae: 3302151.0000 - mse: 12845841383424.0000\n",
            "Epoch 136/1000\n",
            "3/3 [==============================] - 0s 6ms/step - loss: 12376074092544.0000 - mae: 3235592.5000 - mse: 12376074092544.0000\n",
            "Epoch 137/1000\n",
            "3/3 [==============================] - 0s 9ms/step - loss: 11910670974976.0000 - mae: 3167685.2500 - mse: 11910670974976.0000\n",
            "Epoch 138/1000\n",
            "3/3 [==============================] - 0s 7ms/step - loss: 11441390223360.0000 - mae: 3096967.7500 - mse: 11441390223360.0000\n",
            "Epoch 139/1000\n",
            "3/3 [==============================] - 0s 6ms/step - loss: 10959396536320.0000 - mae: 3023960.2500 - mse: 10959396536320.0000\n",
            "Epoch 140/1000\n",
            "3/3 [==============================] - 0s 6ms/step - loss: 10495713083392.0000 - mae: 2949949.5000 - mse: 10495713083392.0000\n",
            "Epoch 141/1000\n",
            "3/3 [==============================] - 0s 5ms/step - loss: 10001131241472.0000 - mae: 2871811.7500 - mse: 10001131241472.0000\n",
            "Epoch 142/1000\n",
            "3/3 [==============================] - 0s 7ms/step - loss: 9531844198400.0000 - mae: 2793843.7500 - mse: 9531844198400.0000\n",
            "Epoch 143/1000\n",
            "3/3 [==============================] - 0s 8ms/step - loss: 9068080005120.0000 - mae: 2713756.2500 - mse: 9068080005120.0000\n",
            "Epoch 144/1000\n",
            "3/3 [==============================] - 0s 6ms/step - loss: 8592070541312.0000 - mae: 2630896.5000 - mse: 8592070541312.0000\n",
            "Epoch 145/1000\n",
            "3/3 [==============================] - 0s 7ms/step - loss: 8128040534016.0000 - mae: 2546600.0000 - mse: 8128040534016.0000\n",
            "Epoch 146/1000\n",
            "3/3 [==============================] - 0s 6ms/step - loss: 7668721778688.0000 - mae: 2460685.7500 - mse: 7668721778688.0000\n",
            "Epoch 147/1000\n",
            "3/3 [==============================] - 0s 8ms/step - loss: 7229513662464.0000 - mae: 2375174.7500 - mse: 7229513662464.0000\n",
            "Epoch 148/1000\n",
            "3/3 [==============================] - 0s 6ms/step - loss: 6791593197568.0000 - mae: 2285788.7500 - mse: 6791593197568.0000\n",
            "Epoch 149/1000\n",
            "3/3 [==============================] - 0s 7ms/step - loss: 6373622939648.0000 - mae: 2198722.5000 - mse: 6373622939648.0000\n",
            "Epoch 150/1000\n",
            "3/3 [==============================] - 0s 6ms/step - loss: 5958894354432.0000 - mae: 2108763.5000 - mse: 5958894354432.0000\n",
            "Epoch 151/1000\n",
            "3/3 [==============================] - 0s 8ms/step - loss: 5554540904448.0000 - mae: 2020570.8750 - mse: 5554540904448.0000\n",
            "Epoch 152/1000\n",
            "3/3 [==============================] - 0s 7ms/step - loss: 5187170729984.0000 - mae: 1936146.5000 - mse: 5187170729984.0000\n",
            "Epoch 153/1000\n",
            "3/3 [==============================] - 0s 6ms/step - loss: 4825596035072.0000 - mae: 1851636.6250 - mse: 4825596035072.0000\n",
            "Epoch 154/1000\n",
            "3/3 [==============================] - 0s 6ms/step - loss: 4470268231680.0000 - mae: 1768256.6250 - mse: 4470268231680.0000\n",
            "Epoch 155/1000\n",
            "3/3 [==============================] - 0s 6ms/step - loss: 4152414699520.0000 - mae: 1687309.6250 - mse: 4152414699520.0000\n",
            "Epoch 156/1000\n",
            "3/3 [==============================] - 0s 6ms/step - loss: 3852916752384.0000 - mae: 1612644.5000 - mse: 3852916752384.0000\n",
            "Epoch 157/1000\n",
            "3/3 [==============================] - 0s 6ms/step - loss: 3567568814080.0000 - mae: 1538500.0000 - mse: 3567568814080.0000\n",
            "Epoch 158/1000\n",
            "3/3 [==============================] - 0s 6ms/step - loss: 3294834196480.0000 - mae: 1464802.2500 - mse: 3294834196480.0000\n",
            "Epoch 159/1000\n",
            "3/3 [==============================] - 0s 5ms/step - loss: 3057712103424.0000 - mae: 1399807.3750 - mse: 3057712103424.0000\n",
            "Epoch 160/1000\n",
            "3/3 [==============================] - 0s 7ms/step - loss: 2843460239360.0000 - mae: 1340150.1250 - mse: 2843460239360.0000\n",
            "Epoch 161/1000\n",
            "3/3 [==============================] - 0s 6ms/step - loss: 2635959107584.0000 - mae: 1281088.6250 - mse: 2635959107584.0000\n",
            "Epoch 162/1000\n",
            "3/3 [==============================] - 0s 8ms/step - loss: 2466887237632.0000 - mae: 1234116.7500 - mse: 2466887237632.0000\n",
            "Epoch 163/1000\n",
            "3/3 [==============================] - 0s 8ms/step - loss: 2303699976192.0000 - mae: 1188571.5000 - mse: 2303699976192.0000\n",
            "Epoch 164/1000\n",
            "3/3 [==============================] - 0s 6ms/step - loss: 2168418074624.0000 - mae: 1150364.0000 - mse: 2168418074624.0000\n",
            "Epoch 165/1000\n",
            "3/3 [==============================] - 0s 6ms/step - loss: 2051910270976.0000 - mae: 1116783.5000 - mse: 2051910270976.0000\n",
            "Epoch 166/1000\n",
            "3/3 [==============================] - 0s 6ms/step - loss: 1941547515904.0000 - mae: 1085030.7500 - mse: 1941547515904.0000\n",
            "Epoch 167/1000\n",
            "3/3 [==============================] - 0s 6ms/step - loss: 1856138510336.0000 - mae: 1061376.5000 - mse: 1856138510336.0000\n",
            "Epoch 168/1000\n",
            "3/3 [==============================] - 0s 6ms/step - loss: 1778871959552.0000 - mae: 1037614.4375 - mse: 1778871959552.0000\n",
            "Epoch 169/1000\n",
            "3/3 [==============================] - 0s 7ms/step - loss: 1715439796224.0000 - mae: 1017111.6875 - mse: 1715439796224.0000\n",
            "Epoch 170/1000\n",
            "3/3 [==============================] - 0s 7ms/step - loss: 1659395637248.0000 - mae: 1000714.0000 - mse: 1659395637248.0000\n",
            "Epoch 171/1000\n",
            "3/3 [==============================] - 0s 7ms/step - loss: 1621165211648.0000 - mae: 990534.5625 - mse: 1621165211648.0000\n",
            "Epoch 172/1000\n",
            "3/3 [==============================] - 0s 8ms/step - loss: 1583060353024.0000 - mae: 979409.3750 - mse: 1583060353024.0000\n",
            "Epoch 173/1000\n",
            "3/3 [==============================] - 0s 7ms/step - loss: 1557592539136.0000 - mae: 972495.1875 - mse: 1557592539136.0000\n",
            "Epoch 174/1000\n",
            "3/3 [==============================] - 0s 8ms/step - loss: 1536003538944.0000 - mae: 966432.0000 - mse: 1536003538944.0000\n",
            "Epoch 175/1000\n",
            "3/3 [==============================] - 0s 7ms/step - loss: 1515639406592.0000 - mae: 960455.7500 - mse: 1515639406592.0000\n",
            "Epoch 176/1000\n",
            "3/3 [==============================] - 0s 9ms/step - loss: 1505013006336.0000 - mae: 957894.8750 - mse: 1505013006336.0000\n",
            "Epoch 177/1000\n",
            "3/3 [==============================] - 0s 8ms/step - loss: 1491683508224.0000 - mae: 953962.7500 - mse: 1491683508224.0000\n",
            "Epoch 178/1000\n",
            "3/3 [==============================] - 0s 7ms/step - loss: 1484591857664.0000 - mae: 952719.3125 - mse: 1484591857664.0000\n",
            "Epoch 179/1000\n",
            "3/3 [==============================] - 0s 6ms/step - loss: 1478231719936.0000 - mae: 951528.8125 - mse: 1478231719936.0000\n",
            "Epoch 180/1000\n",
            "3/3 [==============================] - 0s 9ms/step - loss: 1472200441856.0000 - mae: 949446.3125 - mse: 1472200441856.0000\n",
            "Epoch 181/1000\n",
            "3/3 [==============================] - 0s 7ms/step - loss: 1467548172288.0000 - mae: 948692.1875 - mse: 1467548172288.0000\n",
            "Epoch 182/1000\n",
            "3/3 [==============================] - 0s 9ms/step - loss: 1465889062912.0000 - mae: 948370.6250 - mse: 1465889062912.0000\n",
            "Epoch 183/1000\n",
            "3/3 [==============================] - 0s 10ms/step - loss: 1462660759552.0000 - mae: 947892.0625 - mse: 1462660759552.0000\n",
            "Epoch 184/1000\n",
            "3/3 [==============================] - 0s 10ms/step - loss: 1458939625472.0000 - mae: 946988.8750 - mse: 1458939625472.0000\n",
            "Epoch 185/1000\n",
            "3/3 [==============================] - 0s 6ms/step - loss: 1456899489792.0000 - mae: 946610.2500 - mse: 1456899489792.0000\n",
            "Epoch 186/1000\n",
            "3/3 [==============================] - 0s 6ms/step - loss: 1454763016192.0000 - mae: 946042.3750 - mse: 1454763016192.0000\n",
            "Epoch 187/1000\n",
            "3/3 [==============================] - 0s 6ms/step - loss: 1452524568576.0000 - mae: 945704.5625 - mse: 1452524568576.0000\n",
            "Epoch 188/1000\n",
            "3/3 [==============================] - 0s 9ms/step - loss: 1450439868416.0000 - mae: 945295.3750 - mse: 1450439868416.0000\n",
            "Epoch 189/1000\n",
            "3/3 [==============================] - 0s 8ms/step - loss: 1448656109568.0000 - mae: 944883.0625 - mse: 1448656109568.0000\n",
            "Epoch 190/1000\n",
            "3/3 [==============================] - 0s 8ms/step - loss: 1446525796352.0000 - mae: 944435.1250 - mse: 1446525796352.0000\n",
            "Epoch 191/1000\n",
            "3/3 [==============================] - 0s 7ms/step - loss: 1444432052224.0000 - mae: 943889.5000 - mse: 1444432052224.0000\n",
            "Epoch 192/1000\n",
            "3/3 [==============================] - 0s 8ms/step - loss: 1442381561856.0000 - mae: 943320.5000 - mse: 1442381561856.0000\n",
            "Epoch 193/1000\n",
            "3/3 [==============================] - 0s 7ms/step - loss: 1440593870848.0000 - mae: 942846.5625 - mse: 1440593870848.0000\n",
            "Epoch 194/1000\n",
            "3/3 [==============================] - 0s 7ms/step - loss: 1438410997760.0000 - mae: 942283.9375 - mse: 1438410997760.0000\n",
            "Epoch 195/1000\n",
            "3/3 [==============================] - 0s 6ms/step - loss: 1436493414400.0000 - mae: 941759.5000 - mse: 1436493414400.0000\n",
            "Epoch 196/1000\n",
            "3/3 [==============================] - 0s 7ms/step - loss: 1434598506496.0000 - mae: 941209.8750 - mse: 1434598506496.0000\n",
            "Epoch 197/1000\n",
            "3/3 [==============================] - 0s 7ms/step - loss: 1432464392192.0000 - mae: 940572.0625 - mse: 1432464392192.0000\n",
            "Epoch 198/1000\n",
            "3/3 [==============================] - 0s 7ms/step - loss: 1430507618304.0000 - mae: 940011.5000 - mse: 1430507618304.0000\n",
            "Epoch 199/1000\n",
            "3/3 [==============================] - 0s 7ms/step - loss: 1428706295808.0000 - mae: 939456.5625 - mse: 1428706295808.0000\n",
            "Epoch 200/1000\n",
            "3/3 [==============================] - 0s 7ms/step - loss: 1426662883328.0000 - mae: 938866.8125 - mse: 1426662883328.0000\n",
            "Epoch 201/1000\n",
            "3/3 [==============================] - 0s 10ms/step - loss: 1424725245952.0000 - mae: 938284.3750 - mse: 1424725245952.0000\n",
            "Epoch 202/1000\n",
            "3/3 [==============================] - 0s 13ms/step - loss: 1422781579264.0000 - mae: 937669.5625 - mse: 1422781579264.0000\n",
            "Epoch 203/1000\n",
            "3/3 [==============================] - 0s 10ms/step - loss: 1420852068352.0000 - mae: 937099.4375 - mse: 1420852068352.0000\n",
            "Epoch 204/1000\n",
            "3/3 [==============================] - 0s 9ms/step - loss: 1418831593472.0000 - mae: 936496.3750 - mse: 1418831593472.0000\n",
            "Epoch 205/1000\n",
            "3/3 [==============================] - 0s 8ms/step - loss: 1417026338816.0000 - mae: 935924.2500 - mse: 1417026338816.0000\n",
            "Epoch 206/1000\n",
            "3/3 [==============================] - 0s 6ms/step - loss: 1415007305728.0000 - mae: 935343.5625 - mse: 1415007305728.0000\n",
            "Epoch 207/1000\n",
            "3/3 [==============================] - 0s 6ms/step - loss: 1413106237440.0000 - mae: 934815.5625 - mse: 1413106237440.0000\n",
            "Epoch 208/1000\n",
            "3/3 [==============================] - 0s 7ms/step - loss: 1411110273024.0000 - mae: 934247.3750 - mse: 1411110273024.0000\n",
            "Epoch 209/1000\n",
            "3/3 [==============================] - 0s 8ms/step - loss: 1409369243648.0000 - mae: 933686.4375 - mse: 1409369243648.0000\n",
            "Epoch 210/1000\n",
            "3/3 [==============================] - 0s 6ms/step - loss: 1407376031744.0000 - mae: 933139.6250 - mse: 1407376031744.0000\n",
            "Epoch 211/1000\n",
            "3/3 [==============================] - 0s 7ms/step - loss: 1405430530048.0000 - mae: 932541.7500 - mse: 1405430530048.0000\n",
            "Epoch 212/1000\n",
            "3/3 [==============================] - 0s 6ms/step - loss: 1403587526656.0000 - mae: 931921.3125 - mse: 1403587526656.0000\n",
            "Epoch 213/1000\n",
            "3/3 [==============================] - 0s 7ms/step - loss: 1401653428224.0000 - mae: 931325.5625 - mse: 1401653428224.0000\n",
            "Epoch 214/1000\n",
            "3/3 [==============================] - 0s 6ms/step - loss: 1399898112000.0000 - mae: 930771.8125 - mse: 1399898112000.0000\n",
            "Epoch 215/1000\n",
            "3/3 [==============================] - 0s 7ms/step - loss: 1397900181504.0000 - mae: 930163.3750 - mse: 1397900181504.0000\n",
            "Epoch 216/1000\n",
            "3/3 [==============================] - 0s 7ms/step - loss: 1396093485056.0000 - mae: 929628.2500 - mse: 1396093485056.0000\n",
            "Epoch 217/1000\n",
            "3/3 [==============================] - 0s 7ms/step - loss: 1394107875328.0000 - mae: 929061.5625 - mse: 1394107875328.0000\n",
            "Epoch 218/1000\n",
            "3/3 [==============================] - 0s 7ms/step - loss: 1392449159168.0000 - mae: 928588.4375 - mse: 1392449159168.0000\n",
            "Epoch 219/1000\n",
            "3/3 [==============================] - 0s 8ms/step - loss: 1390489894912.0000 - mae: 928003.6875 - mse: 1390489894912.0000\n",
            "Epoch 220/1000\n",
            "3/3 [==============================] - 0s 7ms/step - loss: 1388574801920.0000 - mae: 927447.9375 - mse: 1388574801920.0000\n",
            "Epoch 221/1000\n",
            "3/3 [==============================] - 0s 6ms/step - loss: 1386828267520.0000 - mae: 926876.0625 - mse: 1386828267520.0000\n",
            "Epoch 222/1000\n",
            "3/3 [==============================] - 0s 8ms/step - loss: 1384935849984.0000 - mae: 926272.0625 - mse: 1384935849984.0000\n",
            "Epoch 223/1000\n",
            "3/3 [==============================] - 0s 8ms/step - loss: 1383072268288.0000 - mae: 925730.1875 - mse: 1383072268288.0000\n",
            "Epoch 224/1000\n",
            "3/3 [==============================] - 0s 7ms/step - loss: 1381227298816.0000 - mae: 925146.6875 - mse: 1381227298816.0000\n",
            "Epoch 225/1000\n",
            "3/3 [==============================] - 0s 6ms/step - loss: 1379511828480.0000 - mae: 924592.4375 - mse: 1379511828480.0000\n",
            "Epoch 226/1000\n",
            "3/3 [==============================] - 0s 7ms/step - loss: 1377722957824.0000 - mae: 924019.8750 - mse: 1377722957824.0000\n",
            "Epoch 227/1000\n",
            "3/3 [==============================] - 0s 8ms/step - loss: 1375664996352.0000 - mae: 923383.6250 - mse: 1375664996352.0000\n",
            "Epoch 228/1000\n",
            "3/3 [==============================] - 0s 7ms/step - loss: 1373924098048.0000 - mae: 922874.9375 - mse: 1373924098048.0000\n",
            "Epoch 229/1000\n",
            "3/3 [==============================] - 0s 8ms/step - loss: 1372298018816.0000 - mae: 922397.0000 - mse: 1372298018816.0000\n",
            "Epoch 230/1000\n",
            "3/3 [==============================] - 0s 7ms/step - loss: 1370432077824.0000 - mae: 921862.5625 - mse: 1370432077824.0000\n",
            "Epoch 231/1000\n",
            "3/3 [==============================] - 0s 6ms/step - loss: 1368505450496.0000 - mae: 921264.8750 - mse: 1368505450496.0000\n",
            "Epoch 232/1000\n",
            "3/3 [==============================] - 0s 6ms/step - loss: 1366835986432.0000 - mae: 920798.7500 - mse: 1366835986432.0000\n",
            "Epoch 233/1000\n",
            "3/3 [==============================] - 0s 6ms/step - loss: 1364928626688.0000 - mae: 920233.0000 - mse: 1364928626688.0000\n",
            "Epoch 234/1000\n",
            "3/3 [==============================] - 0s 6ms/step - loss: 1363251429376.0000 - mae: 919726.5000 - mse: 1363251429376.0000\n",
            "Epoch 235/1000\n",
            "3/3 [==============================] - 0s 6ms/step - loss: 1361516560384.0000 - mae: 919276.3750 - mse: 1361516560384.0000\n",
            "Epoch 236/1000\n",
            "3/3 [==============================] - 0s 7ms/step - loss: 1359770025984.0000 - mae: 918787.7500 - mse: 1359770025984.0000\n",
            "Epoch 237/1000\n",
            "3/3 [==============================] - 0s 7ms/step - loss: 1358043414528.0000 - mae: 918262.5000 - mse: 1358043414528.0000\n",
            "Epoch 238/1000\n",
            "3/3 [==============================] - 0s 6ms/step - loss: 1356356255744.0000 - mae: 917777.6250 - mse: 1356356255744.0000\n",
            "Epoch 239/1000\n",
            "3/3 [==============================] - 0s 6ms/step - loss: 1354392928256.0000 - mae: 917158.4375 - mse: 1354392928256.0000\n",
            "Epoch 240/1000\n",
            "3/3 [==============================] - 0s 7ms/step - loss: 1352624373760.0000 - mae: 916643.3750 - mse: 1352624373760.0000\n",
            "Epoch 241/1000\n",
            "3/3 [==============================] - 0s 6ms/step - loss: 1350867091456.0000 - mae: 916136.6250 - mse: 1350867091456.0000\n",
            "Epoch 242/1000\n",
            "3/3 [==============================] - 0s 6ms/step - loss: 1349223841792.0000 - mae: 915637.9375 - mse: 1349223841792.0000\n",
            "Epoch 243/1000\n",
            "3/3 [==============================] - 0s 8ms/step - loss: 1347549396992.0000 - mae: 915161.4375 - mse: 1347549396992.0000\n",
            "Epoch 244/1000\n",
            "3/3 [==============================] - 0s 8ms/step - loss: 1345777958912.0000 - mae: 914614.6875 - mse: 1345777958912.0000\n",
            "Epoch 245/1000\n",
            "3/3 [==============================] - 0s 10ms/step - loss: 1343941246976.0000 - mae: 914062.6875 - mse: 1343941246976.0000\n",
            "Epoch 246/1000\n",
            "3/3 [==============================] - 0s 7ms/step - loss: 1342263394304.0000 - mae: 913591.7500 - mse: 1342263394304.0000\n",
            "Epoch 247/1000\n",
            "3/3 [==============================] - 0s 6ms/step - loss: 1340491694080.0000 - mae: 913099.4375 - mse: 1340491694080.0000\n",
            "Epoch 248/1000\n",
            "3/3 [==============================] - 0s 6ms/step - loss: 1338962345984.0000 - mae: 912649.2500 - mse: 1338962345984.0000\n",
            "Epoch 249/1000\n",
            "3/3 [==============================] - 0s 6ms/step - loss: 1337160499200.0000 - mae: 912116.1875 - mse: 1337160499200.0000\n",
            "Epoch 250/1000\n",
            "3/3 [==============================] - 0s 6ms/step - loss: 1335625252864.0000 - mae: 911688.2500 - mse: 1335625252864.0000\n",
            "Epoch 251/1000\n",
            "3/3 [==============================] - 0s 6ms/step - loss: 1333753675776.0000 - mae: 911136.0625 - mse: 1333753675776.0000\n",
            "Epoch 252/1000\n",
            "3/3 [==============================] - 0s 8ms/step - loss: 1332088274944.0000 - mae: 910629.4375 - mse: 1332088274944.0000\n",
            "Epoch 253/1000\n",
            "3/3 [==============================] - 0s 7ms/step - loss: 1330444894208.0000 - mae: 910167.3750 - mse: 1330444894208.0000\n",
            "Epoch 254/1000\n",
            "3/3 [==============================] - 0s 7ms/step - loss: 1328758390784.0000 - mae: 909620.6875 - mse: 1328758390784.0000\n",
            "Epoch 255/1000\n",
            "3/3 [==============================] - 0s 7ms/step - loss: 1327215935488.0000 - mae: 909157.1250 - mse: 1327215935488.0000\n",
            "Epoch 256/1000\n",
            "3/3 [==============================] - 0s 7ms/step - loss: 1325423132672.0000 - mae: 908612.8750 - mse: 1325423132672.0000\n",
            "Epoch 257/1000\n",
            "3/3 [==============================] - 0s 8ms/step - loss: 1323752095744.0000 - mae: 908101.8125 - mse: 1323752095744.0000\n",
            "Epoch 258/1000\n",
            "3/3 [==============================] - 0s 8ms/step - loss: 1322280812544.0000 - mae: 907672.8750 - mse: 1322280812544.0000\n",
            "Epoch 259/1000\n",
            "3/3 [==============================] - 0s 8ms/step - loss: 1320483160064.0000 - mae: 907153.1250 - mse: 1320483160064.0000\n",
            "Epoch 260/1000\n",
            "3/3 [==============================] - 0s 8ms/step - loss: 1318801506304.0000 - mae: 906662.8125 - mse: 1318801506304.0000\n",
            "Epoch 261/1000\n",
            "3/3 [==============================] - 0s 7ms/step - loss: 1317141741568.0000 - mae: 906163.6250 - mse: 1317141741568.0000\n",
            "Epoch 262/1000\n",
            "3/3 [==============================] - 0s 6ms/step - loss: 1315599810560.0000 - mae: 905734.7500 - mse: 1315599810560.0000\n",
            "Epoch 263/1000\n",
            "3/3 [==============================] - 0s 10ms/step - loss: 1313913176064.0000 - mae: 905193.0625 - mse: 1313913176064.0000\n",
            "Epoch 264/1000\n",
            "3/3 [==============================] - 0s 7ms/step - loss: 1312401653760.0000 - mae: 904726.6875 - mse: 1312401653760.0000\n",
            "Epoch 265/1000\n",
            "3/3 [==============================] - 0s 8ms/step - loss: 1310654857216.0000 - mae: 904195.1875 - mse: 1310654857216.0000\n",
            "Epoch 266/1000\n",
            "3/3 [==============================] - 0s 10ms/step - loss: 1309137043456.0000 - mae: 903748.6875 - mse: 1309137043456.0000\n",
            "Epoch 267/1000\n",
            "3/3 [==============================] - 0s 14ms/step - loss: 1307542290432.0000 - mae: 903247.6250 - mse: 1307542290432.0000\n",
            "Epoch 268/1000\n",
            "3/3 [==============================] - 0s 9ms/step - loss: 1305954877440.0000 - mae: 902778.9375 - mse: 1305954877440.0000\n",
            "Epoch 269/1000\n",
            "3/3 [==============================] - 0s 8ms/step - loss: 1304276238336.0000 - mae: 902254.6875 - mse: 1304276238336.0000\n",
            "Epoch 270/1000\n",
            "3/3 [==============================] - 0s 11ms/step - loss: 1302844145664.0000 - mae: 901867.0000 - mse: 1302844145664.0000\n",
            "Epoch 271/1000\n",
            "3/3 [==============================] - 0s 7ms/step - loss: 1301131689984.0000 - mae: 901339.3750 - mse: 1301131689984.0000\n",
            "Epoch 272/1000\n",
            "3/3 [==============================] - 0s 8ms/step - loss: 1299585171456.0000 - mae: 900855.0000 - mse: 1299585171456.0000\n",
            "Epoch 273/1000\n",
            "3/3 [==============================] - 0s 6ms/step - loss: 1297982685184.0000 - mae: 900324.1875 - mse: 1297982685184.0000\n",
            "Epoch 274/1000\n",
            "3/3 [==============================] - 0s 8ms/step - loss: 1296440492032.0000 - mae: 899852.0000 - mse: 1296440492032.0000\n",
            "Epoch 275/1000\n",
            "3/3 [==============================] - 0s 7ms/step - loss: 1294912978944.0000 - mae: 899353.8750 - mse: 1294912978944.0000\n",
            "Epoch 276/1000\n",
            "3/3 [==============================] - 0s 6ms/step - loss: 1293189513216.0000 - mae: 898822.0625 - mse: 1293189513216.0000\n",
            "Epoch 277/1000\n",
            "3/3 [==============================] - 0s 6ms/step - loss: 1291729371136.0000 - mae: 898323.8125 - mse: 1291729371136.0000\n",
            "Epoch 278/1000\n",
            "3/3 [==============================] - 0s 6ms/step - loss: 1290430316544.0000 - mae: 897931.2500 - mse: 1290430316544.0000\n",
            "Epoch 279/1000\n",
            "3/3 [==============================] - 0s 6ms/step - loss: 1288672903168.0000 - mae: 897272.7500 - mse: 1288672903168.0000\n",
            "Epoch 280/1000\n",
            "3/3 [==============================] - 0s 6ms/step - loss: 1287125860352.0000 - mae: 896809.4375 - mse: 1287125860352.0000\n",
            "Epoch 281/1000\n",
            "3/3 [==============================] - 0s 7ms/step - loss: 1285583536128.0000 - mae: 896302.2500 - mse: 1285583536128.0000\n",
            "Epoch 282/1000\n",
            "3/3 [==============================] - 0s 7ms/step - loss: 1283986817024.0000 - mae: 895773.7500 - mse: 1283986817024.0000\n",
            "Epoch 283/1000\n",
            "3/3 [==============================] - 0s 7ms/step - loss: 1282508324864.0000 - mae: 895334.4375 - mse: 1282508324864.0000\n",
            "Epoch 284/1000\n",
            "3/3 [==============================] - 0s 7ms/step - loss: 1281076625408.0000 - mae: 894877.3125 - mse: 1281076625408.0000\n",
            "Epoch 285/1000\n",
            "3/3 [==============================] - 0s 8ms/step - loss: 1279539019776.0000 - mae: 894421.0000 - mse: 1279539019776.0000\n",
            "Epoch 286/1000\n",
            "3/3 [==============================] - 0s 7ms/step - loss: 1277921198080.0000 - mae: 893895.1250 - mse: 1277921198080.0000\n",
            "Epoch 287/1000\n",
            "3/3 [==============================] - 0s 7ms/step - loss: 1276523577344.0000 - mae: 893472.0000 - mse: 1276523577344.0000\n",
            "Epoch 288/1000\n",
            "3/3 [==============================] - 0s 8ms/step - loss: 1274927382528.0000 - mae: 892934.8750 - mse: 1274927382528.0000\n",
            "Epoch 289/1000\n",
            "3/3 [==============================] - 0s 7ms/step - loss: 1273537101824.0000 - mae: 892529.3750 - mse: 1273537101824.0000\n",
            "Epoch 290/1000\n",
            "3/3 [==============================] - 0s 7ms/step - loss: 1272053104640.0000 - mae: 892050.6250 - mse: 1272053104640.0000\n",
            "Epoch 291/1000\n",
            "3/3 [==============================] - 0s 6ms/step - loss: 1270505013248.0000 - mae: 891493.3125 - mse: 1270505013248.0000\n",
            "Epoch 292/1000\n",
            "3/3 [==============================] - 0s 6ms/step - loss: 1268958625792.0000 - mae: 891001.3750 - mse: 1268958625792.0000\n",
            "Epoch 293/1000\n",
            "3/3 [==============================] - 0s 5ms/step - loss: 1267521945600.0000 - mae: 890523.9375 - mse: 1267521945600.0000\n",
            "Epoch 294/1000\n",
            "3/3 [==============================] - 0s 7ms/step - loss: 1266076090368.0000 - mae: 890072.4375 - mse: 1266076090368.0000\n",
            "Epoch 295/1000\n",
            "3/3 [==============================] - 0s 7ms/step - loss: 1264758030336.0000 - mae: 889605.8125 - mse: 1264758030336.0000\n",
            "Epoch 296/1000\n",
            "3/3 [==============================] - 0s 6ms/step - loss: 1263084503040.0000 - mae: 889088.8125 - mse: 1263084503040.0000\n",
            "Epoch 297/1000\n",
            "3/3 [==============================] - 0s 7ms/step - loss: 1261716242432.0000 - mae: 888649.3125 - mse: 1261716242432.0000\n",
            "Epoch 298/1000\n",
            "3/3 [==============================] - 0s 9ms/step - loss: 1260280741888.0000 - mae: 888193.6250 - mse: 1260280741888.0000\n",
            "Epoch 299/1000\n",
            "3/3 [==============================] - 0s 7ms/step - loss: 1258781147136.0000 - mae: 887669.4375 - mse: 1258781147136.0000\n",
            "Epoch 300/1000\n",
            "3/3 [==============================] - 0s 7ms/step - loss: 1257314451456.0000 - mae: 887196.5000 - mse: 1257314451456.0000\n",
            "Epoch 301/1000\n",
            "3/3 [==============================] - 0s 8ms/step - loss: 1256016707584.0000 - mae: 886775.2500 - mse: 1256016707584.0000\n",
            "Epoch 302/1000\n",
            "3/3 [==============================] - 0s 8ms/step - loss: 1254516850688.0000 - mae: 886309.1875 - mse: 1254516850688.0000\n",
            "Epoch 303/1000\n",
            "3/3 [==============================] - 0s 8ms/step - loss: 1252967186432.0000 - mae: 885803.6875 - mse: 1252967186432.0000\n",
            "Epoch 304/1000\n",
            "3/3 [==============================] - 0s 8ms/step - loss: 1251629858816.0000 - mae: 885347.6250 - mse: 1251629858816.0000\n",
            "Epoch 305/1000\n",
            "3/3 [==============================] - 0s 6ms/step - loss: 1250179284992.0000 - mae: 884877.1250 - mse: 1250179284992.0000\n",
            "Epoch 306/1000\n",
            "3/3 [==============================] - 0s 6ms/step - loss: 1248820199424.0000 - mae: 884449.4375 - mse: 1248820199424.0000\n",
            "Epoch 307/1000\n",
            "3/3 [==============================] - 0s 7ms/step - loss: 1247482609664.0000 - mae: 884004.8125 - mse: 1247482609664.0000\n",
            "Epoch 308/1000\n",
            "3/3 [==============================] - 0s 7ms/step - loss: 1246312398848.0000 - mae: 883592.0000 - mse: 1246312398848.0000\n",
            "Epoch 309/1000\n",
            "3/3 [==============================] - 0s 10ms/step - loss: 1244692086784.0000 - mae: 883089.1250 - mse: 1244692086784.0000\n",
            "Epoch 310/1000\n",
            "3/3 [==============================] - 0s 8ms/step - loss: 1243110834176.0000 - mae: 882549.3125 - mse: 1243110834176.0000\n",
            "Epoch 311/1000\n",
            "3/3 [==============================] - 0s 7ms/step - loss: 1241829736448.0000 - mae: 882152.6250 - mse: 1241829736448.0000\n",
            "Epoch 312/1000\n",
            "3/3 [==============================] - 0s 6ms/step - loss: 1240420974592.0000 - mae: 881702.8125 - mse: 1240420974592.0000\n",
            "Epoch 313/1000\n",
            "3/3 [==============================] - 0s 8ms/step - loss: 1239121788928.0000 - mae: 881255.8125 - mse: 1239121788928.0000\n",
            "Epoch 314/1000\n",
            "3/3 [==============================] - 0s 8ms/step - loss: 1237685108736.0000 - mae: 880772.0625 - mse: 1237685108736.0000\n",
            "Epoch 315/1000\n",
            "3/3 [==============================] - 0s 9ms/step - loss: 1236356694016.0000 - mae: 880300.2500 - mse: 1236356694016.0000\n",
            "Epoch 316/1000\n",
            "3/3 [==============================] - 0s 8ms/step - loss: 1234955665408.0000 - mae: 879823.6250 - mse: 1234955665408.0000\n",
            "Epoch 317/1000\n",
            "3/3 [==============================] - 0s 7ms/step - loss: 1233689378816.0000 - mae: 879397.6875 - mse: 1233689378816.0000\n",
            "Epoch 318/1000\n",
            "3/3 [==============================] - 0s 6ms/step - loss: 1232362405888.0000 - mae: 878954.0625 - mse: 1232362405888.0000\n",
            "Epoch 319/1000\n",
            "3/3 [==============================] - 0s 8ms/step - loss: 1230805270528.0000 - mae: 878447.1875 - mse: 1230805270528.0000\n",
            "Epoch 320/1000\n",
            "3/3 [==============================] - 0s 6ms/step - loss: 1229611466752.0000 - mae: 877993.8125 - mse: 1229611466752.0000\n",
            "Epoch 321/1000\n",
            "3/3 [==============================] - 0s 6ms/step - loss: 1228203229184.0000 - mae: 877515.7500 - mse: 1228203229184.0000\n",
            "Epoch 322/1000\n",
            "3/3 [==============================] - 0s 7ms/step - loss: 1226851876864.0000 - mae: 877050.8125 - mse: 1226851876864.0000\n",
            "Epoch 323/1000\n",
            "3/3 [==============================] - 0s 6ms/step - loss: 1225464872960.0000 - mae: 876595.1250 - mse: 1225464872960.0000\n",
            "Epoch 324/1000\n",
            "3/3 [==============================] - 0s 7ms/step - loss: 1224164507648.0000 - mae: 876122.6875 - mse: 1224164507648.0000\n",
            "Epoch 325/1000\n",
            "3/3 [==============================] - 0s 6ms/step - loss: 1222933217280.0000 - mae: 875720.3750 - mse: 1222933217280.0000\n",
            "Epoch 326/1000\n",
            "3/3 [==============================] - 0s 7ms/step - loss: 1221645303808.0000 - mae: 875270.8750 - mse: 1221645303808.0000\n",
            "Epoch 327/1000\n",
            "3/3 [==============================] - 0s 6ms/step - loss: 1220182933504.0000 - mae: 874779.3125 - mse: 1220182933504.0000\n",
            "Epoch 328/1000\n",
            "3/3 [==============================] - 0s 8ms/step - loss: 1218973663232.0000 - mae: 874316.4375 - mse: 1218973663232.0000\n",
            "Epoch 329/1000\n",
            "3/3 [==============================] - 0s 8ms/step - loss: 1217676836864.0000 - mae: 873886.0625 - mse: 1217676836864.0000\n",
            "Epoch 330/1000\n",
            "3/3 [==============================] - 0s 6ms/step - loss: 1216419201024.0000 - mae: 873435.5625 - mse: 1216419201024.0000\n",
            "Epoch 331/1000\n",
            "3/3 [==============================] - 0s 6ms/step - loss: 1215040192512.0000 - mae: 872961.5000 - mse: 1215040192512.0000\n",
            "Epoch 332/1000\n",
            "3/3 [==============================] - 0s 8ms/step - loss: 1213674553344.0000 - mae: 872474.3750 - mse: 1213674553344.0000\n",
            "Epoch 333/1000\n",
            "3/3 [==============================] - 0s 8ms/step - loss: 1212491759616.0000 - mae: 872062.3125 - mse: 1212491759616.0000\n",
            "Epoch 334/1000\n",
            "3/3 [==============================] - 0s 7ms/step - loss: 1211273314304.0000 - mae: 871637.4375 - mse: 1211273314304.0000\n",
            "Epoch 335/1000\n",
            "3/3 [==============================] - 0s 7ms/step - loss: 1209962725376.0000 - mae: 871151.9375 - mse: 1209962725376.0000\n",
            "Epoch 336/1000\n",
            "3/3 [==============================] - 0s 8ms/step - loss: 1208612683776.0000 - mae: 870665.1250 - mse: 1208612683776.0000\n",
            "Epoch 337/1000\n",
            "3/3 [==============================] - 0s 7ms/step - loss: 1207291609088.0000 - mae: 870218.4375 - mse: 1207291609088.0000\n",
            "Epoch 338/1000\n",
            "3/3 [==============================] - 0s 8ms/step - loss: 1206510682112.0000 - mae: 869897.2500 - mse: 1206510682112.0000\n",
            "Epoch 339/1000\n",
            "3/3 [==============================] - 0s 10ms/step - loss: 1204834533376.0000 - mae: 869331.8750 - mse: 1204834533376.0000\n",
            "Epoch 340/1000\n",
            "3/3 [==============================] - 0s 10ms/step - loss: 1203576635392.0000 - mae: 868879.6250 - mse: 1203576635392.0000\n",
            "Epoch 341/1000\n",
            "3/3 [==============================] - 0s 6ms/step - loss: 1202342461440.0000 - mae: 868399.1875 - mse: 1202342461440.0000\n",
            "Epoch 342/1000\n",
            "3/3 [==============================] - 0s 8ms/step - loss: 1201103831040.0000 - mae: 867972.5625 - mse: 1201103831040.0000\n",
            "Epoch 343/1000\n",
            "3/3 [==============================] - 0s 6ms/step - loss: 1199840034816.0000 - mae: 867542.6875 - mse: 1199840034816.0000\n",
            "Epoch 344/1000\n",
            "3/3 [==============================] - 0s 7ms/step - loss: 1198599307264.0000 - mae: 867054.6875 - mse: 1198599307264.0000\n",
            "Epoch 345/1000\n",
            "3/3 [==============================] - 0s 9ms/step - loss: 1197329219584.0000 - mae: 866604.1250 - mse: 1197329219584.0000\n",
            "Epoch 346/1000\n",
            "3/3 [==============================] - 0s 7ms/step - loss: 1196136071168.0000 - mae: 866169.8125 - mse: 1196136071168.0000\n",
            "Epoch 347/1000\n",
            "3/3 [==============================] - 0s 7ms/step - loss: 1194989453312.0000 - mae: 865716.9375 - mse: 1194989453312.0000\n",
            "Epoch 348/1000\n",
            "3/3 [==============================] - 0s 10ms/step - loss: 1193658810368.0000 - mae: 865223.2500 - mse: 1193658810368.0000\n",
            "Epoch 349/1000\n",
            "3/3 [==============================] - 0s 10ms/step - loss: 1192527527936.0000 - mae: 864825.1250 - mse: 1192527527936.0000\n",
            "Epoch 350/1000\n",
            "3/3 [==============================] - 0s 6ms/step - loss: 1191415250944.0000 - mae: 864390.8750 - mse: 1191415250944.0000\n",
            "Epoch 351/1000\n",
            "3/3 [==============================] - 0s 6ms/step - loss: 1190040567808.0000 - mae: 863902.1250 - mse: 1190040567808.0000\n",
            "Epoch 352/1000\n",
            "3/3 [==============================] - 0s 7ms/step - loss: 1188874944512.0000 - mae: 863440.8125 - mse: 1188874944512.0000\n",
            "Epoch 353/1000\n",
            "3/3 [==============================] - 0s 8ms/step - loss: 1187625041920.0000 - mae: 862996.0000 - mse: 1187625041920.0000\n",
            "Epoch 354/1000\n",
            "3/3 [==============================] - 0s 6ms/step - loss: 1186471477248.0000 - mae: 862558.9375 - mse: 1186471477248.0000\n",
            "Epoch 355/1000\n",
            "3/3 [==============================] - 0s 7ms/step - loss: 1185227210752.0000 - mae: 862154.7500 - mse: 1185227210752.0000\n",
            "Epoch 356/1000\n",
            "3/3 [==============================] - 0s 6ms/step - loss: 1184159629312.0000 - mae: 861689.0000 - mse: 1184159629312.0000\n",
            "Epoch 357/1000\n",
            "3/3 [==============================] - 0s 5ms/step - loss: 1182906318848.0000 - mae: 861235.5000 - mse: 1182906318848.0000\n",
            "Epoch 358/1000\n",
            "3/3 [==============================] - 0s 6ms/step - loss: 1181734273024.0000 - mae: 860817.8125 - mse: 1181734273024.0000\n",
            "Epoch 359/1000\n",
            "3/3 [==============================] - 0s 6ms/step - loss: 1180515958784.0000 - mae: 860365.4375 - mse: 1180515958784.0000\n",
            "Epoch 360/1000\n",
            "3/3 [==============================] - 0s 6ms/step - loss: 1179435794432.0000 - mae: 859964.0625 - mse: 1179435794432.0000\n",
            "Epoch 361/1000\n",
            "3/3 [==============================] - 0s 8ms/step - loss: 1178239369216.0000 - mae: 859516.3125 - mse: 1178239369216.0000\n",
            "Epoch 362/1000\n",
            "3/3 [==============================] - 0s 8ms/step - loss: 1177066405888.0000 - mae: 859078.1250 - mse: 1177066405888.0000\n",
            "Epoch 363/1000\n",
            "3/3 [==============================] - 0s 8ms/step - loss: 1175911268352.0000 - mae: 858649.3750 - mse: 1175911268352.0000\n",
            "Epoch 364/1000\n",
            "3/3 [==============================] - 0s 6ms/step - loss: 1174791258112.0000 - mae: 858230.4375 - mse: 1174791258112.0000\n",
            "Epoch 365/1000\n",
            "3/3 [==============================] - 0s 6ms/step - loss: 1173511077888.0000 - mae: 857738.0625 - mse: 1173511077888.0000\n",
            "Epoch 366/1000\n",
            "3/3 [==============================] - 0s 6ms/step - loss: 1172466827264.0000 - mae: 857344.4375 - mse: 1172466827264.0000\n",
            "Epoch 367/1000\n",
            "3/3 [==============================] - 0s 6ms/step - loss: 1171297009664.0000 - mae: 856911.6875 - mse: 1171297009664.0000\n",
            "Epoch 368/1000\n",
            "3/3 [==============================] - 0s 6ms/step - loss: 1170115919872.0000 - mae: 856452.5625 - mse: 1170115919872.0000\n",
            "Epoch 369/1000\n",
            "3/3 [==============================] - 0s 8ms/step - loss: 1169078484992.0000 - mae: 856062.3750 - mse: 1169078484992.0000\n",
            "Epoch 370/1000\n",
            "3/3 [==============================] - 0s 8ms/step - loss: 1167790178304.0000 - mae: 855580.7500 - mse: 1167790178304.0000\n",
            "Epoch 371/1000\n",
            "3/3 [==============================] - 0s 7ms/step - loss: 1166727839744.0000 - mae: 855181.1250 - mse: 1166727839744.0000\n",
            "Epoch 372/1000\n",
            "3/3 [==============================] - 0s 8ms/step - loss: 1165777960960.0000 - mae: 854827.7500 - mse: 1165777960960.0000\n",
            "Epoch 373/1000\n",
            "3/3 [==============================] - 0s 7ms/step - loss: 1164598312960.0000 - mae: 854372.6875 - mse: 1164598312960.0000\n",
            "Epoch 374/1000\n",
            "3/3 [==============================] - 0s 7ms/step - loss: 1163540430848.0000 - mae: 853969.8125 - mse: 1163540430848.0000\n",
            "Epoch 375/1000\n",
            "3/3 [==============================] - 0s 6ms/step - loss: 1162357374976.0000 - mae: 853589.5000 - mse: 1162357374976.0000\n",
            "Epoch 376/1000\n",
            "3/3 [==============================] - 0s 6ms/step - loss: 1161217310720.0000 - mae: 853140.3125 - mse: 1161217310720.0000\n",
            "Epoch 377/1000\n",
            "3/3 [==============================] - 0s 6ms/step - loss: 1160129544192.0000 - mae: 852734.8125 - mse: 1160129544192.0000\n",
            "Epoch 378/1000\n",
            "3/3 [==============================] - 0s 6ms/step - loss: 1158982008832.0000 - mae: 852332.6875 - mse: 1158982008832.0000\n",
            "Epoch 379/1000\n",
            "3/3 [==============================] - 0s 6ms/step - loss: 1157873270784.0000 - mae: 851913.0625 - mse: 1157873270784.0000\n",
            "Epoch 380/1000\n",
            "3/3 [==============================] - 0s 7ms/step - loss: 1156737400832.0000 - mae: 851487.5000 - mse: 1156737400832.0000\n",
            "Epoch 381/1000\n",
            "3/3 [==============================] - 0s 8ms/step - loss: 1155798401024.0000 - mae: 851142.1250 - mse: 1155798401024.0000\n",
            "Epoch 382/1000\n",
            "3/3 [==============================] - 0s 7ms/step - loss: 1154646016000.0000 - mae: 850737.8750 - mse: 1154646016000.0000\n",
            "Epoch 383/1000\n",
            "3/3 [==============================] - 0s 7ms/step - loss: 1153555103744.0000 - mae: 850305.3750 - mse: 1153555103744.0000\n",
            "Epoch 384/1000\n",
            "3/3 [==============================] - 0s 8ms/step - loss: 1152500629504.0000 - mae: 849926.1250 - mse: 1152500629504.0000\n",
            "Epoch 385/1000\n",
            "3/3 [==============================] - 0s 6ms/step - loss: 1151393333248.0000 - mae: 849499.6250 - mse: 1151393333248.0000\n",
            "Epoch 386/1000\n",
            "3/3 [==============================] - 0s 7ms/step - loss: 1150308974592.0000 - mae: 849103.4375 - mse: 1150308974592.0000\n",
            "Epoch 387/1000\n",
            "3/3 [==============================] - 0s 5ms/step - loss: 1149274292224.0000 - mae: 848707.6250 - mse: 1149274292224.0000\n",
            "Epoch 388/1000\n",
            "3/3 [==============================] - 0s 7ms/step - loss: 1148205924352.0000 - mae: 848338.1250 - mse: 1148205924352.0000\n",
            "Epoch 389/1000\n",
            "3/3 [==============================] - 0s 8ms/step - loss: 1147131396096.0000 - mae: 847930.3125 - mse: 1147131396096.0000\n",
            "Epoch 390/1000\n",
            "3/3 [==============================] - 0s 6ms/step - loss: 1146097893376.0000 - mae: 847544.7500 - mse: 1146097893376.0000\n",
            "Epoch 391/1000\n",
            "3/3 [==============================] - 0s 7ms/step - loss: 1145088114688.0000 - mae: 847170.3750 - mse: 1145088114688.0000\n",
            "Epoch 392/1000\n",
            "3/3 [==============================] - 0s 5ms/step - loss: 1144053694464.0000 - mae: 846775.6875 - mse: 1144053694464.0000\n",
            "Epoch 393/1000\n",
            "3/3 [==============================] - 0s 7ms/step - loss: 1142956490752.0000 - mae: 846362.9375 - mse: 1142956490752.0000\n",
            "Epoch 394/1000\n",
            "3/3 [==============================] - 0s 7ms/step - loss: 1141913550848.0000 - mae: 845981.5625 - mse: 1141913550848.0000\n",
            "Epoch 395/1000\n",
            "3/3 [==============================] - 0s 6ms/step - loss: 1140910587904.0000 - mae: 845595.8750 - mse: 1140910587904.0000\n",
            "Epoch 396/1000\n",
            "3/3 [==============================] - 0s 6ms/step - loss: 1139924664320.0000 - mae: 845214.6250 - mse: 1139924664320.0000\n",
            "Epoch 397/1000\n",
            "3/3 [==============================] - 0s 7ms/step - loss: 1138850267136.0000 - mae: 844825.0000 - mse: 1138850136064.0000\n",
            "Epoch 398/1000\n",
            "3/3 [==============================] - 0s 6ms/step - loss: 1137782554624.0000 - mae: 844413.0625 - mse: 1137782554624.0000\n",
            "Epoch 399/1000\n",
            "3/3 [==============================] - 0s 6ms/step - loss: 1136870948864.0000 - mae: 844080.1875 - mse: 1136870948864.0000\n",
            "Epoch 400/1000\n",
            "3/3 [==============================] - 0s 7ms/step - loss: 1135804678144.0000 - mae: 843665.1875 - mse: 1135804678144.0000\n",
            "Epoch 401/1000\n",
            "3/3 [==============================] - 0s 6ms/step - loss: 1134801846272.0000 - mae: 843268.6875 - mse: 1134801846272.0000\n",
            "Epoch 402/1000\n",
            "3/3 [==============================] - 0s 7ms/step - loss: 1133810286592.0000 - mae: 842881.8750 - mse: 1133810286592.0000\n",
            "Epoch 403/1000\n",
            "3/3 [==============================] - 0s 6ms/step - loss: 1132765904896.0000 - mae: 842505.3125 - mse: 1132765904896.0000\n",
            "Epoch 404/1000\n",
            "3/3 [==============================] - 0s 10ms/step - loss: 1131780112384.0000 - mae: 842095.1875 - mse: 1131780112384.0000\n",
            "Epoch 405/1000\n",
            "3/3 [==============================] - 0s 10ms/step - loss: 1130791043072.0000 - mae: 841720.1875 - mse: 1130791043072.0000\n",
            "Epoch 406/1000\n",
            "3/3 [==============================] - 0s 6ms/step - loss: 1129835659264.0000 - mae: 841333.9375 - mse: 1129835659264.0000\n",
            "Epoch 407/1000\n",
            "3/3 [==============================] - 0s 8ms/step - loss: 1128902557696.0000 - mae: 840993.6875 - mse: 1128902557696.0000\n",
            "Epoch 408/1000\n",
            "3/3 [==============================] - 0s 7ms/step - loss: 1127808368640.0000 - mae: 840555.0000 - mse: 1127808368640.0000\n",
            "Epoch 409/1000\n",
            "3/3 [==============================] - 0s 7ms/step - loss: 1126858358784.0000 - mae: 840169.8125 - mse: 1126858358784.0000\n",
            "Epoch 410/1000\n",
            "3/3 [==============================] - 0s 12ms/step - loss: 1125808734208.0000 - mae: 839765.5000 - mse: 1125808734208.0000\n",
            "Epoch 411/1000\n",
            "3/3 [==============================] - 0s 8ms/step - loss: 1125004476416.0000 - mae: 839438.9375 - mse: 1125004476416.0000\n",
            "Epoch 412/1000\n",
            "3/3 [==============================] - 0s 10ms/step - loss: 1123905568768.0000 - mae: 839010.1250 - mse: 1123905568768.0000\n",
            "Epoch 413/1000\n",
            "3/3 [==============================] - 0s 9ms/step - loss: 1122937077760.0000 - mae: 838616.4375 - mse: 1122937077760.0000\n",
            "Epoch 414/1000\n",
            "3/3 [==============================] - 0s 7ms/step - loss: 1122021539840.0000 - mae: 838251.5000 - mse: 1122021539840.0000\n",
            "Epoch 415/1000\n",
            "3/3 [==============================] - 0s 8ms/step - loss: 1121112031232.0000 - mae: 837922.1250 - mse: 1121112031232.0000\n",
            "Epoch 416/1000\n",
            "3/3 [==============================] - 0s 7ms/step - loss: 1120029376512.0000 - mae: 837471.6875 - mse: 1120029376512.0000\n",
            "Epoch 417/1000\n",
            "3/3 [==============================] - 0s 7ms/step - loss: 1119076352000.0000 - mae: 837103.5625 - mse: 1119076352000.0000\n",
            "Epoch 418/1000\n",
            "3/3 [==============================] - 0s 7ms/step - loss: 1118227791872.0000 - mae: 836779.5000 - mse: 1118227791872.0000\n",
            "Epoch 419/1000\n",
            "3/3 [==============================] - 0s 7ms/step - loss: 1117202808832.0000 - mae: 836411.3750 - mse: 1117202808832.0000\n",
            "Epoch 420/1000\n",
            "3/3 [==============================] - 0s 9ms/step - loss: 1116295135232.0000 - mae: 836032.5000 - mse: 1116295135232.0000\n",
            "Epoch 421/1000\n",
            "3/3 [==============================] - 0s 8ms/step - loss: 1115392835584.0000 - mae: 835705.2500 - mse: 1115392835584.0000\n",
            "Epoch 422/1000\n",
            "3/3 [==============================] - 0s 8ms/step - loss: 1114329710592.0000 - mae: 835293.5625 - mse: 1114329710592.0000\n",
            "Epoch 423/1000\n",
            "3/3 [==============================] - 0s 8ms/step - loss: 1113736478720.0000 - mae: 835091.0625 - mse: 1113736478720.0000\n",
            "Epoch 424/1000\n",
            "3/3 [==============================] - 0s 7ms/step - loss: 1112481464320.0000 - mae: 834597.3750 - mse: 1112481464320.0000\n",
            "Epoch 425/1000\n",
            "3/3 [==============================] - 0s 7ms/step - loss: 1111660298240.0000 - mae: 834291.8750 - mse: 1111660298240.0000\n",
            "Epoch 426/1000\n",
            "3/3 [==============================] - 0s 7ms/step - loss: 1110828777472.0000 - mae: 833950.6250 - mse: 1110828777472.0000\n",
            "Epoch 427/1000\n",
            "3/3 [==============================] - 0s 7ms/step - loss: 1109875621888.0000 - mae: 833631.9375 - mse: 1109875621888.0000\n",
            "Epoch 428/1000\n",
            "3/3 [==============================] - 0s 7ms/step - loss: 1108840153088.0000 - mae: 833245.2500 - mse: 1108840153088.0000\n",
            "Epoch 429/1000\n",
            "3/3 [==============================] - 0s 7ms/step - loss: 1107828146176.0000 - mae: 832845.4375 - mse: 1107828146176.0000\n",
            "Epoch 430/1000\n",
            "3/3 [==============================] - 0s 7ms/step - loss: 1107017072640.0000 - mae: 832551.0000 - mse: 1107017072640.0000\n",
            "Epoch 431/1000\n",
            "3/3 [==============================] - 0s 6ms/step - loss: 1106119360512.0000 - mae: 832190.0625 - mse: 1106119360512.0000\n",
            "Epoch 432/1000\n",
            "3/3 [==============================] - 0s 7ms/step - loss: 1105206575104.0000 - mae: 831873.2500 - mse: 1105206575104.0000\n",
            "Epoch 433/1000\n",
            "3/3 [==============================] - 0s 7ms/step - loss: 1104324329472.0000 - mae: 831546.8125 - mse: 1104324329472.0000\n",
            "Epoch 434/1000\n",
            "3/3 [==============================] - 0s 6ms/step - loss: 1103485599744.0000 - mae: 831186.5000 - mse: 1103485599744.0000\n",
            "Epoch 435/1000\n",
            "3/3 [==============================] - 0s 7ms/step - loss: 1102499807232.0000 - mae: 830832.5625 - mse: 1102499807232.0000\n",
            "Epoch 436/1000\n",
            "3/3 [==============================] - 0s 7ms/step - loss: 1101685850112.0000 - mae: 830497.4375 - mse: 1101685850112.0000\n",
            "Epoch 437/1000\n",
            "3/3 [==============================] - 0s 6ms/step - loss: 1100814876672.0000 - mae: 830168.3750 - mse: 1100814876672.0000\n",
            "Epoch 438/1000\n",
            "3/3 [==============================] - 0s 6ms/step - loss: 1099909300224.0000 - mae: 829823.2500 - mse: 1099909300224.0000\n",
            "Epoch 439/1000\n",
            "3/3 [==============================] - 0s 6ms/step - loss: 1098949459968.0000 - mae: 829436.0625 - mse: 1098949459968.0000\n",
            "Epoch 440/1000\n",
            "3/3 [==============================] - 0s 8ms/step - loss: 1098074161152.0000 - mae: 829123.1875 - mse: 1098074161152.0000\n",
            "Epoch 441/1000\n",
            "3/3 [==============================] - 0s 7ms/step - loss: 1097289891840.0000 - mae: 828810.6875 - mse: 1097289891840.0000\n",
            "Epoch 442/1000\n",
            "3/3 [==============================] - 0s 8ms/step - loss: 1096347484160.0000 - mae: 828484.0625 - mse: 1096347484160.0000\n",
            "Epoch 443/1000\n",
            "3/3 [==============================] - 0s 7ms/step - loss: 1095523958784.0000 - mae: 828172.1250 - mse: 1095523958784.0000\n",
            "Epoch 444/1000\n",
            "3/3 [==============================] - 0s 7ms/step - loss: 1094644727808.0000 - mae: 827853.1250 - mse: 1094644727808.0000\n",
            "Epoch 445/1000\n",
            "3/3 [==============================] - 0s 10ms/step - loss: 1093831688192.0000 - mae: 827581.2500 - mse: 1093831688192.0000\n",
            "Epoch 446/1000\n",
            "3/3 [==============================] - 0s 8ms/step - loss: 1092918575104.0000 - mae: 827259.6250 - mse: 1092918575104.0000\n",
            "Epoch 447/1000\n",
            "3/3 [==============================] - 0s 7ms/step - loss: 1092141252608.0000 - mae: 826972.5625 - mse: 1092141252608.0000\n",
            "Epoch 448/1000\n",
            "3/3 [==============================] - 0s 8ms/step - loss: 1091173548032.0000 - mae: 826616.6875 - mse: 1091173548032.0000\n",
            "Epoch 449/1000\n",
            "3/3 [==============================] - 0s 7ms/step - loss: 1090346090496.0000 - mae: 826303.1875 - mse: 1090346090496.0000\n",
            "Epoch 450/1000\n",
            "3/3 [==============================] - 0s 7ms/step - loss: 1089577418752.0000 - mae: 826037.0625 - mse: 1089577418752.0000\n",
            "Epoch 451/1000\n",
            "3/3 [==============================] - 0s 6ms/step - loss: 1088704282624.0000 - mae: 825733.0625 - mse: 1088704282624.0000\n",
            "Epoch 452/1000\n",
            "3/3 [==============================] - 0s 6ms/step - loss: 1087975653376.0000 - mae: 825409.7500 - mse: 1087975653376.0000\n",
            "Epoch 453/1000\n",
            "3/3 [==============================] - 0s 7ms/step - loss: 1087015026688.0000 - mae: 825108.0000 - mse: 1087015026688.0000\n",
            "Epoch 454/1000\n",
            "3/3 [==============================] - 0s 7ms/step - loss: 1086140121088.0000 - mae: 824788.8125 - mse: 1086140121088.0000\n",
            "Epoch 455/1000\n",
            "3/3 [==============================] - 0s 7ms/step - loss: 1085407035392.0000 - mae: 824533.5625 - mse: 1085407035392.0000\n",
            "Epoch 456/1000\n",
            "3/3 [==============================] - 0s 8ms/step - loss: 1084670541824.0000 - mae: 824254.8125 - mse: 1084670541824.0000\n",
            "Epoch 457/1000\n",
            "3/3 [==============================] - 0s 8ms/step - loss: 1083662336000.0000 - mae: 823892.1875 - mse: 1083662336000.0000\n",
            "Epoch 458/1000\n",
            "3/3 [==============================] - 0s 9ms/step - loss: 1082898907136.0000 - mae: 823600.1875 - mse: 1082898907136.0000\n",
            "Epoch 459/1000\n",
            "3/3 [==============================] - 0s 8ms/step - loss: 1082076037120.0000 - mae: 823302.0625 - mse: 1082076037120.0000\n",
            "Epoch 460/1000\n",
            "3/3 [==============================] - 0s 7ms/step - loss: 1081242615808.0000 - mae: 823032.9375 - mse: 1081242615808.0000\n",
            "Epoch 461/1000\n",
            "3/3 [==============================] - 0s 7ms/step - loss: 1080480432128.0000 - mae: 822741.1875 - mse: 1080480432128.0000\n",
            "Epoch 462/1000\n",
            "3/3 [==============================] - 0s 6ms/step - loss: 1079655530496.0000 - mae: 822411.0625 - mse: 1079655530496.0000\n",
            "Epoch 463/1000\n",
            "3/3 [==============================] - 0s 6ms/step - loss: 1078844981248.0000 - mae: 822165.3125 - mse: 1078844981248.0000\n",
            "Epoch 464/1000\n",
            "3/3 [==============================] - 0s 7ms/step - loss: 1077932851200.0000 - mae: 821803.2500 - mse: 1077932851200.0000\n",
            "Epoch 465/1000\n",
            "3/3 [==============================] - 0s 8ms/step - loss: 1077276377088.0000 - mae: 821543.8750 - mse: 1077276377088.0000\n",
            "Epoch 466/1000\n",
            "3/3 [==============================] - 0s 7ms/step - loss: 1076512489472.0000 - mae: 821237.5000 - mse: 1076512489472.0000\n",
            "Epoch 467/1000\n",
            "3/3 [==============================] - 0s 10ms/step - loss: 1075734052864.0000 - mae: 820979.0625 - mse: 1075734052864.0000\n",
            "Epoch 468/1000\n",
            "3/3 [==============================] - 0s 10ms/step - loss: 1074828410880.0000 - mae: 820642.3750 - mse: 1074828410880.0000\n",
            "Epoch 469/1000\n",
            "3/3 [==============================] - 0s 7ms/step - loss: 1074048663552.0000 - mae: 820363.4375 - mse: 1074048663552.0000\n",
            "Epoch 470/1000\n",
            "3/3 [==============================] - 0s 5ms/step - loss: 1073339891712.0000 - mae: 820066.9375 - mse: 1073339891712.0000\n",
            "Epoch 471/1000\n",
            "3/3 [==============================] - 0s 8ms/step - loss: 1072589897728.0000 - mae: 819830.6875 - mse: 1072589897728.0000\n",
            "Epoch 472/1000\n",
            "3/3 [==============================] - 0s 8ms/step - loss: 1071763619840.0000 - mae: 819502.6875 - mse: 1071763619840.0000\n",
            "Epoch 473/1000\n",
            "3/3 [==============================] - 0s 8ms/step - loss: 1071033679872.0000 - mae: 819285.5625 - mse: 1071033679872.0000\n",
            "Epoch 474/1000\n",
            "3/3 [==============================] - 0s 7ms/step - loss: 1070200651776.0000 - mae: 818928.0625 - mse: 1070200651776.0000\n",
            "Epoch 475/1000\n",
            "3/3 [==============================] - 0s 8ms/step - loss: 1069344489472.0000 - mae: 818602.4375 - mse: 1069344489472.0000\n",
            "Epoch 476/1000\n",
            "3/3 [==============================] - 0s 10ms/step - loss: 1068627132416.0000 - mae: 818345.0625 - mse: 1068627132416.0000\n",
            "Epoch 477/1000\n",
            "3/3 [==============================] - 0s 12ms/step - loss: 1067907416064.0000 - mae: 818070.1875 - mse: 1067907416064.0000\n",
            "Epoch 478/1000\n",
            "3/3 [==============================] - 0s 8ms/step - loss: 1067069669376.0000 - mae: 817781.6875 - mse: 1067069669376.0000\n",
            "Epoch 479/1000\n",
            "3/3 [==============================] - 0s 9ms/step - loss: 1066323214336.0000 - mae: 817497.2500 - mse: 1066323214336.0000\n",
            "Epoch 480/1000\n",
            "3/3 [==============================] - 0s 6ms/step - loss: 1065531408384.0000 - mae: 817182.0625 - mse: 1065531408384.0000\n",
            "Epoch 481/1000\n",
            "3/3 [==============================] - 0s 7ms/step - loss: 1064763129856.0000 - mae: 816909.1250 - mse: 1064763129856.0000\n",
            "Epoch 482/1000\n",
            "3/3 [==============================] - 0s 7ms/step - loss: 1063980630016.0000 - mae: 816626.3125 - mse: 1063980630016.0000\n",
            "Epoch 483/1000\n",
            "3/3 [==============================] - 0s 7ms/step - loss: 1063250100224.0000 - mae: 816319.0000 - mse: 1063250100224.0000\n",
            "Epoch 484/1000\n",
            "3/3 [==============================] - 0s 7ms/step - loss: 1062484115456.0000 - mae: 816031.5000 - mse: 1062484115456.0000\n",
            "Epoch 485/1000\n",
            "3/3 [==============================] - 0s 6ms/step - loss: 1061921488896.0000 - mae: 815839.3125 - mse: 1061921488896.0000\n",
            "Epoch 486/1000\n",
            "3/3 [==============================] - 0s 7ms/step - loss: 1061404868608.0000 - mae: 815592.0625 - mse: 1061404868608.0000\n",
            "Epoch 487/1000\n",
            "3/3 [==============================] - 0s 9ms/step - loss: 1060381196288.0000 - mae: 815233.0000 - mse: 1060381196288.0000\n",
            "Epoch 488/1000\n",
            "3/3 [==============================] - 0s 7ms/step - loss: 1059607412736.0000 - mae: 814949.8125 - mse: 1059607412736.0000\n",
            "Epoch 489/1000\n",
            "3/3 [==============================] - 0s 6ms/step - loss: 1059199975424.0000 - mae: 814677.0625 - mse: 1059199975424.0000\n",
            "Epoch 490/1000\n",
            "3/3 [==============================] - 0s 8ms/step - loss: 1058095759360.0000 - mae: 814389.5625 - mse: 1058095759360.0000\n",
            "Epoch 491/1000\n",
            "3/3 [==============================] - 0s 6ms/step - loss: 1057382072320.0000 - mae: 814098.3125 - mse: 1057382072320.0000\n",
            "Epoch 492/1000\n",
            "3/3 [==============================] - 0s 7ms/step - loss: 1056648462336.0000 - mae: 813823.0625 - mse: 1056648462336.0000\n",
            "Epoch 493/1000\n",
            "3/3 [==============================] - 0s 6ms/step - loss: 1055952011264.0000 - mae: 813538.2500 - mse: 1055952011264.0000\n",
            "Epoch 494/1000\n",
            "3/3 [==============================] - 0s 6ms/step - loss: 1055235178496.0000 - mae: 813256.8750 - mse: 1055235178496.0000\n",
            "Epoch 495/1000\n",
            "3/3 [==============================] - 0s 10ms/step - loss: 1054499209216.0000 - mae: 812998.1250 - mse: 1054499209216.0000\n",
            "Epoch 496/1000\n",
            "3/3 [==============================] - 0s 8ms/step - loss: 1053760094208.0000 - mae: 812724.5000 - mse: 1053760094208.0000\n",
            "Epoch 497/1000\n",
            "3/3 [==============================] - 0s 7ms/step - loss: 1053083041792.0000 - mae: 812462.2500 - mse: 1053083041792.0000\n",
            "Epoch 498/1000\n",
            "3/3 [==============================] - 0s 8ms/step - loss: 1052451864576.0000 - mae: 812236.4375 - mse: 1052451864576.0000\n",
            "Epoch 499/1000\n",
            "3/3 [==============================] - 0s 9ms/step - loss: 1051705606144.0000 - mae: 811902.9375 - mse: 1051705606144.0000\n",
            "Epoch 500/1000\n",
            "3/3 [==============================] - 0s 9ms/step - loss: 1050961510400.0000 - mae: 811627.1875 - mse: 1050961510400.0000\n",
            "Epoch 501/1000\n",
            "3/3 [==============================] - 0s 10ms/step - loss: 1050320306176.0000 - mae: 811376.1250 - mse: 1050320306176.0000\n",
            "Epoch 502/1000\n",
            "3/3 [==============================] - 0s 6ms/step - loss: 1049658392576.0000 - mae: 811072.3125 - mse: 1049658392576.0000\n",
            "Epoch 503/1000\n",
            "3/3 [==============================] - 0s 7ms/step - loss: 1048813961216.0000 - mae: 810792.8125 - mse: 1048813961216.0000\n",
            "Epoch 504/1000\n",
            "3/3 [==============================] - 0s 6ms/step - loss: 1048120328192.0000 - mae: 810518.8750 - mse: 1048120328192.0000\n",
            "Epoch 505/1000\n",
            "3/3 [==============================] - 0s 7ms/step - loss: 1047578148864.0000 - mae: 810282.2500 - mse: 1047578148864.0000\n",
            "Epoch 506/1000\n",
            "3/3 [==============================] - 0s 7ms/step - loss: 1046702129152.0000 - mae: 809969.3750 - mse: 1046702129152.0000\n",
            "Epoch 507/1000\n",
            "3/3 [==============================] - 0s 6ms/step - loss: 1046159032320.0000 - mae: 809763.4375 - mse: 1046159097856.0000\n",
            "Epoch 508/1000\n",
            "3/3 [==============================] - 0s 7ms/step - loss: 1045411659776.0000 - mae: 809459.2500 - mse: 1045411659776.0000\n",
            "Epoch 509/1000\n",
            "3/3 [==============================] - 0s 7ms/step - loss: 1044665335808.0000 - mae: 809121.8750 - mse: 1044665335808.0000\n",
            "Epoch 510/1000\n",
            "3/3 [==============================] - 0s 8ms/step - loss: 1044118634496.0000 - mae: 808970.7500 - mse: 1044118634496.0000\n",
            "Epoch 511/1000\n",
            "3/3 [==============================] - 0s 9ms/step - loss: 1043416350720.0000 - mae: 808645.5625 - mse: 1043416350720.0000\n",
            "Epoch 512/1000\n",
            "3/3 [==============================] - 0s 7ms/step - loss: 1042654232576.0000 - mae: 808370.0000 - mse: 1042654232576.0000\n",
            "Epoch 513/1000\n",
            "3/3 [==============================] - 0s 7ms/step - loss: 1041925734400.0000 - mae: 808094.1250 - mse: 1041925734400.0000\n",
            "Epoch 514/1000\n",
            "3/3 [==============================] - 0s 7ms/step - loss: 1041260281856.0000 - mae: 807817.3125 - mse: 1041260281856.0000\n",
            "Epoch 515/1000\n",
            "3/3 [==============================] - 0s 7ms/step - loss: 1040618487808.0000 - mae: 807563.7500 - mse: 1040618487808.0000\n",
            "Epoch 516/1000\n",
            "3/3 [==============================] - 0s 7ms/step - loss: 1039968829440.0000 - mae: 807310.1875 - mse: 1039968829440.0000\n",
            "Epoch 517/1000\n",
            "3/3 [==============================] - 0s 7ms/step - loss: 1039283257344.0000 - mae: 807023.1250 - mse: 1039283257344.0000\n",
            "Epoch 518/1000\n",
            "3/3 [==============================] - 0s 7ms/step - loss: 1038708899840.0000 - mae: 806805.5625 - mse: 1038708899840.0000\n",
            "Epoch 519/1000\n",
            "3/3 [==============================] - 0s 7ms/step - loss: 1037937147904.0000 - mae: 806476.1250 - mse: 1037937147904.0000\n",
            "Epoch 520/1000\n",
            "3/3 [==============================] - 0s 6ms/step - loss: 1037239910400.0000 - mae: 806217.5625 - mse: 1037239910400.0000\n",
            "Epoch 521/1000\n",
            "3/3 [==============================] - 0s 9ms/step - loss: 1036636192768.0000 - mae: 805962.2500 - mse: 1036636192768.0000\n",
            "Epoch 522/1000\n",
            "3/3 [==============================] - 0s 8ms/step - loss: 1036049973248.0000 - mae: 805730.1250 - mse: 1036049973248.0000\n",
            "Epoch 523/1000\n",
            "3/3 [==============================] - 0s 7ms/step - loss: 1035357323264.0000 - mae: 805442.8750 - mse: 1035357323264.0000\n",
            "Epoch 524/1000\n",
            "3/3 [==============================] - 0s 7ms/step - loss: 1034871373824.0000 - mae: 805245.6250 - mse: 1034871373824.0000\n",
            "Epoch 525/1000\n",
            "3/3 [==============================] - 0s 7ms/step - loss: 1034040508416.0000 - mae: 804870.8750 - mse: 1034040508416.0000\n",
            "Epoch 526/1000\n",
            "3/3 [==============================] - 0s 7ms/step - loss: 1033418375168.0000 - mae: 804677.9375 - mse: 1033418375168.0000\n",
            "Epoch 527/1000\n",
            "3/3 [==============================] - 0s 7ms/step - loss: 1032751087616.0000 - mae: 804406.0000 - mse: 1032751087616.0000\n",
            "Epoch 528/1000\n",
            "3/3 [==============================] - 0s 7ms/step - loss: 1032110080000.0000 - mae: 804160.9375 - mse: 1032110080000.0000\n",
            "Epoch 529/1000\n",
            "3/3 [==============================] - 0s 6ms/step - loss: 1031459569664.0000 - mae: 803925.8125 - mse: 1031459569664.0000\n",
            "Epoch 530/1000\n",
            "3/3 [==============================] - 0s 6ms/step - loss: 1030852050944.0000 - mae: 803668.8125 - mse: 1030852050944.0000\n",
            "Epoch 531/1000\n",
            "3/3 [==============================] - 0s 6ms/step - loss: 1030277496832.0000 - mae: 803457.0000 - mse: 1030277496832.0000\n",
            "Epoch 532/1000\n",
            "3/3 [==============================] - 0s 6ms/step - loss: 1029630853120.0000 - mae: 803154.8125 - mse: 1029630853120.0000\n",
            "Epoch 533/1000\n",
            "3/3 [==============================] - 0s 8ms/step - loss: 1028997382144.0000 - mae: 802879.5625 - mse: 1028997382144.0000\n",
            "Epoch 534/1000\n",
            "3/3 [==============================] - 0s 10ms/step - loss: 1028317577216.0000 - mae: 802625.7500 - mse: 1028317577216.0000\n",
            "Epoch 535/1000\n",
            "3/3 [==============================] - 0s 10ms/step - loss: 1027682402304.0000 - mae: 802353.0625 - mse: 1027682402304.0000\n",
            "Epoch 536/1000\n",
            "3/3 [==============================] - 0s 8ms/step - loss: 1027106471936.0000 - mae: 802084.9375 - mse: 1027106471936.0000\n",
            "Epoch 537/1000\n",
            "3/3 [==============================] - 0s 6ms/step - loss: 1026448424960.0000 - mae: 801835.0625 - mse: 1026448424960.0000\n",
            "Epoch 538/1000\n",
            "3/3 [==============================] - 0s 6ms/step - loss: 1025948975104.0000 - mae: 801602.5000 - mse: 1025948975104.0000\n",
            "Epoch 539/1000\n",
            "3/3 [==============================] - 0s 8ms/step - loss: 1025389297664.0000 - mae: 801392.6250 - mse: 1025389297664.0000\n",
            "Epoch 540/1000\n",
            "3/3 [==============================] - 0s 7ms/step - loss: 1024626786304.0000 - mae: 801061.5625 - mse: 1024626786304.0000\n",
            "Epoch 541/1000\n",
            "3/3 [==============================] - 0s 8ms/step - loss: 1023979814912.0000 - mae: 800796.1250 - mse: 1023979814912.0000\n",
            "Epoch 542/1000\n",
            "3/3 [==============================] - 0s 7ms/step - loss: 1023403032576.0000 - mae: 800543.0625 - mse: 1023403032576.0000\n",
            "Epoch 543/1000\n",
            "3/3 [==============================] - 0s 7ms/step - loss: 1022785159168.0000 - mae: 800267.5625 - mse: 1022785159168.0000\n",
            "Epoch 544/1000\n",
            "3/3 [==============================] - 0s 8ms/step - loss: 1022197891072.0000 - mae: 800002.5000 - mse: 1022197891072.0000\n",
            "Epoch 545/1000\n",
            "3/3 [==============================] - 0s 11ms/step - loss: 1021518544896.0000 - mae: 799679.1875 - mse: 1021518544896.0000\n",
            "Epoch 546/1000\n",
            "3/3 [==============================] - 0s 10ms/step - loss: 1021107306496.0000 - mae: 799503.8125 - mse: 1021107306496.0000\n",
            "Epoch 547/1000\n",
            "3/3 [==============================] - 0s 12ms/step - loss: 1020426584064.0000 - mae: 799236.1875 - mse: 1020426584064.0000\n",
            "Epoch 548/1000\n",
            "3/3 [==============================] - 0s 12ms/step - loss: 1019825160192.0000 - mae: 798937.2500 - mse: 1019825160192.0000\n",
            "Epoch 549/1000\n",
            "3/3 [==============================] - 0s 13ms/step - loss: 1019130019840.0000 - mae: 798660.0625 - mse: 1019130019840.0000\n",
            "Epoch 550/1000\n",
            "3/3 [==============================] - 0s 10ms/step - loss: 1018777042944.0000 - mae: 798537.7500 - mse: 1018777042944.0000\n",
            "Epoch 551/1000\n",
            "3/3 [==============================] - 0s 11ms/step - loss: 1018016956416.0000 - mae: 798208.0000 - mse: 1018016956416.0000\n",
            "Epoch 552/1000\n",
            "3/3 [==============================] - 0s 7ms/step - loss: 1017369264128.0000 - mae: 797972.0000 - mse: 1017369264128.0000\n",
            "Epoch 553/1000\n",
            "3/3 [==============================] - 0s 7ms/step - loss: 1016807948288.0000 - mae: 797713.6250 - mse: 1016807948288.0000\n",
            "Epoch 554/1000\n",
            "3/3 [==============================] - 0s 6ms/step - loss: 1016157896704.0000 - mae: 797425.7500 - mse: 1016157896704.0000\n",
            "Epoch 555/1000\n",
            "3/3 [==============================] - 0s 7ms/step - loss: 1015608377344.0000 - mae: 797147.0625 - mse: 1015608377344.0000\n",
            "Epoch 556/1000\n",
            "3/3 [==============================] - 0s 6ms/step - loss: 1015131406336.0000 - mae: 796868.5625 - mse: 1015131406336.0000\n",
            "Epoch 557/1000\n",
            "3/3 [==============================] - 0s 7ms/step - loss: 1014470541312.0000 - mae: 796615.3125 - mse: 1014470541312.0000\n",
            "Epoch 558/1000\n",
            "3/3 [==============================] - 0s 6ms/step - loss: 1013942124544.0000 - mae: 796362.0000 - mse: 1013942124544.0000\n",
            "Epoch 559/1000\n",
            "3/3 [==============================] - 0s 6ms/step - loss: 1013258059776.0000 - mae: 796107.8125 - mse: 1013258059776.0000\n",
            "Epoch 560/1000\n",
            "3/3 [==============================] - 0s 6ms/step - loss: 1012937654272.0000 - mae: 795923.2500 - mse: 1012937654272.0000\n",
            "Epoch 561/1000\n",
            "3/3 [==============================] - 0s 6ms/step - loss: 1012164591616.0000 - mae: 795607.3750 - mse: 1012164591616.0000\n",
            "Epoch 562/1000\n",
            "3/3 [==============================] - 0s 6ms/step - loss: 1011527057408.0000 - mae: 795352.8750 - mse: 1011527057408.0000\n",
            "Epoch 563/1000\n",
            "3/3 [==============================] - 0s 6ms/step - loss: 1011018891264.0000 - mae: 795143.0000 - mse: 1011018891264.0000\n",
            "Epoch 564/1000\n",
            "3/3 [==============================] - 0s 7ms/step - loss: 1010601820160.0000 - mae: 794943.8125 - mse: 1010601820160.0000\n",
            "Epoch 565/1000\n",
            "3/3 [==============================] - 0s 6ms/step - loss: 1009910743040.0000 - mae: 794669.3750 - mse: 1009910743040.0000\n",
            "Epoch 566/1000\n",
            "3/3 [==============================] - 0s 6ms/step - loss: 1009330880512.0000 - mae: 794441.8125 - mse: 1009330880512.0000\n",
            "Epoch 567/1000\n",
            "3/3 [==============================] - 0s 7ms/step - loss: 1008730570752.0000 - mae: 794177.6250 - mse: 1008730570752.0000\n",
            "Epoch 568/1000\n",
            "3/3 [==============================] - 0s 6ms/step - loss: 1008103718912.0000 - mae: 793914.4375 - mse: 1008103718912.0000\n",
            "Epoch 569/1000\n",
            "3/3 [==============================] - 0s 7ms/step - loss: 1007648309248.0000 - mae: 793698.6250 - mse: 1007648309248.0000\n",
            "Epoch 570/1000\n",
            "3/3 [==============================] - 0s 7ms/step - loss: 1007116025856.0000 - mae: 793474.5000 - mse: 1007116025856.0000\n",
            "Epoch 571/1000\n",
            "3/3 [==============================] - 0s 8ms/step - loss: 1006526857216.0000 - mae: 793180.8750 - mse: 1006526857216.0000\n",
            "Epoch 572/1000\n",
            "3/3 [==============================] - 0s 7ms/step - loss: 1006008008704.0000 - mae: 792976.3125 - mse: 1006008008704.0000\n",
            "Epoch 573/1000\n",
            "3/3 [==============================] - 0s 6ms/step - loss: 1005376634880.0000 - mae: 792696.6250 - mse: 1005376634880.0000\n",
            "Epoch 574/1000\n",
            "3/3 [==============================] - 0s 6ms/step - loss: 1004836159488.0000 - mae: 792457.6875 - mse: 1004836159488.0000\n",
            "Epoch 575/1000\n",
            "3/3 [==============================] - 0s 6ms/step - loss: 1004276416512.0000 - mae: 792227.1250 - mse: 1004276416512.0000\n",
            "Epoch 576/1000\n",
            "3/3 [==============================] - 0s 6ms/step - loss: 1004119457792.0000 - mae: 792080.6875 - mse: 1004119457792.0000\n",
            "Epoch 577/1000\n",
            "3/3 [==============================] - 0s 6ms/step - loss: 1003238785024.0000 - mae: 791726.8750 - mse: 1003238785024.0000\n",
            "Epoch 578/1000\n",
            "3/3 [==============================] - 0s 7ms/step - loss: 1002715480064.0000 - mae: 791532.2500 - mse: 1002715480064.0000\n",
            "Epoch 579/1000\n",
            "3/3 [==============================] - 0s 6ms/step - loss: 1002132799488.0000 - mae: 791274.8125 - mse: 1002132799488.0000\n",
            "Epoch 580/1000\n",
            "3/3 [==============================] - 0s 6ms/step - loss: 1001682239488.0000 - mae: 791079.0000 - mse: 1001682239488.0000\n",
            "Epoch 581/1000\n",
            "3/3 [==============================] - 0s 6ms/step - loss: 1001073410048.0000 - mae: 790815.8125 - mse: 1001073410048.0000\n",
            "Epoch 582/1000\n",
            "3/3 [==============================] - 0s 6ms/step - loss: 1000554168320.0000 - mae: 790606.9375 - mse: 1000554168320.0000\n",
            "Epoch 583/1000\n",
            "3/3 [==============================] - 0s 7ms/step - loss: 1000035450880.0000 - mae: 790370.2500 - mse: 1000035450880.0000\n",
            "Epoch 584/1000\n",
            "3/3 [==============================] - 0s 6ms/step - loss: 999545765888.0000 - mae: 790167.1250 - mse: 999545765888.0000\n",
            "Epoch 585/1000\n",
            "3/3 [==============================] - 0s 6ms/step - loss: 998917734400.0000 - mae: 789874.0625 - mse: 998917734400.0000\n",
            "Epoch 586/1000\n",
            "3/3 [==============================] - 0s 8ms/step - loss: 998394101760.0000 - mae: 789642.4375 - mse: 998394101760.0000\n",
            "Epoch 587/1000\n",
            "3/3 [==============================] - 0s 7ms/step - loss: 998089293824.0000 - mae: 789452.2500 - mse: 998089293824.0000\n",
            "Epoch 588/1000\n",
            "3/3 [==============================] - 0s 7ms/step - loss: 997650857984.0000 - mae: 789265.3125 - mse: 997650857984.0000\n",
            "Epoch 589/1000\n",
            "3/3 [==============================] - 0s 8ms/step - loss: 996889460736.0000 - mae: 788915.1250 - mse: 996889460736.0000\n",
            "Epoch 590/1000\n",
            "3/3 [==============================] - 0s 6ms/step - loss: 996314578944.0000 - mae: 788625.8750 - mse: 996314578944.0000\n",
            "Epoch 591/1000\n",
            "3/3 [==============================] - 0s 7ms/step - loss: 995962650624.0000 - mae: 788386.2500 - mse: 995962650624.0000\n",
            "Epoch 592/1000\n",
            "3/3 [==============================] - 0s 7ms/step - loss: 995878174720.0000 - mae: 788396.6875 - mse: 995878174720.0000\n",
            "Epoch 593/1000\n",
            "3/3 [==============================] - 0s 7ms/step - loss: 994796634112.0000 - mae: 787991.4375 - mse: 994796634112.0000\n",
            "Epoch 594/1000\n",
            "3/3 [==============================] - 0s 7ms/step - loss: 994304131072.0000 - mae: 787774.8125 - mse: 994304131072.0000\n",
            "Epoch 595/1000\n",
            "3/3 [==============================] - 0s 6ms/step - loss: 993741897728.0000 - mae: 787539.3750 - mse: 993741897728.0000\n",
            "Epoch 596/1000\n",
            "3/3 [==============================] - 0s 7ms/step - loss: 993221148672.0000 - mae: 787273.0000 - mse: 993221148672.0000\n",
            "Epoch 597/1000\n",
            "3/3 [==============================] - 0s 7ms/step - loss: 992768557056.0000 - mae: 787020.7500 - mse: 992768557056.0000\n",
            "Epoch 598/1000\n",
            "3/3 [==============================] - 0s 6ms/step - loss: 992228802560.0000 - mae: 786807.1250 - mse: 992228802560.0000\n",
            "Epoch 599/1000\n",
            "3/3 [==============================] - 0s 6ms/step - loss: 991822217216.0000 - mae: 786606.5000 - mse: 991822217216.0000\n",
            "Epoch 600/1000\n",
            "3/3 [==============================] - 0s 8ms/step - loss: 991317327872.0000 - mae: 786434.1250 - mse: 991317327872.0000\n",
            "Epoch 601/1000\n",
            "3/3 [==============================] - 0s 7ms/step - loss: 990788845568.0000 - mae: 786167.9375 - mse: 990788845568.0000\n",
            "Epoch 602/1000\n",
            "3/3 [==============================] - 0s 7ms/step - loss: 990238146560.0000 - mae: 785858.3750 - mse: 990238146560.0000\n",
            "Epoch 603/1000\n",
            "3/3 [==============================] - 0s 6ms/step - loss: 989719166976.0000 - mae: 785639.0000 - mse: 989719166976.0000\n",
            "Epoch 604/1000\n",
            "3/3 [==============================] - 0s 7ms/step - loss: 989165977600.0000 - mae: 785428.5000 - mse: 989165977600.0000\n",
            "Epoch 605/1000\n",
            "3/3 [==============================] - 0s 7ms/step - loss: 988751200256.0000 - mae: 785274.3125 - mse: 988751200256.0000\n",
            "Epoch 606/1000\n",
            "3/3 [==============================] - 0s 6ms/step - loss: 988212690944.0000 - mae: 785086.6250 - mse: 988212690944.0000\n",
            "Epoch 607/1000\n",
            "3/3 [==============================] - 0s 6ms/step - loss: 987689058304.0000 - mae: 784870.1250 - mse: 987689058304.0000\n",
            "Epoch 608/1000\n",
            "3/3 [==============================] - 0s 6ms/step - loss: 987192950784.0000 - mae: 784652.6875 - mse: 987192950784.0000\n",
            "Epoch 609/1000\n",
            "3/3 [==============================] - 0s 7ms/step - loss: 986801176576.0000 - mae: 784452.5625 - mse: 986801176576.0000\n",
            "Epoch 610/1000\n",
            "3/3 [==============================] - 0s 7ms/step - loss: 986220593152.0000 - mae: 784220.3750 - mse: 986220593152.0000\n",
            "Epoch 611/1000\n",
            "3/3 [==============================] - 0s 6ms/step - loss: 985749782528.0000 - mae: 784001.5000 - mse: 985749782528.0000\n",
            "Epoch 612/1000\n",
            "3/3 [==============================] - 0s 6ms/step - loss: 985265405952.0000 - mae: 783784.0625 - mse: 985265405952.0000\n",
            "Epoch 613/1000\n",
            "3/3 [==============================] - 0s 6ms/step - loss: 984862556160.0000 - mae: 783639.3750 - mse: 984862556160.0000\n",
            "Epoch 614/1000\n",
            "3/3 [==============================] - 0s 7ms/step - loss: 984521572352.0000 - mae: 783461.8125 - mse: 984521572352.0000\n",
            "Epoch 615/1000\n",
            "3/3 [==============================] - 0s 7ms/step - loss: 983825448960.0000 - mae: 783107.6250 - mse: 983825448960.0000\n",
            "Epoch 616/1000\n",
            "3/3 [==============================] - 0s 6ms/step - loss: 983405953024.0000 - mae: 782976.5000 - mse: 983405953024.0000\n",
            "Epoch 617/1000\n",
            "3/3 [==============================] - 0s 6ms/step - loss: 982909517824.0000 - mae: 782774.0000 - mse: 982909517824.0000\n",
            "Epoch 618/1000\n",
            "3/3 [==============================] - 0s 6ms/step - loss: 982387458048.0000 - mae: 782561.2500 - mse: 982387458048.0000\n",
            "Epoch 619/1000\n",
            "3/3 [==============================] - 0s 6ms/step - loss: 981896593408.0000 - mae: 782373.6250 - mse: 981896593408.0000\n",
            "Epoch 620/1000\n",
            "3/3 [==============================] - 0s 7ms/step - loss: 981443346432.0000 - mae: 782188.2500 - mse: 981443346432.0000\n",
            "Epoch 621/1000\n",
            "3/3 [==============================] - 0s 7ms/step - loss: 980944683008.0000 - mae: 781931.8125 - mse: 980944683008.0000\n",
            "Epoch 622/1000\n",
            "3/3 [==============================] - 0s 7ms/step - loss: 980473872384.0000 - mae: 781710.6250 - mse: 980473872384.0000\n",
            "Epoch 623/1000\n",
            "3/3 [==============================] - 0s 7ms/step - loss: 980029210624.0000 - mae: 781509.1250 - mse: 980029210624.0000\n",
            "Epoch 624/1000\n",
            "3/3 [==============================] - 0s 7ms/step - loss: 979611877376.0000 - mae: 781329.8125 - mse: 979611877376.0000\n",
            "Epoch 625/1000\n",
            "3/3 [==============================] - 0s 6ms/step - loss: 979304775680.0000 - mae: 781179.6250 - mse: 979304775680.0000\n",
            "Epoch 626/1000\n",
            "3/3 [==============================] - 0s 8ms/step - loss: 978702630912.0000 - mae: 780865.8750 - mse: 978702630912.0000\n",
            "Epoch 627/1000\n",
            "3/3 [==============================] - 0s 7ms/step - loss: 978160451584.0000 - mae: 780627.5000 - mse: 978160451584.0000\n",
            "Epoch 628/1000\n",
            "3/3 [==============================] - 0s 7ms/step - loss: 977698553856.0000 - mae: 780429.7500 - mse: 977698553856.0000\n",
            "Epoch 629/1000\n",
            "3/3 [==============================] - 0s 6ms/step - loss: 977218961408.0000 - mae: 780243.5625 - mse: 977218961408.0000\n",
            "Epoch 630/1000\n",
            "3/3 [==============================] - 0s 7ms/step - loss: 976729604096.0000 - mae: 780086.4375 - mse: 976729604096.0000\n",
            "Epoch 631/1000\n",
            "3/3 [==============================] - 0s 6ms/step - loss: 976289726464.0000 - mae: 779908.6250 - mse: 976289792000.0000\n",
            "Epoch 632/1000\n",
            "3/3 [==============================] - 0s 7ms/step - loss: 975932096512.0000 - mae: 779723.5625 - mse: 975932096512.0000\n",
            "Epoch 633/1000\n",
            "3/3 [==============================] - 0s 6ms/step - loss: 975381528576.0000 - mae: 779509.2500 - mse: 975381528576.0000\n",
            "Epoch 634/1000\n",
            "3/3 [==============================] - 0s 6ms/step - loss: 975072854016.0000 - mae: 779401.9375 - mse: 975072854016.0000\n",
            "Epoch 635/1000\n",
            "3/3 [==============================] - 0s 7ms/step - loss: 974564950016.0000 - mae: 779188.4375 - mse: 974564950016.0000\n",
            "Epoch 636/1000\n",
            "3/3 [==============================] - 0s 6ms/step - loss: 974058029056.0000 - mae: 779038.5000 - mse: 974058029056.0000\n",
            "Epoch 637/1000\n",
            "3/3 [==============================] - 0s 9ms/step - loss: 973797195776.0000 - mae: 778902.7500 - mse: 973797195776.0000\n",
            "Epoch 638/1000\n",
            "3/3 [==============================] - 0s 6ms/step - loss: 973242171392.0000 - mae: 778676.0000 - mse: 973242171392.0000\n",
            "Epoch 639/1000\n",
            "3/3 [==============================] - 0s 6ms/step - loss: 972697632768.0000 - mae: 778367.3125 - mse: 972697632768.0000\n",
            "Epoch 640/1000\n",
            "3/3 [==============================] - 0s 6ms/step - loss: 972208668672.0000 - mae: 778146.3750 - mse: 972208668672.0000\n",
            "Epoch 641/1000\n",
            "3/3 [==============================] - 0s 6ms/step - loss: 971920834560.0000 - mae: 777998.3750 - mse: 971920834560.0000\n",
            "Epoch 642/1000\n",
            "3/3 [==============================] - 0s 6ms/step - loss: 971459788800.0000 - mae: 777748.9375 - mse: 971459788800.0000\n",
            "Epoch 643/1000\n",
            "3/3 [==============================] - 0s 7ms/step - loss: 971008638976.0000 - mae: 777547.0000 - mse: 971008638976.0000\n",
            "Epoch 644/1000\n",
            "3/3 [==============================] - 0s 6ms/step - loss: 970501914624.0000 - mae: 777300.8125 - mse: 970501914624.0000\n",
            "Epoch 645/1000\n",
            "3/3 [==============================] - 0s 6ms/step - loss: 970109026304.0000 - mae: 777127.0625 - mse: 970109026304.0000\n",
            "Epoch 646/1000\n",
            "3/3 [==============================] - 0s 6ms/step - loss: 969601384448.0000 - mae: 776864.4375 - mse: 969601384448.0000\n",
            "Epoch 647/1000\n",
            "3/3 [==============================] - 0s 6ms/step - loss: 969155739648.0000 - mae: 776648.1250 - mse: 969155739648.0000\n",
            "Epoch 648/1000\n",
            "3/3 [==============================] - 0s 8ms/step - loss: 968726347776.0000 - mae: 776437.7500 - mse: 968726347776.0000\n",
            "Epoch 649/1000\n",
            "3/3 [==============================] - 0s 8ms/step - loss: 968307834880.0000 - mae: 776258.3750 - mse: 968307834880.0000\n",
            "Epoch 650/1000\n",
            "3/3 [==============================] - 0s 6ms/step - loss: 967885455360.0000 - mae: 776081.5625 - mse: 967885455360.0000\n",
            "Epoch 651/1000\n",
            "3/3 [==============================] - 0s 12ms/step - loss: 967603453952.0000 - mae: 776063.8125 - mse: 967603453952.0000\n",
            "Epoch 652/1000\n",
            "3/3 [==============================] - 0s 6ms/step - loss: 967240646656.0000 - mae: 775859.6250 - mse: 967240646656.0000\n",
            "Epoch 653/1000\n",
            "3/3 [==============================] - 0s 6ms/step - loss: 966810992640.0000 - mae: 775625.7500 - mse: 966810992640.0000\n",
            "Epoch 654/1000\n",
            "3/3 [==============================] - 0s 7ms/step - loss: 966501269504.0000 - mae: 775545.4375 - mse: 966501269504.0000\n",
            "Epoch 655/1000\n",
            "3/3 [==============================] - 0s 6ms/step - loss: 965779324928.0000 - mae: 775254.1875 - mse: 965779324928.0000\n",
            "Epoch 656/1000\n",
            "3/3 [==============================] - 0s 6ms/step - loss: 965327126528.0000 - mae: 775035.3125 - mse: 965327126528.0000\n",
            "Epoch 657/1000\n",
            "3/3 [==============================] - 0s 10ms/step - loss: 965050630144.0000 - mae: 774843.1250 - mse: 965050630144.0000\n",
            "Epoch 658/1000\n",
            "3/3 [==============================] - 0s 8ms/step - loss: 964446126080.0000 - mae: 774584.1875 - mse: 964446126080.0000\n",
            "Epoch 659/1000\n",
            "3/3 [==============================] - 0s 9ms/step - loss: 964123099136.0000 - mae: 774536.7500 - mse: 964123099136.0000\n",
            "Epoch 660/1000\n",
            "3/3 [==============================] - 0s 7ms/step - loss: 963741155328.0000 - mae: 774368.5000 - mse: 963741155328.0000\n",
            "Epoch 661/1000\n",
            "3/3 [==============================] - 0s 7ms/step - loss: 963220275200.0000 - mae: 774143.7500 - mse: 963220275200.0000\n",
            "Epoch 662/1000\n",
            "3/3 [==============================] - 0s 6ms/step - loss: 962779283456.0000 - mae: 773956.3750 - mse: 962779283456.0000\n",
            "Epoch 663/1000\n",
            "3/3 [==============================] - 0s 7ms/step - loss: 962371780608.0000 - mae: 773766.8750 - mse: 962371780608.0000\n",
            "Epoch 664/1000\n",
            "3/3 [==============================] - 0s 6ms/step - loss: 962139324416.0000 - mae: 773615.3125 - mse: 962139324416.0000\n",
            "Epoch 665/1000\n",
            "3/3 [==============================] - 0s 7ms/step - loss: 961622835200.0000 - mae: 773302.5625 - mse: 961622835200.0000\n",
            "Epoch 666/1000\n",
            "3/3 [==============================] - 0s 7ms/step - loss: 961190232064.0000 - mae: 773149.8125 - mse: 961190232064.0000\n",
            "Epoch 667/1000\n",
            "3/3 [==============================] - 0s 7ms/step - loss: 960700022784.0000 - mae: 772940.2500 - mse: 960700022784.0000\n",
            "Epoch 668/1000\n",
            "3/3 [==============================] - 0s 7ms/step - loss: 960481722368.0000 - mae: 772813.6250 - mse: 960481722368.0000\n",
            "Epoch 669/1000\n",
            "3/3 [==============================] - 0s 6ms/step - loss: 959998787584.0000 - mae: 772648.8750 - mse: 959998787584.0000\n",
            "Epoch 670/1000\n",
            "3/3 [==============================] - 0s 7ms/step - loss: 959535316992.0000 - mae: 772385.2500 - mse: 959535316992.0000\n",
            "Epoch 671/1000\n",
            "3/3 [==============================] - 0s 8ms/step - loss: 959131418624.0000 - mae: 772143.9375 - mse: 959131418624.0000\n",
            "Epoch 672/1000\n",
            "3/3 [==============================] - 0s 10ms/step - loss: 958793121792.0000 - mae: 771950.0000 - mse: 958793121792.0000\n",
            "Epoch 673/1000\n",
            "3/3 [==============================] - 0s 7ms/step - loss: 958458691584.0000 - mae: 771850.0625 - mse: 958458691584.0000\n",
            "Epoch 674/1000\n",
            "3/3 [==============================] - 0s 9ms/step - loss: 958037229568.0000 - mae: 771718.0625 - mse: 958037229568.0000\n",
            "Epoch 675/1000\n",
            "3/3 [==============================] - 0s 6ms/step - loss: 957616422912.0000 - mae: 771469.2500 - mse: 957616422912.0000\n",
            "Epoch 676/1000\n",
            "3/3 [==============================] - 0s 6ms/step - loss: 957239525376.0000 - mae: 771302.8125 - mse: 957239525376.0000\n",
            "Epoch 677/1000\n",
            "3/3 [==============================] - 0s 6ms/step - loss: 956696559616.0000 - mae: 771117.1875 - mse: 956696559616.0000\n",
            "Epoch 678/1000\n",
            "3/3 [==============================] - 0s 6ms/step - loss: 956515680256.0000 - mae: 771005.8125 - mse: 956515680256.0000\n",
            "Epoch 679/1000\n",
            "3/3 [==============================] - 0s 6ms/step - loss: 955896299520.0000 - mae: 770666.9375 - mse: 955896299520.0000\n",
            "Epoch 680/1000\n",
            "3/3 [==============================] - 0s 6ms/step - loss: 955592409088.0000 - mae: 770522.0625 - mse: 955592409088.0000\n",
            "Epoch 681/1000\n",
            "3/3 [==============================] - 0s 7ms/step - loss: 955196899328.0000 - mae: 770332.8125 - mse: 955196899328.0000\n",
            "Epoch 682/1000\n",
            "3/3 [==============================] - 0s 7ms/step - loss: 954735001600.0000 - mae: 770157.3750 - mse: 954735001600.0000\n",
            "Epoch 683/1000\n",
            "3/3 [==============================] - 0s 7ms/step - loss: 954450116608.0000 - mae: 770031.8750 - mse: 954450116608.0000\n",
            "Epoch 684/1000\n",
            "3/3 [==============================] - 0s 7ms/step - loss: 954009190400.0000 - mae: 769833.8125 - mse: 954009190400.0000\n",
            "Epoch 685/1000\n",
            "3/3 [==============================] - 0s 7ms/step - loss: 953579798528.0000 - mae: 769643.2500 - mse: 953579798528.0000\n",
            "Epoch 686/1000\n",
            "3/3 [==============================] - 0s 6ms/step - loss: 953186910208.0000 - mae: 769483.2500 - mse: 953186910208.0000\n",
            "Epoch 687/1000\n",
            "3/3 [==============================] - 0s 6ms/step - loss: 952766365696.0000 - mae: 769298.5625 - mse: 952766365696.0000\n",
            "Epoch 688/1000\n",
            "3/3 [==============================] - 0s 6ms/step - loss: 952476696576.0000 - mae: 769128.3125 - mse: 952476696576.0000\n",
            "Epoch 689/1000\n",
            "3/3 [==============================] - 0s 7ms/step - loss: 952161730560.0000 - mae: 768958.0000 - mse: 952161730560.0000\n",
            "Epoch 690/1000\n",
            "3/3 [==============================] - 0s 7ms/step - loss: 951718379520.0000 - mae: 768722.8125 - mse: 951718379520.0000\n",
            "Epoch 691/1000\n",
            "3/3 [==============================] - 0s 7ms/step - loss: 951282040832.0000 - mae: 768604.5625 - mse: 951282040832.0000\n",
            "Epoch 692/1000\n",
            "3/3 [==============================] - 0s 7ms/step - loss: 950943154176.0000 - mae: 768408.0000 - mse: 950943154176.0000\n",
            "Epoch 693/1000\n",
            "3/3 [==============================] - 0s 6ms/step - loss: 950552690688.0000 - mae: 768223.3125 - mse: 950552690688.0000\n",
            "Epoch 694/1000\n",
            "3/3 [==============================] - 0s 6ms/step - loss: 950152986624.0000 - mae: 768006.0625 - mse: 950152986624.0000\n",
            "Epoch 695/1000\n",
            "3/3 [==============================] - 0s 7ms/step - loss: 949916008448.0000 - mae: 768021.0625 - mse: 949916008448.0000\n",
            "Epoch 696/1000\n",
            "3/3 [==============================] - 0s 6ms/step - loss: 949406728192.0000 - mae: 767761.1875 - mse: 949406728192.0000\n",
            "Epoch 697/1000\n",
            "3/3 [==============================] - 0s 6ms/step - loss: 949013512192.0000 - mae: 767499.5625 - mse: 949013512192.0000\n",
            "Epoch 698/1000\n",
            "3/3 [==============================] - 0s 7ms/step - loss: 948641923072.0000 - mae: 767305.2500 - mse: 948641923072.0000\n",
            "Epoch 699/1000\n",
            "3/3 [==============================] - 0s 6ms/step - loss: 948235010048.0000 - mae: 767072.1875 - mse: 948235010048.0000\n",
            "Epoch 700/1000\n",
            "3/3 [==============================] - 0s 9ms/step - loss: 947954974720.0000 - mae: 766970.1250 - mse: 947954974720.0000\n",
            "Epoch 701/1000\n",
            "3/3 [==============================] - 0s 11ms/step - loss: 947506380800.0000 - mae: 766808.5000 - mse: 947506380800.0000\n",
            "Epoch 702/1000\n",
            "3/3 [==============================] - 0s 7ms/step - loss: 947259113472.0000 - mae: 766659.0000 - mse: 947259113472.0000\n",
            "Epoch 703/1000\n",
            "3/3 [==============================] - 0s 8ms/step - loss: 946793676800.0000 - mae: 766491.1875 - mse: 946793676800.0000\n",
            "Epoch 704/1000\n",
            "3/3 [==============================] - 0s 7ms/step - loss: 946413043712.0000 - mae: 766283.3125 - mse: 946413043712.0000\n",
            "Epoch 705/1000\n",
            "3/3 [==============================] - 0s 6ms/step - loss: 946045976576.0000 - mae: 766110.7500 - mse: 946045976576.0000\n",
            "Epoch 706/1000\n",
            "3/3 [==============================] - 0s 7ms/step - loss: 945729896448.0000 - mae: 765911.6250 - mse: 945729896448.0000\n",
            "Epoch 707/1000\n",
            "3/3 [==============================] - 0s 6ms/step - loss: 945495080960.0000 - mae: 765788.3750 - mse: 945495080960.0000\n",
            "Epoch 708/1000\n",
            "3/3 [==============================] - 0s 7ms/step - loss: 944948051968.0000 - mae: 765436.8125 - mse: 944948051968.0000\n",
            "Epoch 709/1000\n",
            "3/3 [==============================] - 0s 6ms/step - loss: 944600842240.0000 - mae: 765256.8750 - mse: 944600842240.0000\n",
            "Epoch 710/1000\n",
            "3/3 [==============================] - 0s 6ms/step - loss: 944312811520.0000 - mae: 765142.5625 - mse: 944312811520.0000\n",
            "Epoch 711/1000\n",
            "3/3 [==============================] - 0s 8ms/step - loss: 943943516160.0000 - mae: 765004.3750 - mse: 943943516160.0000\n",
            "Epoch 712/1000\n",
            "3/3 [==============================] - 0s 6ms/step - loss: 943501148160.0000 - mae: 764809.7500 - mse: 943501148160.0000\n",
            "Epoch 713/1000\n",
            "3/3 [==============================] - 0s 6ms/step - loss: 943177007104.0000 - mae: 764682.6875 - mse: 943177007104.0000\n",
            "Epoch 714/1000\n",
            "3/3 [==============================] - 0s 7ms/step - loss: 942732279808.0000 - mae: 764504.1875 - mse: 942732279808.0000\n",
            "Epoch 715/1000\n",
            "3/3 [==============================] - 0s 6ms/step - loss: 942436974592.0000 - mae: 764349.6250 - mse: 942436974592.0000\n",
            "Epoch 716/1000\n",
            "3/3 [==============================] - 0s 6ms/step - loss: 942097039360.0000 - mae: 764108.1250 - mse: 942097039360.0000\n",
            "Epoch 717/1000\n",
            "3/3 [==============================] - 0s 6ms/step - loss: 941793673216.0000 - mae: 764015.6250 - mse: 941793673216.0000\n",
            "Epoch 718/1000\n",
            "3/3 [==============================] - 0s 6ms/step - loss: 941575241728.0000 - mae: 763974.7500 - mse: 941575241728.0000\n",
            "Epoch 719/1000\n",
            "3/3 [==============================] - 0s 6ms/step - loss: 941047349248.0000 - mae: 763696.8750 - mse: 941047349248.0000\n",
            "Epoch 720/1000\n",
            "3/3 [==============================] - 0s 7ms/step - loss: 940677267456.0000 - mae: 763426.9375 - mse: 940677267456.0000\n",
            "Epoch 721/1000\n",
            "3/3 [==============================] - 0s 7ms/step - loss: 940309348352.0000 - mae: 763224.5000 - mse: 940309348352.0000\n",
            "Epoch 722/1000\n",
            "3/3 [==============================] - 0s 6ms/step - loss: 940186533888.0000 - mae: 763115.9375 - mse: 940186533888.0000\n",
            "Epoch 723/1000\n",
            "3/3 [==============================] - 0s 7ms/step - loss: 939586420736.0000 - mae: 762876.2500 - mse: 939586420736.0000\n",
            "Epoch 724/1000\n",
            "3/3 [==============================] - 0s 7ms/step - loss: 939256774656.0000 - mae: 762680.1250 - mse: 939256774656.0000\n",
            "Epoch 725/1000\n",
            "3/3 [==============================] - 0s 6ms/step - loss: 939027726336.0000 - mae: 762515.0625 - mse: 939027726336.0000\n",
            "Epoch 726/1000\n",
            "3/3 [==============================] - 0s 6ms/step - loss: 938762567680.0000 - mae: 762270.2500 - mse: 938762567680.0000\n",
            "Epoch 727/1000\n",
            "3/3 [==============================] - 0s 6ms/step - loss: 938449895424.0000 - mae: 762068.4375 - mse: 938449895424.0000\n",
            "Epoch 728/1000\n",
            "3/3 [==============================] - 0s 7ms/step - loss: 937947824128.0000 - mae: 761837.0000 - mse: 937947824128.0000\n",
            "Epoch 729/1000\n",
            "3/3 [==============================] - 0s 9ms/step - loss: 937513123840.0000 - mae: 761704.3750 - mse: 937513123840.0000\n",
            "Epoch 730/1000\n",
            "3/3 [==============================] - 0s 8ms/step - loss: 937205235712.0000 - mae: 761573.6250 - mse: 937205235712.0000\n",
            "Epoch 731/1000\n",
            "3/3 [==============================] - 0s 8ms/step - loss: 936909733888.0000 - mae: 761488.3125 - mse: 936909733888.0000\n",
            "Epoch 732/1000\n",
            "3/3 [==============================] - 0s 9ms/step - loss: 936854159360.0000 - mae: 761339.3750 - mse: 936854159360.0000\n",
            "Epoch 733/1000\n",
            "3/3 [==============================] - 0s 7ms/step - loss: 936196505600.0000 - mae: 761082.6250 - mse: 936196505600.0000\n",
            "Epoch 734/1000\n",
            "3/3 [==============================] - 0s 7ms/step - loss: 936327184384.0000 - mae: 761227.2500 - mse: 936327184384.0000\n",
            "Epoch 735/1000\n",
            "3/3 [==============================] - 0s 7ms/step - loss: 935544094720.0000 - mae: 760953.6250 - mse: 935544094720.0000\n",
            "Epoch 736/1000\n",
            "3/3 [==============================] - 0s 6ms/step - loss: 935173619712.0000 - mae: 760760.9375 - mse: 935173619712.0000\n",
            "Epoch 737/1000\n",
            "3/3 [==============================] - 0s 10ms/step - loss: 934900006912.0000 - mae: 760612.8125 - mse: 934900006912.0000\n",
            "Epoch 738/1000\n",
            "3/3 [==============================] - 0s 7ms/step - loss: 934501154816.0000 - mae: 760371.6250 - mse: 934501154816.0000\n",
            "Epoch 739/1000\n",
            "3/3 [==============================] - 0s 8ms/step - loss: 934166593536.0000 - mae: 760095.5625 - mse: 934166593536.0000\n",
            "Epoch 740/1000\n",
            "3/3 [==============================] - 0s 9ms/step - loss: 933959368704.0000 - mae: 760002.8750 - mse: 933959368704.0000\n",
            "Epoch 741/1000\n",
            "3/3 [==============================] - 0s 10ms/step - loss: 933528862720.0000 - mae: 759664.9375 - mse: 933528862720.0000\n",
            "Epoch 742/1000\n",
            "3/3 [==============================] - 0s 11ms/step - loss: 933347262464.0000 - mae: 759555.7500 - mse: 933347262464.0000\n",
            "Epoch 743/1000\n",
            "3/3 [==============================] - 0s 10ms/step - loss: 932929798144.0000 - mae: 759242.0000 - mse: 932929798144.0000\n",
            "Epoch 744/1000\n",
            "3/3 [==============================] - 0s 8ms/step - loss: 932542676992.0000 - mae: 759114.2500 - mse: 932542676992.0000\n",
            "Epoch 745/1000\n",
            "3/3 [==============================] - 0s 7ms/step - loss: 932183539712.0000 - mae: 758943.3125 - mse: 932183539712.0000\n",
            "Epoch 746/1000\n",
            "3/3 [==============================] - 0s 6ms/step - loss: 932162174976.0000 - mae: 759080.0000 - mse: 932162174976.0000\n",
            "Epoch 747/1000\n",
            "3/3 [==============================] - 0s 6ms/step - loss: 931639787520.0000 - mae: 758805.8125 - mse: 931639787520.0000\n",
            "Epoch 748/1000\n",
            "3/3 [==============================] - 0s 9ms/step - loss: 931242639360.0000 - mae: 758589.5625 - mse: 931242639360.0000\n",
            "Epoch 749/1000\n",
            "3/3 [==============================] - 0s 7ms/step - loss: 930956640256.0000 - mae: 758461.8125 - mse: 930956640256.0000\n",
            "Epoch 750/1000\n",
            "3/3 [==============================] - 0s 7ms/step - loss: 930637611008.0000 - mae: 758281.5000 - mse: 930637611008.0000\n",
            "Epoch 751/1000\n",
            "3/3 [==============================] - 0s 6ms/step - loss: 930332737536.0000 - mae: 758105.1875 - mse: 930332737536.0000\n",
            "Epoch 752/1000\n",
            "3/3 [==============================] - 0s 7ms/step - loss: 930020524032.0000 - mae: 758005.1875 - mse: 930020524032.0000\n",
            "Epoch 753/1000\n",
            "3/3 [==============================] - 0s 7ms/step - loss: 929723121664.0000 - mae: 757831.8750 - mse: 929723121664.0000\n",
            "Epoch 754/1000\n",
            "3/3 [==============================] - 0s 6ms/step - loss: 929462943744.0000 - mae: 757620.3125 - mse: 929462943744.0000\n",
            "Epoch 755/1000\n",
            "3/3 [==============================] - 0s 7ms/step - loss: 928959823872.0000 - mae: 757390.1250 - mse: 928959823872.0000\n",
            "Epoch 756/1000\n",
            "3/3 [==============================] - 0s 7ms/step - loss: 928640466944.0000 - mae: 757209.3750 - mse: 928640466944.0000\n",
            "Epoch 757/1000\n",
            "3/3 [==============================] - 0s 8ms/step - loss: 928491110400.0000 - mae: 757090.7500 - mse: 928491110400.0000\n",
            "Epoch 758/1000\n",
            "3/3 [==============================] - 0s 8ms/step - loss: 928157007872.0000 - mae: 756878.4375 - mse: 928157007872.0000\n",
            "Epoch 759/1000\n",
            "3/3 [==============================] - 0s 6ms/step - loss: 927829917696.0000 - mae: 756751.3125 - mse: 927829917696.0000\n",
            "Epoch 760/1000\n",
            "3/3 [==============================] - 0s 7ms/step - loss: 927475236864.0000 - mae: 756499.3750 - mse: 927475236864.0000\n",
            "Epoch 761/1000\n",
            "3/3 [==============================] - 0s 8ms/step - loss: 927202476032.0000 - mae: 756363.0625 - mse: 927202476032.0000\n",
            "Epoch 762/1000\n",
            "3/3 [==============================] - 0s 6ms/step - loss: 926829314048.0000 - mae: 756161.6250 - mse: 926829314048.0000\n",
            "Epoch 763/1000\n",
            "3/3 [==============================] - 0s 8ms/step - loss: 926605705216.0000 - mae: 756087.2500 - mse: 926605705216.0000\n",
            "Epoch 764/1000\n",
            "3/3 [==============================] - 0s 8ms/step - loss: 926196563968.0000 - mae: 755857.8125 - mse: 926196563968.0000\n",
            "Epoch 765/1000\n",
            "3/3 [==============================] - 0s 8ms/step - loss: 926140727296.0000 - mae: 755886.3750 - mse: 926140727296.0000\n",
            "Epoch 766/1000\n",
            "3/3 [==============================] - 0s 7ms/step - loss: 925623058432.0000 - mae: 755659.4375 - mse: 925623058432.0000\n",
            "Epoch 767/1000\n",
            "3/3 [==============================] - 0s 6ms/step - loss: 925268312064.0000 - mae: 755510.9375 - mse: 925268312064.0000\n",
            "Epoch 768/1000\n",
            "3/3 [==============================] - 0s 8ms/step - loss: 924974186496.0000 - mae: 755308.0000 - mse: 924974186496.0000\n",
            "Epoch 769/1000\n",
            "3/3 [==============================] - 0s 7ms/step - loss: 924713615360.0000 - mae: 755185.5000 - mse: 924713615360.0000\n",
            "Epoch 770/1000\n",
            "3/3 [==============================] - 0s 7ms/step - loss: 924342681600.0000 - mae: 754967.8750 - mse: 924342681600.0000\n",
            "Epoch 771/1000\n",
            "3/3 [==============================] - 0s 12ms/step - loss: 924098953216.0000 - mae: 754776.0000 - mse: 924098953216.0000\n",
            "Epoch 772/1000\n",
            "3/3 [==============================] - 0s 13ms/step - loss: 923757576192.0000 - mae: 754555.1250 - mse: 923757576192.0000\n",
            "Epoch 773/1000\n",
            "3/3 [==============================] - 0s 9ms/step - loss: 923489206272.0000 - mae: 754381.6875 - mse: 923489206272.0000\n",
            "Epoch 774/1000\n",
            "3/3 [==============================] - 0s 8ms/step - loss: 923111849984.0000 - mae: 754178.8750 - mse: 923111849984.0000\n",
            "Epoch 775/1000\n",
            "3/3 [==============================] - 0s 11ms/step - loss: 923068792832.0000 - mae: 754113.5000 - mse: 923068792832.0000\n",
            "Epoch 776/1000\n",
            "3/3 [==============================] - 0s 7ms/step - loss: 922878279680.0000 - mae: 753906.0625 - mse: 922878279680.0000\n",
            "Epoch 777/1000\n",
            "3/3 [==============================] - 0s 8ms/step - loss: 922297171968.0000 - mae: 753571.8750 - mse: 922297171968.0000\n",
            "Epoch 778/1000\n",
            "3/3 [==============================] - 0s 7ms/step - loss: 922098860032.0000 - mae: 753548.4375 - mse: 922098860032.0000\n",
            "Epoch 779/1000\n",
            "3/3 [==============================] - 0s 7ms/step - loss: 921629360128.0000 - mae: 753452.3750 - mse: 921629360128.0000\n",
            "Epoch 780/1000\n",
            "3/3 [==============================] - 0s 6ms/step - loss: 921370951680.0000 - mae: 753353.7500 - mse: 921370951680.0000\n",
            "Epoch 781/1000\n",
            "3/3 [==============================] - 0s 7ms/step - loss: 921058934784.0000 - mae: 753265.8750 - mse: 921058934784.0000\n",
            "Epoch 782/1000\n",
            "3/3 [==============================] - 0s 10ms/step - loss: 920807800832.0000 - mae: 753093.1875 - mse: 920807800832.0000\n",
            "Epoch 783/1000\n",
            "3/3 [==============================] - 0s 8ms/step - loss: 920604049408.0000 - mae: 753017.1250 - mse: 920604049408.0000\n",
            "Epoch 784/1000\n",
            "3/3 [==============================] - 0s 8ms/step - loss: 920405540864.0000 - mae: 752861.8125 - mse: 920405540864.0000\n",
            "Epoch 785/1000\n",
            "3/3 [==============================] - 0s 7ms/step - loss: 919904911360.0000 - mae: 752733.5625 - mse: 919904911360.0000\n",
            "Epoch 786/1000\n",
            "3/3 [==============================] - 0s 6ms/step - loss: 919671209984.0000 - mae: 752593.3125 - mse: 919671209984.0000\n",
            "Epoch 787/1000\n",
            "3/3 [==============================] - 0s 7ms/step - loss: 919456579584.0000 - mae: 752413.2500 - mse: 919456579584.0000\n",
            "Epoch 788/1000\n",
            "3/3 [==============================] - 0s 7ms/step - loss: 919231791104.0000 - mae: 752139.1875 - mse: 919231791104.0000\n",
            "Epoch 789/1000\n",
            "3/3 [==============================] - 0s 7ms/step - loss: 918742564864.0000 - mae: 751888.1875 - mse: 918742564864.0000\n",
            "Epoch 790/1000\n",
            "3/3 [==============================] - 0s 6ms/step - loss: 918552117248.0000 - mae: 751843.4375 - mse: 918552117248.0000\n",
            "Epoch 791/1000\n",
            "3/3 [==============================] - 0s 10ms/step - loss: 918163947520.0000 - mae: 751693.5000 - mse: 918163947520.0000\n",
            "Epoch 792/1000\n",
            "3/3 [==============================] - 0s 11ms/step - loss: 917948137472.0000 - mae: 751552.7500 - mse: 917948137472.0000\n",
            "Epoch 793/1000\n",
            "3/3 [==============================] - 0s 9ms/step - loss: 917595815936.0000 - mae: 751378.5000 - mse: 917595815936.0000\n",
            "Epoch 794/1000\n",
            "3/3 [==============================] - 0s 9ms/step - loss: 917444493312.0000 - mae: 751413.7500 - mse: 917444493312.0000\n",
            "Epoch 795/1000\n",
            "3/3 [==============================] - 0s 7ms/step - loss: 917038039040.0000 - mae: 751242.6875 - mse: 917038039040.0000\n",
            "Epoch 796/1000\n",
            "3/3 [==============================] - 0s 7ms/step - loss: 916997472256.0000 - mae: 751194.1875 - mse: 916997472256.0000\n",
            "Epoch 797/1000\n",
            "3/3 [==============================] - 0s 7ms/step - loss: 916599275520.0000 - mae: 751095.4375 - mse: 916599275520.0000\n",
            "Epoch 798/1000\n",
            "3/3 [==============================] - 0s 6ms/step - loss: 916221526016.0000 - mae: 750821.1250 - mse: 916221526016.0000\n",
            "Epoch 799/1000\n",
            "3/3 [==============================] - 0s 9ms/step - loss: 915903545344.0000 - mae: 750636.1250 - mse: 915903545344.0000\n",
            "Epoch 800/1000\n",
            "3/3 [==============================] - 0s 7ms/step - loss: 915632357376.0000 - mae: 750483.1250 - mse: 915632357376.0000\n",
            "Epoch 801/1000\n",
            "3/3 [==============================] - 0s 7ms/step - loss: 915415564288.0000 - mae: 750366.7500 - mse: 915415564288.0000\n",
            "Epoch 802/1000\n",
            "3/3 [==============================] - 0s 8ms/step - loss: 915160956928.0000 - mae: 750341.3750 - mse: 915160956928.0000\n",
            "Epoch 803/1000\n",
            "3/3 [==============================] - 0s 6ms/step - loss: 914877644800.0000 - mae: 750162.3750 - mse: 914877644800.0000\n",
            "Epoch 804/1000\n",
            "3/3 [==============================] - 0s 8ms/step - loss: 914690473984.0000 - mae: 750038.1875 - mse: 914690473984.0000\n",
            "Epoch 805/1000\n",
            "3/3 [==============================] - 0s 7ms/step - loss: 914265997312.0000 - mae: 749867.1875 - mse: 914265997312.0000\n",
            "Epoch 806/1000\n",
            "3/3 [==============================] - 0s 7ms/step - loss: 914009423872.0000 - mae: 749695.8125 - mse: 914009423872.0000\n",
            "Epoch 807/1000\n",
            "3/3 [==============================] - 0s 6ms/step - loss: 913764974592.0000 - mae: 749552.5625 - mse: 913764974592.0000\n",
            "Epoch 808/1000\n",
            "3/3 [==============================] - 0s 7ms/step - loss: 913400397824.0000 - mae: 749346.1250 - mse: 913400397824.0000\n",
            "Epoch 809/1000\n",
            "3/3 [==============================] - 0s 7ms/step - loss: 913451581440.0000 - mae: 749320.0625 - mse: 913451581440.0000\n",
            "Epoch 810/1000\n",
            "3/3 [==============================] - 0s 7ms/step - loss: 912879648768.0000 - mae: 749149.3125 - mse: 912879648768.0000\n",
            "Epoch 811/1000\n",
            "3/3 [==============================] - 0s 6ms/step - loss: 912606232576.0000 - mae: 748926.8125 - mse: 912606232576.0000\n",
            "Epoch 812/1000\n",
            "3/3 [==============================] - 0s 7ms/step - loss: 912346447872.0000 - mae: 748772.9375 - mse: 912346447872.0000\n",
            "Epoch 813/1000\n",
            "3/3 [==============================] - 0s 6ms/step - loss: 912266559488.0000 - mae: 748648.0625 - mse: 912266559488.0000\n",
            "Epoch 814/1000\n",
            "3/3 [==============================] - 0s 7ms/step - loss: 911832514560.0000 - mae: 748368.5625 - mse: 911832514560.0000\n",
            "Epoch 815/1000\n",
            "3/3 [==============================] - 0s 6ms/step - loss: 911565389824.0000 - mae: 748245.8125 - mse: 911565389824.0000\n",
            "Epoch 816/1000\n",
            "3/3 [==============================] - 0s 7ms/step - loss: 911346302976.0000 - mae: 748163.0000 - mse: 911346302976.0000\n",
            "Epoch 817/1000\n",
            "3/3 [==============================] - 0s 6ms/step - loss: 911147597824.0000 - mae: 748208.5625 - mse: 911147597824.0000\n",
            "Epoch 818/1000\n",
            "3/3 [==============================] - 0s 9ms/step - loss: 910737014784.0000 - mae: 748016.3125 - mse: 910737014784.0000\n",
            "Epoch 819/1000\n",
            "3/3 [==============================] - 0s 8ms/step - loss: 910470086656.0000 - mae: 747881.6875 - mse: 910470086656.0000\n",
            "Epoch 820/1000\n",
            "3/3 [==============================] - 0s 7ms/step - loss: 910327676928.0000 - mae: 747747.8750 - mse: 910327676928.0000\n",
            "Epoch 821/1000\n",
            "3/3 [==============================] - 0s 6ms/step - loss: 910045151232.0000 - mae: 747562.6875 - mse: 910045151232.0000\n",
            "Epoch 822/1000\n",
            "3/3 [==============================] - 0s 8ms/step - loss: 909772587008.0000 - mae: 747425.4375 - mse: 909772587008.0000\n",
            "Epoch 823/1000\n",
            "3/3 [==============================] - 0s 7ms/step - loss: 909534429184.0000 - mae: 747319.9375 - mse: 909534429184.0000\n",
            "Epoch 824/1000\n",
            "3/3 [==============================] - 0s 7ms/step - loss: 909156220928.0000 - mae: 747239.5000 - mse: 909156220928.0000\n",
            "Epoch 825/1000\n",
            "3/3 [==============================] - 0s 7ms/step - loss: 909151174656.0000 - mae: 747303.3125 - mse: 909151174656.0000\n",
            "Epoch 826/1000\n",
            "3/3 [==============================] - 0s 8ms/step - loss: 908826050560.0000 - mae: 747202.3750 - mse: 908826050560.0000\n",
            "Epoch 827/1000\n",
            "3/3 [==============================] - 0s 7ms/step - loss: 908407537664.0000 - mae: 746971.1875 - mse: 908407537664.0000\n",
            "Epoch 828/1000\n",
            "3/3 [==============================] - 0s 8ms/step - loss: 908739805184.0000 - mae: 746824.7500 - mse: 908739805184.0000\n",
            "Epoch 829/1000\n",
            "3/3 [==============================] - 0s 7ms/step - loss: 907853889536.0000 - mae: 746479.4375 - mse: 907853889536.0000\n",
            "Epoch 830/1000\n",
            "3/3 [==============================] - 0s 8ms/step - loss: 907628380160.0000 - mae: 746332.3125 - mse: 907628380160.0000\n",
            "Epoch 831/1000\n",
            "3/3 [==============================] - 0s 7ms/step - loss: 907376852992.0000 - mae: 746177.1875 - mse: 907376852992.0000\n",
            "Epoch 832/1000\n",
            "3/3 [==============================] - 0s 8ms/step - loss: 907160977408.0000 - mae: 746104.6875 - mse: 907160977408.0000\n",
            "Epoch 833/1000\n",
            "3/3 [==============================] - 0s 7ms/step - loss: 906890575872.0000 - mae: 746024.2500 - mse: 906890575872.0000\n",
            "Epoch 834/1000\n",
            "3/3 [==============================] - 0s 7ms/step - loss: 906609754112.0000 - mae: 745904.6875 - mse: 906609754112.0000\n",
            "Epoch 835/1000\n",
            "3/3 [==============================] - 0s 7ms/step - loss: 906335682560.0000 - mae: 745765.1250 - mse: 906335682560.0000\n",
            "Epoch 836/1000\n",
            "3/3 [==============================] - 0s 7ms/step - loss: 906303766528.0000 - mae: 745720.6250 - mse: 906303766528.0000\n",
            "Epoch 837/1000\n",
            "3/3 [==============================] - 0s 7ms/step - loss: 905887481856.0000 - mae: 745610.4375 - mse: 905887481856.0000\n",
            "Epoch 838/1000\n",
            "3/3 [==============================] - 0s 6ms/step - loss: 905728688128.0000 - mae: 745575.3125 - mse: 905728688128.0000\n",
            "Epoch 839/1000\n",
            "3/3 [==============================] - 0s 9ms/step - loss: 905429647360.0000 - mae: 745420.5000 - mse: 905429647360.0000\n",
            "Epoch 840/1000\n",
            "3/3 [==============================] - 0s 9ms/step - loss: 905109372928.0000 - mae: 745164.5000 - mse: 905109372928.0000\n",
            "Epoch 841/1000\n",
            "3/3 [==============================] - 0s 6ms/step - loss: 904825405440.0000 - mae: 745024.0625 - mse: 904825405440.0000\n",
            "Epoch 842/1000\n",
            "3/3 [==============================] - 0s 6ms/step - loss: 904658419712.0000 - mae: 744901.0625 - mse: 904658419712.0000\n",
            "Epoch 843/1000\n",
            "3/3 [==============================] - 0s 7ms/step - loss: 904391360512.0000 - mae: 744693.3125 - mse: 904391360512.0000\n",
            "Epoch 844/1000\n",
            "3/3 [==============================] - 0s 6ms/step - loss: 904138981376.0000 - mae: 744557.8750 - mse: 904138981376.0000\n",
            "Epoch 845/1000\n",
            "3/3 [==============================] - 0s 9ms/step - loss: 903906656256.0000 - mae: 744398.1250 - mse: 903906656256.0000\n",
            "Epoch 846/1000\n",
            "3/3 [==============================] - 0s 7ms/step - loss: 903648313344.0000 - mae: 744296.0000 - mse: 903648313344.0000\n",
            "Epoch 847/1000\n",
            "3/3 [==============================] - 0s 8ms/step - loss: 903374503936.0000 - mae: 744104.5000 - mse: 903374503936.0000\n",
            "Epoch 848/1000\n",
            "3/3 [==============================] - 0s 10ms/step - loss: 903151878144.0000 - mae: 743997.3125 - mse: 903151878144.0000\n",
            "Epoch 849/1000\n",
            "3/3 [==============================] - 0s 7ms/step - loss: 903031291904.0000 - mae: 743961.5625 - mse: 903031291904.0000\n",
            "Epoch 850/1000\n",
            "3/3 [==============================] - 0s 7ms/step - loss: 902654459904.0000 - mae: 743842.6875 - mse: 902654459904.0000\n",
            "Epoch 851/1000\n",
            "3/3 [==============================] - 0s 7ms/step - loss: 902413090816.0000 - mae: 743685.0625 - mse: 902413090816.0000\n",
            "Epoch 852/1000\n",
            "3/3 [==============================] - 0s 7ms/step - loss: 902213533696.0000 - mae: 743590.0625 - mse: 902213533696.0000\n",
            "Epoch 853/1000\n",
            "3/3 [==============================] - 0s 8ms/step - loss: 901938020352.0000 - mae: 743432.3125 - mse: 901938020352.0000\n",
            "Epoch 854/1000\n",
            "3/3 [==============================] - 0s 7ms/step - loss: 901758713856.0000 - mae: 743423.3125 - mse: 901758713856.0000\n",
            "Epoch 855/1000\n",
            "3/3 [==============================] - 0s 8ms/step - loss: 901444403200.0000 - mae: 743295.2500 - mse: 901444403200.0000\n",
            "Epoch 856/1000\n",
            "3/3 [==============================] - 0s 10ms/step - loss: 901326176256.0000 - mae: 743271.5625 - mse: 901326176256.0000\n",
            "Epoch 857/1000\n",
            "3/3 [==============================] - 0s 9ms/step - loss: 900970774528.0000 - mae: 743125.2500 - mse: 900970774528.0000\n",
            "Epoch 858/1000\n",
            "3/3 [==============================] - 0s 8ms/step - loss: 900788387840.0000 - mae: 742996.5000 - mse: 900788387840.0000\n",
            "Epoch 859/1000\n",
            "3/3 [==============================] - 0s 9ms/step - loss: 900598464512.0000 - mae: 742849.9375 - mse: 900598464512.0000\n",
            "Epoch 860/1000\n",
            "3/3 [==============================] - 0s 10ms/step - loss: 900288806912.0000 - mae: 742811.6250 - mse: 900288806912.0000\n",
            "Epoch 861/1000\n",
            "3/3 [==============================] - 0s 7ms/step - loss: 900035313664.0000 - mae: 742676.4375 - mse: 900035313664.0000\n",
            "Epoch 862/1000\n",
            "3/3 [==============================] - 0s 8ms/step - loss: 900007723008.0000 - mae: 742570.6875 - mse: 900007723008.0000\n",
            "Epoch 863/1000\n",
            "3/3 [==============================] - 0s 10ms/step - loss: 899656515584.0000 - mae: 742278.7500 - mse: 899656515584.0000\n",
            "Epoch 864/1000\n",
            "3/3 [==============================] - 0s 7ms/step - loss: 899315466240.0000 - mae: 742149.1250 - mse: 899315466240.0000\n",
            "Epoch 865/1000\n",
            "3/3 [==============================] - 0s 6ms/step - loss: 899300327424.0000 - mae: 742214.8125 - mse: 899300327424.0000\n",
            "Epoch 866/1000\n",
            "3/3 [==============================] - 0s 7ms/step - loss: 898860253184.0000 - mae: 741971.3750 - mse: 898860253184.0000\n",
            "Epoch 867/1000\n",
            "3/3 [==============================] - 0s 9ms/step - loss: 898687238144.0000 - mae: 741827.1250 - mse: 898687238144.0000\n",
            "Epoch 868/1000\n",
            "3/3 [==============================] - 0s 8ms/step - loss: 898608136192.0000 - mae: 741836.7500 - mse: 898608136192.0000\n",
            "Epoch 869/1000\n",
            "3/3 [==============================] - 0s 7ms/step - loss: 898464153600.0000 - mae: 741693.5625 - mse: 898464153600.0000\n",
            "Epoch 870/1000\n",
            "3/3 [==============================] - 0s 7ms/step - loss: 898128150528.0000 - mae: 741410.9375 - mse: 898128150528.0000\n",
            "Epoch 871/1000\n",
            "3/3 [==============================] - 0s 8ms/step - loss: 897908670464.0000 - mae: 741408.7500 - mse: 897908670464.0000\n",
            "Epoch 872/1000\n",
            "3/3 [==============================] - 0s 7ms/step - loss: 897615331328.0000 - mae: 741308.6250 - mse: 897615331328.0000\n",
            "Epoch 873/1000\n",
            "3/3 [==============================] - 0s 7ms/step - loss: 897251999744.0000 - mae: 741206.0000 - mse: 897251999744.0000\n",
            "Epoch 874/1000\n",
            "3/3 [==============================] - 0s 7ms/step - loss: 897045757952.0000 - mae: 741103.3750 - mse: 897045757952.0000\n",
            "Epoch 875/1000\n",
            "3/3 [==============================] - 0s 6ms/step - loss: 896821886976.0000 - mae: 740996.1875 - mse: 896821886976.0000\n",
            "Epoch 876/1000\n",
            "3/3 [==============================] - 0s 7ms/step - loss: 896659881984.0000 - mae: 740972.6875 - mse: 896659881984.0000\n",
            "Epoch 877/1000\n",
            "3/3 [==============================] - 0s 8ms/step - loss: 896352583680.0000 - mae: 740858.1875 - mse: 896352583680.0000\n",
            "Epoch 878/1000\n",
            "3/3 [==============================] - 0s 8ms/step - loss: 896266338304.0000 - mae: 740814.1250 - mse: 896266338304.0000\n",
            "Epoch 879/1000\n",
            "3/3 [==============================] - 0s 8ms/step - loss: 895970443264.0000 - mae: 740668.6250 - mse: 895970443264.0000\n",
            "Epoch 880/1000\n",
            "3/3 [==============================] - 0s 7ms/step - loss: 895725076480.0000 - mae: 740538.0625 - mse: 895725076480.0000\n",
            "Epoch 881/1000\n",
            "3/3 [==============================] - 0s 10ms/step - loss: 895535218688.0000 - mae: 740454.6250 - mse: 895535218688.0000\n",
            "Epoch 882/1000\n",
            "3/3 [==============================] - 0s 9ms/step - loss: 895226085376.0000 - mae: 740251.6875 - mse: 895226085376.0000\n",
            "Epoch 883/1000\n",
            "3/3 [==============================] - 0s 9ms/step - loss: 895043960832.0000 - mae: 740172.1875 - mse: 895043960832.0000\n",
            "Epoch 884/1000\n",
            "3/3 [==============================] - 0s 9ms/step - loss: 894843355136.0000 - mae: 740010.5000 - mse: 894843355136.0000\n",
            "Epoch 885/1000\n",
            "3/3 [==============================] - 0s 8ms/step - loss: 894640390144.0000 - mae: 739925.3125 - mse: 894640390144.0000\n",
            "Epoch 886/1000\n",
            "3/3 [==============================] - 0s 8ms/step - loss: 894391353344.0000 - mae: 739811.7500 - mse: 894391353344.0000\n",
            "Epoch 887/1000\n",
            "3/3 [==============================] - 0s 9ms/step - loss: 894167220224.0000 - mae: 739721.6875 - mse: 894167220224.0000\n",
            "Epoch 888/1000\n",
            "3/3 [==============================] - 0s 8ms/step - loss: 894038704128.0000 - mae: 739660.1875 - mse: 894038704128.0000\n",
            "Epoch 889/1000\n",
            "3/3 [==============================] - 0s 8ms/step - loss: 893746872320.0000 - mae: 739549.5000 - mse: 893746872320.0000\n",
            "Epoch 890/1000\n",
            "3/3 [==============================] - 0s 7ms/step - loss: 893560356864.0000 - mae: 739475.1250 - mse: 893560356864.0000\n",
            "Epoch 891/1000\n",
            "3/3 [==============================] - 0s 8ms/step - loss: 893304963072.0000 - mae: 739393.3750 - mse: 893304963072.0000\n",
            "Epoch 892/1000\n",
            "3/3 [==============================] - 0s 11ms/step - loss: 893078536192.0000 - mae: 739257.8750 - mse: 893078536192.0000\n",
            "Epoch 893/1000\n",
            "3/3 [==============================] - 0s 9ms/step - loss: 892886843392.0000 - mae: 739150.2500 - mse: 892886843392.0000\n",
            "Epoch 894/1000\n",
            "3/3 [==============================] - 0s 7ms/step - loss: 892766388224.0000 - mae: 739108.9375 - mse: 892766388224.0000\n",
            "Epoch 895/1000\n",
            "3/3 [==============================] - 0s 8ms/step - loss: 892475342848.0000 - mae: 739029.0000 - mse: 892475342848.0000\n",
            "Epoch 896/1000\n",
            "3/3 [==============================] - 0s 7ms/step - loss: 892241510400.0000 - mae: 738881.4375 - mse: 892241510400.0000\n",
            "Epoch 897/1000\n",
            "3/3 [==============================] - 0s 7ms/step - loss: 892096806912.0000 - mae: 738845.3125 - mse: 892096806912.0000\n",
            "Epoch 898/1000\n",
            "3/3 [==============================] - 0s 8ms/step - loss: 891913109504.0000 - mae: 738732.8750 - mse: 891913109504.0000\n",
            "Epoch 899/1000\n",
            "3/3 [==============================] - 0s 8ms/step - loss: 891620884480.0000 - mae: 738618.6250 - mse: 891620884480.0000\n",
            "Epoch 900/1000\n",
            "3/3 [==============================] - 0s 7ms/step - loss: 891424145408.0000 - mae: 738535.7500 - mse: 891424145408.0000\n",
            "Epoch 901/1000\n",
            "3/3 [==============================] - 0s 8ms/step - loss: 891180023808.0000 - mae: 738434.1875 - mse: 891180023808.0000\n",
            "Epoch 902/1000\n",
            "3/3 [==============================] - 0s 7ms/step - loss: 891738456064.0000 - mae: 738567.5625 - mse: 891738456064.0000\n",
            "Epoch 903/1000\n",
            "3/3 [==============================] - 0s 6ms/step - loss: 890783662080.0000 - mae: 738198.4375 - mse: 890783662080.0000\n",
            "Epoch 904/1000\n",
            "3/3 [==============================] - 0s 7ms/step - loss: 890541703168.0000 - mae: 738096.0625 - mse: 890541703168.0000\n",
            "Epoch 905/1000\n",
            "3/3 [==============================] - 0s 6ms/step - loss: 890416791552.0000 - mae: 738132.1875 - mse: 890416791552.0000\n",
            "Epoch 906/1000\n",
            "3/3 [==============================] - 0s 6ms/step - loss: 890125352960.0000 - mae: 737989.1250 - mse: 890125352960.0000\n",
            "Epoch 907/1000\n",
            "3/3 [==============================] - 0s 6ms/step - loss: 890005159936.0000 - mae: 737967.8750 - mse: 890005159936.0000\n",
            "Epoch 908/1000\n",
            "3/3 [==============================] - 0s 8ms/step - loss: 889744982016.0000 - mae: 737835.6875 - mse: 889744982016.0000\n",
            "Epoch 909/1000\n",
            "3/3 [==============================] - 0s 9ms/step - loss: 889515671552.0000 - mae: 737749.5000 - mse: 889515671552.0000\n",
            "Epoch 910/1000\n",
            "3/3 [==============================] - 0s 8ms/step - loss: 889457606656.0000 - mae: 737721.1875 - mse: 889457606656.0000\n",
            "Epoch 911/1000\n",
            "3/3 [==============================] - 0s 8ms/step - loss: 889336561664.0000 - mae: 737655.1250 - mse: 889336561664.0000\n",
            "Epoch 912/1000\n",
            "3/3 [==============================] - 0s 8ms/step - loss: 888992169984.0000 - mae: 737541.1250 - mse: 888992169984.0000\n",
            "Epoch 913/1000\n",
            "3/3 [==============================] - 0s 8ms/step - loss: 888781537280.0000 - mae: 737423.6250 - mse: 888781537280.0000\n",
            "Epoch 914/1000\n",
            "3/3 [==============================] - 0s 8ms/step - loss: 888851726336.0000 - mae: 737362.2500 - mse: 888851726336.0000\n",
            "Epoch 915/1000\n",
            "3/3 [==============================] - 0s 7ms/step - loss: 888445796352.0000 - mae: 737209.9375 - mse: 888445796352.0000\n",
            "Epoch 916/1000\n",
            "3/3 [==============================] - 0s 7ms/step - loss: 888424103936.0000 - mae: 737207.9375 - mse: 888424103936.0000\n",
            "Epoch 917/1000\n",
            "3/3 [==============================] - 0s 6ms/step - loss: 887974789120.0000 - mae: 737009.8125 - mse: 887974789120.0000\n",
            "Epoch 918/1000\n",
            "3/3 [==============================] - 0s 6ms/step - loss: 887722409984.0000 - mae: 736909.6250 - mse: 887722409984.0000\n",
            "Epoch 919/1000\n",
            "3/3 [==============================] - 0s 6ms/step - loss: 887593107456.0000 - mae: 736883.8750 - mse: 887593107456.0000\n",
            "Epoch 920/1000\n",
            "3/3 [==============================] - 0s 7ms/step - loss: 887315496960.0000 - mae: 736736.2500 - mse: 887315496960.0000\n",
            "Epoch 921/1000\n",
            "3/3 [==============================] - 0s 7ms/step - loss: 887234166784.0000 - mae: 736721.8125 - mse: 887234166784.0000\n",
            "Epoch 922/1000\n",
            "3/3 [==============================] - 0s 8ms/step - loss: 886995353600.0000 - mae: 736583.5625 - mse: 886995353600.0000\n",
            "Epoch 923/1000\n",
            "3/3 [==============================] - 0s 8ms/step - loss: 886874439680.0000 - mae: 736534.5000 - mse: 886874439680.0000\n",
            "Epoch 924/1000\n",
            "3/3 [==============================] - 0s 8ms/step - loss: 886589227008.0000 - mae: 736352.9375 - mse: 886589227008.0000\n",
            "Epoch 925/1000\n",
            "3/3 [==============================] - 0s 9ms/step - loss: 886683729920.0000 - mae: 736391.3125 - mse: 886683729920.0000\n",
            "Epoch 926/1000\n",
            "3/3 [==============================] - 0s 7ms/step - loss: 886126739456.0000 - mae: 736185.8750 - mse: 886126739456.0000\n",
            "Epoch 927/1000\n",
            "3/3 [==============================] - 0s 9ms/step - loss: 886033219584.0000 - mae: 736157.8125 - mse: 886033219584.0000\n",
            "Epoch 928/1000\n",
            "3/3 [==============================] - 0s 6ms/step - loss: 885846573056.0000 - mae: 736121.1250 - mse: 885846573056.0000\n",
            "Epoch 929/1000\n",
            "3/3 [==============================] - 0s 9ms/step - loss: 885576564736.0000 - mae: 736002.0000 - mse: 885576564736.0000\n",
            "Epoch 930/1000\n",
            "3/3 [==============================] - 0s 8ms/step - loss: 885491761152.0000 - mae: 735943.8750 - mse: 885491761152.0000\n",
            "Epoch 931/1000\n",
            "3/3 [==============================] - 0s 8ms/step - loss: 885211267072.0000 - mae: 735891.6250 - mse: 885211267072.0000\n",
            "Epoch 932/1000\n",
            "3/3 [==============================] - 0s 11ms/step - loss: 885034713088.0000 - mae: 735781.0625 - mse: 885034713088.0000\n",
            "Epoch 933/1000\n",
            "3/3 [==============================] - 0s 7ms/step - loss: 885555003392.0000 - mae: 736106.5000 - mse: 885555003392.0000\n",
            "Epoch 934/1000\n",
            "3/3 [==============================] - 0s 6ms/step - loss: 884594245632.0000 - mae: 735662.3750 - mse: 884594245632.0000\n",
            "Epoch 935/1000\n",
            "3/3 [==============================] - 0s 6ms/step - loss: 884657684480.0000 - mae: 735629.6875 - mse: 884657684480.0000\n",
            "Epoch 936/1000\n",
            "3/3 [==============================] - 0s 8ms/step - loss: 884259356672.0000 - mae: 735487.2500 - mse: 884259356672.0000\n",
            "Epoch 937/1000\n",
            "3/3 [==============================] - 0s 8ms/step - loss: 883998982144.0000 - mae: 735316.9375 - mse: 883998982144.0000\n",
            "Epoch 938/1000\n",
            "3/3 [==============================] - 0s 6ms/step - loss: 883867189248.0000 - mae: 735257.8125 - mse: 883867189248.0000\n",
            "Epoch 939/1000\n",
            "3/3 [==============================] - 0s 6ms/step - loss: 884132151296.0000 - mae: 735232.3125 - mse: 884132151296.0000\n",
            "Epoch 940/1000\n",
            "3/3 [==============================] - 0s 6ms/step - loss: 883623657472.0000 - mae: 735054.1250 - mse: 883623657472.0000\n",
            "Epoch 941/1000\n",
            "3/3 [==============================] - 0s 7ms/step - loss: 883471286272.0000 - mae: 734939.0625 - mse: 883471286272.0000\n",
            "Epoch 942/1000\n",
            "3/3 [==============================] - 0s 6ms/step - loss: 883141705728.0000 - mae: 734848.0000 - mse: 883141705728.0000\n",
            "Epoch 943/1000\n",
            "3/3 [==============================] - 0s 6ms/step - loss: 882879430656.0000 - mae: 734774.2500 - mse: 882879430656.0000\n",
            "Epoch 944/1000\n",
            "3/3 [==============================] - 0s 6ms/step - loss: 882898632704.0000 - mae: 734771.5625 - mse: 882898632704.0000\n",
            "Epoch 945/1000\n",
            "3/3 [==============================] - 0s 6ms/step - loss: 882534252544.0000 - mae: 734688.5625 - mse: 882534252544.0000\n",
            "Epoch 946/1000\n",
            "3/3 [==============================] - 0s 7ms/step - loss: 882399772672.0000 - mae: 734647.6250 - mse: 882399772672.0000\n",
            "Epoch 947/1000\n",
            "3/3 [==============================] - 0s 6ms/step - loss: 882211684352.0000 - mae: 734588.5000 - mse: 882211684352.0000\n",
            "Epoch 948/1000\n",
            "3/3 [==============================] - 0s 6ms/step - loss: 882012520448.0000 - mae: 734478.9375 - mse: 882012520448.0000\n",
            "Epoch 949/1000\n",
            "3/3 [==============================] - 0s 7ms/step - loss: 881837277184.0000 - mae: 734416.6875 - mse: 881837277184.0000\n",
            "Epoch 950/1000\n",
            "3/3 [==============================] - 0s 7ms/step - loss: 881825611776.0000 - mae: 734428.3750 - mse: 881825611776.0000\n",
            "Epoch 951/1000\n",
            "3/3 [==============================] - 0s 7ms/step - loss: 881433378816.0000 - mae: 734270.6250 - mse: 881433378816.0000\n",
            "Epoch 952/1000\n",
            "3/3 [==============================] - 0s 8ms/step - loss: 881376493568.0000 - mae: 734208.6875 - mse: 881376493568.0000\n",
            "Epoch 953/1000\n",
            "3/3 [==============================] - 0s 7ms/step - loss: 881040228352.0000 - mae: 734062.5000 - mse: 881040228352.0000\n",
            "Epoch 954/1000\n",
            "3/3 [==============================] - 0s 6ms/step - loss: 881030004736.0000 - mae: 734079.8125 - mse: 881030004736.0000\n",
            "Epoch 955/1000\n",
            "3/3 [==============================] - 0s 6ms/step - loss: 880715563008.0000 - mae: 733854.7500 - mse: 880715563008.0000\n",
            "Epoch 956/1000\n",
            "3/3 [==============================] - 0s 6ms/step - loss: 880528719872.0000 - mae: 733776.3125 - mse: 880528719872.0000\n",
            "Epoch 957/1000\n",
            "3/3 [==============================] - 0s 6ms/step - loss: 880432185344.0000 - mae: 733767.0625 - mse: 880432185344.0000\n",
            "Epoch 958/1000\n",
            "3/3 [==============================] - 0s 7ms/step - loss: 880169189376.0000 - mae: 733638.3125 - mse: 880169189376.0000\n",
            "Epoch 959/1000\n",
            "3/3 [==============================] - 0s 9ms/step - loss: 880016949248.0000 - mae: 733570.7500 - mse: 880016949248.0000\n",
            "Epoch 960/1000\n",
            "3/3 [==============================] - 0s 11ms/step - loss: 879887581184.0000 - mae: 733523.6250 - mse: 879887581184.0000\n",
            "Epoch 961/1000\n",
            "3/3 [==============================] - 0s 8ms/step - loss: 879737569280.0000 - mae: 733468.8125 - mse: 879737569280.0000\n",
            "Epoch 962/1000\n",
            "3/3 [==============================] - 0s 6ms/step - loss: 879525101568.0000 - mae: 733389.2500 - mse: 879525101568.0000\n",
            "Epoch 963/1000\n",
            "3/3 [==============================] - 0s 9ms/step - loss: 879355822080.0000 - mae: 733324.7500 - mse: 879355822080.0000\n",
            "Epoch 964/1000\n",
            "3/3 [==============================] - 0s 7ms/step - loss: 879163080704.0000 - mae: 733217.9375 - mse: 879163080704.0000\n",
            "Epoch 965/1000\n",
            "3/3 [==============================] - 0s 8ms/step - loss: 879056388096.0000 - mae: 733158.0625 - mse: 879056388096.0000\n",
            "Epoch 966/1000\n",
            "3/3 [==============================] - 0s 8ms/step - loss: 878875901952.0000 - mae: 733050.8750 - mse: 878875901952.0000\n",
            "Epoch 967/1000\n",
            "3/3 [==============================] - 0s 8ms/step - loss: 878651768832.0000 - mae: 732951.6875 - mse: 878651768832.0000\n",
            "Epoch 968/1000\n",
            "3/3 [==============================] - 0s 6ms/step - loss: 878443757568.0000 - mae: 732903.0000 - mse: 878443757568.0000\n",
            "Epoch 969/1000\n",
            "3/3 [==============================] - 0s 6ms/step - loss: 878264713216.0000 - mae: 732814.9375 - mse: 878264713216.0000\n",
            "Epoch 970/1000\n",
            "3/3 [==============================] - 0s 6ms/step - loss: 878174339072.0000 - mae: 732818.0000 - mse: 878174339072.0000\n",
            "Epoch 971/1000\n",
            "3/3 [==============================] - 0s 9ms/step - loss: 877967114240.0000 - mae: 732698.1250 - mse: 877967114240.0000\n",
            "Epoch 972/1000\n",
            "3/3 [==============================] - 0s 7ms/step - loss: 877958791168.0000 - mae: 732737.9375 - mse: 877958791168.0000\n",
            "Epoch 973/1000\n",
            "3/3 [==============================] - 0s 8ms/step - loss: 877649526784.0000 - mae: 732519.0625 - mse: 877649526784.0000\n",
            "Epoch 974/1000\n",
            "3/3 [==============================] - 0s 8ms/step - loss: 877716832256.0000 - mae: 732634.5625 - mse: 877716832256.0000\n",
            "Epoch 975/1000\n",
            "3/3 [==============================] - 0s 10ms/step - loss: 877332070400.0000 - mae: 732395.5625 - mse: 877332070400.0000\n",
            "Epoch 976/1000\n",
            "3/3 [==============================] - 0s 8ms/step - loss: 877074251776.0000 - mae: 732308.5000 - mse: 877074251776.0000\n",
            "Epoch 977/1000\n",
            "3/3 [==============================] - 0s 8ms/step - loss: 876935577600.0000 - mae: 732224.2500 - mse: 876935577600.0000\n",
            "Epoch 978/1000\n",
            "3/3 [==============================] - 0s 6ms/step - loss: 876756467712.0000 - mae: 732121.6875 - mse: 876756467712.0000\n",
            "Epoch 979/1000\n",
            "3/3 [==============================] - 0s 8ms/step - loss: 876558548992.0000 - mae: 732036.6875 - mse: 876558548992.0000\n",
            "Epoch 980/1000\n",
            "3/3 [==============================] - 0s 8ms/step - loss: 876540395520.0000 - mae: 732021.7500 - mse: 876540395520.0000\n",
            "Epoch 981/1000\n",
            "3/3 [==============================] - 0s 9ms/step - loss: 876253282304.0000 - mae: 731933.6250 - mse: 876253282304.0000\n",
            "Epoch 982/1000\n",
            "3/3 [==============================] - 0s 7ms/step - loss: 876563857408.0000 - mae: 731923.1250 - mse: 876563857408.0000\n",
            "Epoch 983/1000\n",
            "3/3 [==============================] - 0s 7ms/step - loss: 875972329472.0000 - mae: 731724.5000 - mse: 875972329472.0000\n",
            "Epoch 984/1000\n",
            "3/3 [==============================] - 0s 8ms/step - loss: 875840602112.0000 - mae: 731640.2500 - mse: 875840602112.0000\n",
            "Epoch 985/1000\n",
            "3/3 [==============================] - 0s 9ms/step - loss: 875634688000.0000 - mae: 731562.1875 - mse: 875634688000.0000\n",
            "Epoch 986/1000\n",
            "3/3 [==============================] - 0s 8ms/step - loss: 875924553728.0000 - mae: 731861.0625 - mse: 875924553728.0000\n",
            "Epoch 987/1000\n",
            "3/3 [==============================] - 0s 10ms/step - loss: 875278041088.0000 - mae: 731452.3750 - mse: 875278041088.0000\n",
            "Epoch 988/1000\n",
            "3/3 [==============================] - 0s 8ms/step - loss: 875222532096.0000 - mae: 731391.7500 - mse: 875222532096.0000\n",
            "Epoch 989/1000\n",
            "3/3 [==============================] - 0s 8ms/step - loss: 874961436672.0000 - mae: 731291.5625 - mse: 874961436672.0000\n",
            "Epoch 990/1000\n",
            "3/3 [==============================] - 0s 8ms/step - loss: 874914840576.0000 - mae: 731224.2500 - mse: 874914840576.0000\n",
            "Epoch 991/1000\n",
            "3/3 [==============================] - 0s 9ms/step - loss: 874675961856.0000 - mae: 731158.7500 - mse: 874675961856.0000\n",
            "Epoch 992/1000\n",
            "3/3 [==============================] - 0s 8ms/step - loss: 875134386176.0000 - mae: 731238.1250 - mse: 875134386176.0000\n",
            "Epoch 993/1000\n",
            "3/3 [==============================] - 0s 9ms/step - loss: 874296770560.0000 - mae: 730912.9375 - mse: 874296770560.0000\n",
            "Epoch 994/1000\n",
            "3/3 [==============================] - 0s 6ms/step - loss: 874119364608.0000 - mae: 730895.1250 - mse: 874119364608.0000\n",
            "Epoch 995/1000\n",
            "3/3 [==============================] - 0s 7ms/step - loss: 873949233152.0000 - mae: 730818.1875 - mse: 873949233152.0000\n",
            "Epoch 996/1000\n",
            "3/3 [==============================] - 0s 7ms/step - loss: 873814622208.0000 - mae: 730734.5000 - mse: 873814622208.0000\n",
            "Epoch 997/1000\n",
            "3/3 [==============================] - 0s 6ms/step - loss: 873664348160.0000 - mae: 730678.7500 - mse: 873664348160.0000\n",
            "Epoch 998/1000\n",
            "3/3 [==============================] - 0s 7ms/step - loss: 873689317376.0000 - mae: 730611.8750 - mse: 873689317376.0000\n",
            "Epoch 999/1000\n",
            "3/3 [==============================] - 0s 10ms/step - loss: 873431040000.0000 - mae: 730627.9375 - mse: 873431040000.0000\n",
            "Epoch 1000/1000\n",
            "3/3 [==============================] - 0s 7ms/step - loss: 873194586112.0000 - mae: 730477.2500 - mse: 873194586112.0000\n"
          ]
        },
        {
          "output_type": "execute_result",
          "data": {
            "text/plain": [
              "<keras.src.callbacks.History at 0x7dd87ea3fac0>"
            ]
          },
          "metadata": {},
          "execution_count": 1330
        }
      ]
    },
    {
      "cell_type": "code",
      "source": [
        "y_pred = network.predict(X_test)"
      ],
      "metadata": {
        "colab": {
          "base_uri": "https://localhost:8080/"
        },
        "id": "DhM5nShfeC7y",
        "outputId": "dbd65567-6e97-4cbc-e467-7e33c0fdd234"
      },
      "execution_count": 1332,
      "outputs": [
        {
          "output_type": "stream",
          "name": "stdout",
          "text": [
            "6/6 [==============================] - 0s 3ms/step\n"
          ]
        }
      ]
    },
    {
      "cell_type": "code",
      "source": [
        "from sklearn.metrics import mean_squared_error, mean_absolute_error, r2_score\n",
        "\n",
        "\n",
        "mse = mean_squared_error(Y_test, y_pred)\n",
        "mae = mean_absolute_error(Y_test, y_pred)\n",
        "r2 = r2_score(Y_test, y_pred)\n",
        "\n",
        "print(\"Mean Squared Error:\", mse)\n",
        "print(\"Mean Absolute Error:\", mae)\n",
        "print(\"R2 score:\", r2)\n"
      ],
      "metadata": {
        "id": "VZ3wsMuMFFON",
        "colab": {
          "base_uri": "https://localhost:8080/"
        },
        "outputId": "db0c387a-73f0-46eb-e1f5-2b82ab4fde79"
      },
      "execution_count": 1333,
      "outputs": [
        {
          "output_type": "stream",
          "name": "stdout",
          "text": [
            "Mean Squared Error: 951687884026.4562\n",
            "Mean Absolute Error: 755161.287347561\n",
            "R2 score: 0.632785655838658\n"
          ]
        }
      ]
    },
    {
      "cell_type": "code",
      "source": [
        "\n",
        "network.evaluate(X_test,y_test)\n",
        "\n"
      ],
      "metadata": {
        "colab": {
          "base_uri": "https://localhost:8080/"
        },
        "id": "DkBIopJ3AHhz",
        "outputId": "50677013-ccab-4ad1-e785-1b4f501c3385"
      },
      "execution_count": 1334,
      "outputs": [
        {
          "output_type": "stream",
          "name": "stdout",
          "text": [
            "6/6 [==============================] - 0s 3ms/step - loss: 951687970816.0000 - mae: 755161.2500 - mse: 951687970816.0000\n"
          ]
        },
        {
          "output_type": "execute_result",
          "data": {
            "text/plain": [
              "[951687970816.0, 755161.25, 951687970816.0]"
            ]
          },
          "metadata": {},
          "execution_count": 1334
        }
      ]
    },
    {
      "cell_type": "code",
      "source": [
        "!pip install tensorflow"
      ],
      "metadata": {
        "colab": {
          "base_uri": "https://localhost:8080/"
        },
        "id": "8GZNbchQ0d5j",
        "outputId": "b2ccb1a9-d185-4eb8-ec3a-edc6222b8ea2"
      },
      "execution_count": 1338,
      "outputs": [
        {
          "output_type": "stream",
          "name": "stdout",
          "text": [
            "Requirement already satisfied: tensorflow in /usr/local/lib/python3.10/dist-packages (2.15.0)\n",
            "Requirement already satisfied: absl-py>=1.0.0 in /usr/local/lib/python3.10/dist-packages (from tensorflow) (1.4.0)\n",
            "Requirement already satisfied: astunparse>=1.6.0 in /usr/local/lib/python3.10/dist-packages (from tensorflow) (1.6.3)\n",
            "Requirement already satisfied: flatbuffers>=23.5.26 in /usr/local/lib/python3.10/dist-packages (from tensorflow) (23.5.26)\n",
            "Requirement already satisfied: gast!=0.5.0,!=0.5.1,!=0.5.2,>=0.2.1 in /usr/local/lib/python3.10/dist-packages (from tensorflow) (0.5.4)\n",
            "Requirement already satisfied: google-pasta>=0.1.1 in /usr/local/lib/python3.10/dist-packages (from tensorflow) (0.2.0)\n",
            "Requirement already satisfied: h5py>=2.9.0 in /usr/local/lib/python3.10/dist-packages (from tensorflow) (3.9.0)\n",
            "Requirement already satisfied: libclang>=13.0.0 in /usr/local/lib/python3.10/dist-packages (from tensorflow) (16.0.6)\n",
            "Requirement already satisfied: ml-dtypes~=0.2.0 in /usr/local/lib/python3.10/dist-packages (from tensorflow) (0.2.0)\n",
            "Requirement already satisfied: numpy<2.0.0,>=1.23.5 in /usr/local/lib/python3.10/dist-packages (from tensorflow) (1.23.5)\n",
            "Requirement already satisfied: opt-einsum>=2.3.2 in /usr/local/lib/python3.10/dist-packages (from tensorflow) (3.3.0)\n",
            "Requirement already satisfied: packaging in /usr/local/lib/python3.10/dist-packages (from tensorflow) (23.2)\n",
            "Requirement already satisfied: protobuf!=4.21.0,!=4.21.1,!=4.21.2,!=4.21.3,!=4.21.4,!=4.21.5,<5.0.0dev,>=3.20.3 in /usr/local/lib/python3.10/dist-packages (from tensorflow) (3.20.3)\n",
            "Requirement already satisfied: setuptools in /usr/local/lib/python3.10/dist-packages (from tensorflow) (67.7.2)\n",
            "Requirement already satisfied: six>=1.12.0 in /usr/local/lib/python3.10/dist-packages (from tensorflow) (1.16.0)\n",
            "Requirement already satisfied: termcolor>=1.1.0 in /usr/local/lib/python3.10/dist-packages (from tensorflow) (2.4.0)\n",
            "Requirement already satisfied: typing-extensions>=3.6.6 in /usr/local/lib/python3.10/dist-packages (from tensorflow) (4.9.0)\n",
            "Requirement already satisfied: wrapt<1.15,>=1.11.0 in /usr/local/lib/python3.10/dist-packages (from tensorflow) (1.14.1)\n",
            "Requirement already satisfied: tensorflow-io-gcs-filesystem>=0.23.1 in /usr/local/lib/python3.10/dist-packages (from tensorflow) (0.36.0)\n",
            "Requirement already satisfied: grpcio<2.0,>=1.24.3 in /usr/local/lib/python3.10/dist-packages (from tensorflow) (1.60.1)\n",
            "Requirement already satisfied: tensorboard<2.16,>=2.15 in /usr/local/lib/python3.10/dist-packages (from tensorflow) (2.15.1)\n",
            "Requirement already satisfied: tensorflow-estimator<2.16,>=2.15.0 in /usr/local/lib/python3.10/dist-packages (from tensorflow) (2.15.0)\n",
            "Requirement already satisfied: keras<2.16,>=2.15.0 in /usr/local/lib/python3.10/dist-packages (from tensorflow) (2.15.0)\n",
            "Requirement already satisfied: wheel<1.0,>=0.23.0 in /usr/local/lib/python3.10/dist-packages (from astunparse>=1.6.0->tensorflow) (0.42.0)\n",
            "Requirement already satisfied: google-auth<3,>=1.6.3 in /usr/local/lib/python3.10/dist-packages (from tensorboard<2.16,>=2.15->tensorflow) (2.17.3)\n",
            "Requirement already satisfied: google-auth-oauthlib<2,>=0.5 in /usr/local/lib/python3.10/dist-packages (from tensorboard<2.16,>=2.15->tensorflow) (1.2.0)\n",
            "Requirement already satisfied: markdown>=2.6.8 in /usr/local/lib/python3.10/dist-packages (from tensorboard<2.16,>=2.15->tensorflow) (3.5.2)\n",
            "Requirement already satisfied: requests<3,>=2.21.0 in /usr/local/lib/python3.10/dist-packages (from tensorboard<2.16,>=2.15->tensorflow) (2.31.0)\n",
            "Requirement already satisfied: tensorboard-data-server<0.8.0,>=0.7.0 in /usr/local/lib/python3.10/dist-packages (from tensorboard<2.16,>=2.15->tensorflow) (0.7.2)\n",
            "Requirement already satisfied: werkzeug>=1.0.1 in /usr/local/lib/python3.10/dist-packages (from tensorboard<2.16,>=2.15->tensorflow) (3.0.1)\n",
            "Requirement already satisfied: cachetools<6.0,>=2.0.0 in /usr/local/lib/python3.10/dist-packages (from google-auth<3,>=1.6.3->tensorboard<2.16,>=2.15->tensorflow) (5.3.2)\n",
            "Requirement already satisfied: pyasn1-modules>=0.2.1 in /usr/local/lib/python3.10/dist-packages (from google-auth<3,>=1.6.3->tensorboard<2.16,>=2.15->tensorflow) (0.3.0)\n",
            "Requirement already satisfied: rsa<5,>=3.1.4 in /usr/local/lib/python3.10/dist-packages (from google-auth<3,>=1.6.3->tensorboard<2.16,>=2.15->tensorflow) (4.9)\n",
            "Requirement already satisfied: requests-oauthlib>=0.7.0 in /usr/local/lib/python3.10/dist-packages (from google-auth-oauthlib<2,>=0.5->tensorboard<2.16,>=2.15->tensorflow) (1.3.1)\n",
            "Requirement already satisfied: charset-normalizer<4,>=2 in /usr/local/lib/python3.10/dist-packages (from requests<3,>=2.21.0->tensorboard<2.16,>=2.15->tensorflow) (3.3.2)\n",
            "Requirement already satisfied: idna<4,>=2.5 in /usr/local/lib/python3.10/dist-packages (from requests<3,>=2.21.0->tensorboard<2.16,>=2.15->tensorflow) (3.6)\n",
            "Requirement already satisfied: urllib3<3,>=1.21.1 in /usr/local/lib/python3.10/dist-packages (from requests<3,>=2.21.0->tensorboard<2.16,>=2.15->tensorflow) (2.0.7)\n",
            "Requirement already satisfied: certifi>=2017.4.17 in /usr/local/lib/python3.10/dist-packages (from requests<3,>=2.21.0->tensorboard<2.16,>=2.15->tensorflow) (2024.2.2)\n",
            "Requirement already satisfied: MarkupSafe>=2.1.1 in /usr/local/lib/python3.10/dist-packages (from werkzeug>=1.0.1->tensorboard<2.16,>=2.15->tensorflow) (2.1.5)\n",
            "Requirement already satisfied: pyasn1<0.6.0,>=0.4.6 in /usr/local/lib/python3.10/dist-packages (from pyasn1-modules>=0.2.1->google-auth<3,>=1.6.3->tensorboard<2.16,>=2.15->tensorflow) (0.5.1)\n",
            "Requirement already satisfied: oauthlib>=3.0.0 in /usr/local/lib/python3.10/dist-packages (from requests-oauthlib>=0.7.0->google-auth-oauthlib<2,>=0.5->tensorboard<2.16,>=2.15->tensorflow) (3.2.2)\n"
          ]
        }
      ]
    },
    {
      "cell_type": "code",
      "source": [
        "\n",
        "\n",
        "from sklearn.model_selection import GridSearchCV\n",
        "from sklearn.metrics import make_scorer\n",
        "import numpy as np\n",
        "import tensorflow as tf\n",
        "from tensorflow import keras\n",
        "from scikeras.wrappers import KerasRegressor\n",
        "\n",
        "\n",
        "\n",
        "def model1(neurons=20, activation='relu', optimizer='adam'):\n",
        "    model = Sequential()\n",
        "    model.add(Dense(12, activation=tf.keras.layers.LeakyReLU(alpha=0.01), bias_initializer='zeros', input_shape=(12,)))\n",
        "    model.add(Dense(neurons, activation=activation))\n",
        "    model.add(Dense(neurons, activation=activation))\n",
        "    model.add(Dense(neurons, activation=activation))\n",
        "    model.add(Dense(neurons, activation=activation))\n",
        "    model.add(Dense(1))\n",
        "    model.compile(optimizer=optimizer, loss='mean_squared_error')\n",
        "    return model\n",
        "\n",
        "# Create KerasRegressor\n",
        "model = keras.wrappers.scikit_learn.KerasRegressor(build_fn=model1, verbose=0)\n",
        "\n",
        "# Define hyperparameters to tune\n",
        "param_grid = {\n",
        "    'neurons': [20, 30, 40],\n",
        "    'activation': ['relu', 'tanh', 'sigmoid'],\n",
        "    'optimizer': ['adam', 'sgd']\n",
        "}\n",
        "\n",
        "# Define scoring function (negative MSE)\n",
        "scoring = make_scorer(mean_squared_error, greater_is_better=False)\n",
        "\n",
        "# Perform grid search with cross-validation\n",
        "grid = GridSearchCV(estimator=model, param_grid=param_grid, scoring=scoring, cv=3)\n",
        "grid_result = grid.fit(X_train, y_train)\n",
        "\n",
        "# Summarize results\n",
        "print(\"Best MSE: {:.4f} using {}\".format(grid_result.best_score_, grid_result.best_params_))\n"
      ],
      "metadata": {
        "id": "YEnNHBwlFFLb",
        "colab": {
          "base_uri": "https://localhost:8080/",
          "height": 383
        },
        "outputId": "58a0be02-1c0c-48a1-a7b6-586aa84284c4"
      },
      "execution_count": 1342,
      "outputs": [
        {
          "output_type": "error",
          "ename": "ModuleNotFoundError",
          "evalue": "No module named 'scikeras'",
          "traceback": [
            "\u001b[0;31m---------------------------------------------------------------------------\u001b[0m",
            "\u001b[0;31mModuleNotFoundError\u001b[0m                       Traceback (most recent call last)",
            "\u001b[0;32m<ipython-input-1342-27ccfe08309e>\u001b[0m in \u001b[0;36m<cell line: 6>\u001b[0;34m()\u001b[0m\n\u001b[1;32m      4\u001b[0m \u001b[0;32mimport\u001b[0m \u001b[0mtensorflow\u001b[0m \u001b[0;32mas\u001b[0m \u001b[0mtf\u001b[0m\u001b[0;34m\u001b[0m\u001b[0;34m\u001b[0m\u001b[0m\n\u001b[1;32m      5\u001b[0m \u001b[0;32mfrom\u001b[0m \u001b[0mtensorflow\u001b[0m \u001b[0;32mimport\u001b[0m \u001b[0mkeras\u001b[0m\u001b[0;34m\u001b[0m\u001b[0;34m\u001b[0m\u001b[0m\n\u001b[0;32m----> 6\u001b[0;31m \u001b[0;32mfrom\u001b[0m \u001b[0mscikeras\u001b[0m\u001b[0;34m.\u001b[0m\u001b[0mwrappers\u001b[0m \u001b[0;32mimport\u001b[0m \u001b[0mKerasRegressor\u001b[0m\u001b[0;34m\u001b[0m\u001b[0;34m\u001b[0m\u001b[0m\n\u001b[0m\u001b[1;32m      7\u001b[0m \u001b[0;34m\u001b[0m\u001b[0m\n\u001b[1;32m      8\u001b[0m \u001b[0;34m\u001b[0m\u001b[0m\n",
            "\u001b[0;31mModuleNotFoundError\u001b[0m: No module named 'scikeras'",
            "",
            "\u001b[0;31m---------------------------------------------------------------------------\u001b[0;32m\nNOTE: If your import is failing due to a missing package, you can\nmanually install dependencies using either !pip or !apt.\n\nTo view examples of installing some common dependencies, click the\n\"Open Examples\" button below.\n\u001b[0;31m---------------------------------------------------------------------------\u001b[0m\n"
          ],
          "errorDetails": {
            "actions": [
              {
                "action": "open_url",
                "actionText": "Open Examples",
                "url": "/notebooks/snippets/importing_libraries.ipynb"
              }
            ]
          }
        }
      ]
    },
    {
      "cell_type": "code",
      "source": [
        "import numpy as np\n",
        "from sklearn.model_selection import GridSearchCV\n",
        "from sklearn.metrics import make_scorer\n",
        "from tensorflow.keras.models import Sequential\n",
        "from tensorflow.keras.layers import Dense, LeakyReLU\n",
        "from tensorflow.keras.optimizers import Adam, SGD\n",
        "\n",
        "# Function to create your Keras model\n",
        "def create_model(neurons=20, activation='relu', optimizer='adam'):\n",
        "    model = Sequential()\n",
        "    model.add(Dense(12, activation=LeakyReLU(alpha=0.01), bias_initializer='zeros', input_shape=(12,)))\n",
        "    model.add(Dense(neurons, activation=activation))\n",
        "    model.add(Dense(neurons, activation=activation))\n",
        "    model.add(Dense(neurons, activation=activation))\n",
        "    model.add(Dense(neurons, activation=activation))\n",
        "    model.add(Dense(1))\n",
        "    model.compile(loss='mean_squared_error', optimizer=optimizer)\n",
        "    return model\n",
        "\n",
        "# Define hyperparameters to tune\n",
        "param_grid = {\n",
        "    'neurons': [20, 30, 40],\n",
        "    'activation': ['relu', 'tanh', 'sigmoid'],\n",
        "    'optimizer': ['adam', 'sgd']\n",
        "}\n",
        "\n",
        "# Define scoring function (negative MSE)\n",
        "scoring = make_scorer(mean_squared_error, greater_is_better=False)\n",
        "\n",
        "# Create a Scikit-learn estimator using the model creation function\n",
        "estimator = GridSearchCV(create_model, param_grid, scoring=scoring, cv=3)\n",
        "\n",
        "# Fit the grid search estimator with your training data\n",
        "estimator.fit(X_train, Y_train)\n",
        "\n",
        "# Retrieve and print the best model and its parameters\n",
        "best_model = estimator.best_estimator_\n",
        "best_params = estimator.best_params_\n",
        "\n",
        "print(\"Best MSE:\", -estimator.best_score_)  # Use negative MSE for clarity\n",
        "print(\"Best model parameters:\", best_params)\n",
        "\n",
        "# Use the best model for prediction (adjust based on your data shape)\n",
        "predictions = best_model.predict(X_test)\n"
      ],
      "metadata": {
        "colab": {
          "base_uri": "https://localhost:8080/",
          "height": 407
        },
        "id": "Z1lrLM4P3zL_",
        "outputId": "f2dbb206-f05e-4742-9247-1e0e9b5e0fa1"
      },
      "execution_count": 1344,
      "outputs": [
        {
          "output_type": "error",
          "ename": "TypeError",
          "evalue": "Cannot clone object '<function create_model at 0x7dd87ebbf250>' (type <class 'function'>): it does not seem to be a scikit-learn estimator as it does not implement a 'get_params' method.",
          "traceback": [
            "\u001b[0;31m---------------------------------------------------------------------------\u001b[0m",
            "\u001b[0;31mTypeError\u001b[0m                                 Traceback (most recent call last)",
            "\u001b[0;32m<ipython-input-1344-522477ad6f0d>\u001b[0m in \u001b[0;36m<cell line: 34>\u001b[0;34m()\u001b[0m\n\u001b[1;32m     32\u001b[0m \u001b[0;34m\u001b[0m\u001b[0m\n\u001b[1;32m     33\u001b[0m \u001b[0;31m# Fit the grid search estimator with your training data\u001b[0m\u001b[0;34m\u001b[0m\u001b[0;34m\u001b[0m\u001b[0m\n\u001b[0;32m---> 34\u001b[0;31m \u001b[0mestimator\u001b[0m\u001b[0;34m.\u001b[0m\u001b[0mfit\u001b[0m\u001b[0;34m(\u001b[0m\u001b[0mX_train\u001b[0m\u001b[0;34m,\u001b[0m \u001b[0mY_train\u001b[0m\u001b[0;34m)\u001b[0m\u001b[0;34m\u001b[0m\u001b[0;34m\u001b[0m\u001b[0m\n\u001b[0m\u001b[1;32m     35\u001b[0m \u001b[0;34m\u001b[0m\u001b[0m\n\u001b[1;32m     36\u001b[0m \u001b[0;31m# Retrieve and print the best model and its parameters\u001b[0m\u001b[0;34m\u001b[0m\u001b[0;34m\u001b[0m\u001b[0m\n",
            "\u001b[0;32m/usr/local/lib/python3.10/dist-packages/sklearn/model_selection/_search.py\u001b[0m in \u001b[0;36mfit\u001b[0;34m(self, X, y, groups, **fit_params)\u001b[0m\n\u001b[1;32m    786\u001b[0m         \u001b[0mn_splits\u001b[0m \u001b[0;34m=\u001b[0m \u001b[0mcv_orig\u001b[0m\u001b[0;34m.\u001b[0m\u001b[0mget_n_splits\u001b[0m\u001b[0;34m(\u001b[0m\u001b[0mX\u001b[0m\u001b[0;34m,\u001b[0m \u001b[0my\u001b[0m\u001b[0;34m,\u001b[0m \u001b[0mgroups\u001b[0m\u001b[0;34m)\u001b[0m\u001b[0;34m\u001b[0m\u001b[0;34m\u001b[0m\u001b[0m\n\u001b[1;32m    787\u001b[0m \u001b[0;34m\u001b[0m\u001b[0m\n\u001b[0;32m--> 788\u001b[0;31m         \u001b[0mbase_estimator\u001b[0m \u001b[0;34m=\u001b[0m \u001b[0mclone\u001b[0m\u001b[0;34m(\u001b[0m\u001b[0mself\u001b[0m\u001b[0;34m.\u001b[0m\u001b[0mestimator\u001b[0m\u001b[0;34m)\u001b[0m\u001b[0;34m\u001b[0m\u001b[0;34m\u001b[0m\u001b[0m\n\u001b[0m\u001b[1;32m    789\u001b[0m \u001b[0;34m\u001b[0m\u001b[0m\n\u001b[1;32m    790\u001b[0m         \u001b[0mparallel\u001b[0m \u001b[0;34m=\u001b[0m \u001b[0mParallel\u001b[0m\u001b[0;34m(\u001b[0m\u001b[0mn_jobs\u001b[0m\u001b[0;34m=\u001b[0m\u001b[0mself\u001b[0m\u001b[0;34m.\u001b[0m\u001b[0mn_jobs\u001b[0m\u001b[0;34m,\u001b[0m \u001b[0mpre_dispatch\u001b[0m\u001b[0;34m=\u001b[0m\u001b[0mself\u001b[0m\u001b[0;34m.\u001b[0m\u001b[0mpre_dispatch\u001b[0m\u001b[0;34m)\u001b[0m\u001b[0;34m\u001b[0m\u001b[0;34m\u001b[0m\u001b[0m\n",
            "\u001b[0;32m/usr/local/lib/python3.10/dist-packages/sklearn/base.py\u001b[0m in \u001b[0;36mclone\u001b[0;34m(estimator, safe)\u001b[0m\n\u001b[1;32m     77\u001b[0m                 )\n\u001b[1;32m     78\u001b[0m             \u001b[0;32melse\u001b[0m\u001b[0;34m:\u001b[0m\u001b[0;34m\u001b[0m\u001b[0;34m\u001b[0m\u001b[0m\n\u001b[0;32m---> 79\u001b[0;31m                 raise TypeError(\n\u001b[0m\u001b[1;32m     80\u001b[0m                     \u001b[0;34m\"Cannot clone object '%s' (type %s): \"\u001b[0m\u001b[0;34m\u001b[0m\u001b[0;34m\u001b[0m\u001b[0m\n\u001b[1;32m     81\u001b[0m                     \u001b[0;34m\"it does not seem to be a scikit-learn \"\u001b[0m\u001b[0;34m\u001b[0m\u001b[0;34m\u001b[0m\u001b[0m\n",
            "\u001b[0;31mTypeError\u001b[0m: Cannot clone object '<function create_model at 0x7dd87ebbf250>' (type <class 'function'>): it does not seem to be a scikit-learn estimator as it does not implement a 'get_params' method."
          ]
        }
      ]
    },
    {
      "cell_type": "code",
      "source": [
        "network.summary()"
      ],
      "metadata": {
        "colab": {
          "base_uri": "https://localhost:8080/"
        },
        "id": "NRTcMCeGeC-a",
        "outputId": "f3ab5c80-c4bf-4d54-bf1f-28e0a01387cc"
      },
      "execution_count": 1331,
      "outputs": [
        {
          "output_type": "stream",
          "name": "stdout",
          "text": [
            "Model: \"sequential_19\"\n",
            "_________________________________________________________________\n",
            " Layer (type)                Output Shape              Param #   \n",
            "=================================================================\n",
            " dense_84 (Dense)            (None, 12)                156       \n",
            "                                                                 \n",
            " dense_85 (Dense)            (None, 20)                260       \n",
            "                                                                 \n",
            " dense_86 (Dense)            (None, 20)                420       \n",
            "                                                                 \n",
            " dense_87 (Dense)            (None, 20)                420       \n",
            "                                                                 \n",
            " dense_88 (Dense)            (None, 20)                420       \n",
            "                                                                 \n",
            " dense_89 (Dense)            (None, 1)                 21        \n",
            "                                                                 \n",
            "=================================================================\n",
            "Total params: 1697 (6.63 KB)\n",
            "Trainable params: 1697 (6.63 KB)\n",
            "Non-trainable params: 0 (0.00 Byte)\n",
            "_________________________________________________________________\n"
          ]
        }
      ]
    },
    {
      "cell_type": "code",
      "source": [],
      "metadata": {
        "id": "kqc6wZ-CtyO5"
      },
      "execution_count": 1334,
      "outputs": []
    },
    {
      "cell_type": "code",
      "source": [],
      "metadata": {
        "id": "wVEj6m3atyMO"
      },
      "execution_count": 1334,
      "outputs": []
    },
    {
      "cell_type": "code",
      "source": [],
      "metadata": {
        "id": "DazyisjItyJf"
      },
      "execution_count": 1334,
      "outputs": []
    },
    {
      "cell_type": "code",
      "source": [],
      "metadata": {
        "id": "pAS9anHztyGs"
      },
      "execution_count": 1334,
      "outputs": []
    },
    {
      "cell_type": "code",
      "source": [],
      "metadata": {
        "id": "zTHAx1E2FFGp"
      },
      "execution_count": 1334,
      "outputs": []
    }
  ]
}